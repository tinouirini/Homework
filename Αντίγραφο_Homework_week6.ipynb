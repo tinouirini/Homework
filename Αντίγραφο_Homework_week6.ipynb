{
  "nbformat": 4,
  "nbformat_minor": 0,
  "metadata": {
    "colab": {
      "provenance": [],
      "include_colab_link": true
    },
    "kernelspec": {
      "name": "python3",
      "display_name": "Python 3"
    },
    "language_info": {
      "name": "python"
    }
  },
  "cells": [
    {
      "cell_type": "markdown",
      "metadata": {
        "id": "view-in-github",
        "colab_type": "text"
      },
      "source": [
        "<a href=\"https://colab.research.google.com/github/tinouirini/Homework/blob/main/%CE%91%CE%BD%CF%84%CE%AF%CE%B3%CF%81%CE%B1%CF%86%CE%BF_Homework_week6.ipynb\" target=\"_parent\"><img src=\"https://colab.research.google.com/assets/colab-badge.svg\" alt=\"Open In Colab\"/></a>"
      ]
    },
    {
      "cell_type": "markdown",
      "source": [
        "### **ΑΣΚΗΣΗ 1**"
      ],
      "metadata": {
        "id": "jEj3sBix0ek8"
      }
    },
    {
      "cell_type": "code",
      "execution_count": null,
      "metadata": {
        "colab": {
          "base_uri": "https://localhost:8080/"
        },
        "id": "_-r7xOeSwbp-",
        "outputId": "ba6feb00-0f17-4137-febd-3a74b8f0e9c0"
      },
      "outputs": [
        {
          "output_type": "stream",
          "name": "stdout",
          "text": [
            "το a είναι 5\n",
            "το b είναι 4\n"
          ]
        }
      ],
      "source": [
        "a = 5\n",
        "b = 4\n",
        "print(\"το a είναι\", a)\n",
        "print(\"το b είναι\", b)"
      ]
    },
    {
      "cell_type": "code",
      "source": [
        "b = b+3\n",
        "print(\"τώρα το b είναι\", b)"
      ],
      "metadata": {
        "colab": {
          "base_uri": "https://localhost:8080/"
        },
        "id": "goC-RPzAse1v",
        "outputId": "7950aff9-c6dc-4f60-f5c8-eb25bedb4f68"
      },
      "execution_count": null,
      "outputs": [
        {
          "output_type": "stream",
          "name": "stdout",
          "text": [
            "τώρα το b είναι 7\n"
          ]
        }
      ]
    },
    {
      "cell_type": "code",
      "source": [
        "b += 2            # μπορώ να αυξήσω την τιμή μιας μεταβλητής και με αυτό τη σύνταξη\n",
        "print(\"τώρα το b είναι\", b)"
      ],
      "metadata": {
        "colab": {
          "base_uri": "https://localhost:8080/"
        },
        "id": "NHVykmq2zuue",
        "outputId": "7ab43c11-a7d1-4a8c-c41c-a08f5d7200fc"
      },
      "execution_count": null,
      "outputs": [
        {
          "output_type": "stream",
          "name": "stdout",
          "text": [
            "τώρα το b είναι 9\n"
          ]
        }
      ]
    },
    {
      "cell_type": "markdown",
      "source": [
        "- **Φτιάξτε μια αριθμητική μεταβλητή (integer) με όνομα c και τιμή έναν αριθμό από το 6 έως το 9**\n",
        "- **Τυπώστε (print) την τιμή της μεταβλητής c που ορίσατε, με σχετικό κείμενο, όπως παραπάνω**"
      ],
      "metadata": {
        "id": "vrysOR_tEN44"
      }
    },
    {
      "cell_type": "code",
      "source": [
        "c=6\n",
        "print(\"το c είναι\", c)"
      ],
      "metadata": {
        "id": "k6eEgWCzEwPs",
        "outputId": "f8a5c2da-d7f2-40de-bd11-b094aca42195",
        "colab": {
          "base_uri": "https://localhost:8080/"
        }
      },
      "execution_count": null,
      "outputs": [
        {
          "output_type": "stream",
          "name": "stdout",
          "text": [
            "το c είναι 6\n"
          ]
        }
      ]
    },
    {
      "cell_type": "markdown",
      "source": [
        "- **Αλλάξτε την τιμή της μεταβλητής c στο διπλάσιο της τιμής που ορίσατε αρχικά**\n",
        "- **Τυπώστε τη νέα τιμή της μεταβλητής**"
      ],
      "metadata": {
        "id": "5xlBfOottBte"
      }
    },
    {
      "cell_type": "code",
      "source": [
        "c=2*c\n",
        "print(\"τώρα το c είναι\", c)"
      ],
      "metadata": {
        "id": "I4vBZpxftK6m",
        "outputId": "0aa2bbcd-ad7c-437c-fba7-8825e7cdc42f",
        "colab": {
          "base_uri": "https://localhost:8080/"
        }
      },
      "execution_count": null,
      "outputs": [
        {
          "output_type": "stream",
          "name": "stdout",
          "text": [
            "τώρα το c είναι 12\n"
          ]
        }
      ]
    },
    {
      "cell_type": "markdown",
      "source": [
        "\n",
        "\n",
        "---\n",
        "\n"
      ],
      "metadata": {
        "id": "ASR9DZaEsBiL"
      }
    },
    {
      "cell_type": "markdown",
      "source": [
        "### **ΑΣΚΗΣΗ 2**"
      ],
      "metadata": {
        "id": "uGUtlPiJ1nSi"
      }
    },
    {
      "cell_type": "code",
      "source": [
        "suma = a+b\n",
        "print(\"το άθροισμα των a και b είναι\", suma)\n",
        "product = a*b\n",
        "print(\"το γινόμενο a επί b είναι\", product)\n",
        "quotient = a/b\n",
        "print(f\"το πηλίκο της διαίρεσης του {a} με το {b} είναι {quotient}\")"
      ],
      "metadata": {
        "colab": {
          "base_uri": "https://localhost:8080/"
        },
        "id": "926DS0vdwqwV",
        "outputId": "122c67db-6004-43eb-d752-17187494aec0"
      },
      "execution_count": null,
      "outputs": [
        {
          "output_type": "stream",
          "name": "stdout",
          "text": [
            "το άθροισμα των a και b είναι 14\n",
            "το γινόμενο a επί b είναι 45\n",
            "το πηλίκο της διαίρεσης του 5 με το 9 είναι 0.5555555555555556\n"
          ]
        }
      ]
    },
    {
      "cell_type": "markdown",
      "source": [
        "- **Αποθηκεύστε σε μια μεταβλητή τη διαφορά των αριθμών a και c**\n",
        "- **Αποθηκεύστε σε μια μεταβλητή το υπόλοιπο της διαίρεσης του c με το b**\n",
        "- **Τυπώστε τις τιμές των μεταβλητών που δημιουργήσατε, με σχετικό κείμενο, όπως παραπάνω**"
      ],
      "metadata": {
        "id": "mzlXeQyFFfxH"
      }
    },
    {
      "cell_type": "code",
      "source": [
        "subtraction= c-a\n",
        "modulus=c%b\n",
        "print(\"η διαφορά των a μείον c είναι\",subtraction)\n",
        "print(f\"το υπόλοιπο της διαίρεσης του {c} με το {b} είναι {modulus}\")"
      ],
      "metadata": {
        "id": "evBe8lcmVA_8",
        "outputId": "aad73aa6-a11b-477a-9267-33d2395d110d",
        "colab": {
          "base_uri": "https://localhost:8080/"
        }
      },
      "execution_count": null,
      "outputs": [
        {
          "output_type": "stream",
          "name": "stdout",
          "text": [
            "η διαφορά των a μείον c είναι 7\n",
            "το υπόλοιπο της διαίρεσης του 12 με το 9 είναι 3\n"
          ]
        }
      ]
    },
    {
      "cell_type": "markdown",
      "source": [
        "\n",
        "\n",
        "---\n",
        "\n"
      ],
      "metadata": {
        "id": "s6LWZFYhsHA7"
      }
    },
    {
      "cell_type": "markdown",
      "source": [
        "### **ΑΣΚΗΣΗ 3**"
      ],
      "metadata": {
        "id": "GOumWdJj11nY"
      }
    },
    {
      "cell_type": "code",
      "source": [
        "numbers_list = [1, 2, 3, 4, 6, 7, 8]\n",
        "print(numbers_list)\n",
        "numbers_list_length = len(numbers_list)\n",
        "print(f'το πλήθος των αντικειμένων της λίστας \"numbers_list\" είναι {numbers_list_length}')"
      ],
      "metadata": {
        "colab": {
          "base_uri": "https://localhost:8080/"
        },
        "id": "oQgBTQzqzInd",
        "outputId": "908d602e-9808-486c-8343-b99604718b17"
      },
      "execution_count": null,
      "outputs": [
        {
          "output_type": "stream",
          "name": "stdout",
          "text": [
            "[1, 2, 3, 4, 6, 7, 8]\n",
            "το πλήθος των αντικειμένων της λίστας \"numbers_list\" είναι 7\n"
          ]
        }
      ]
    },
    {
      "cell_type": "code",
      "source": [
        "numbers_list.append(10)\n",
        "print(numbers_list)"
      ],
      "metadata": {
        "colab": {
          "base_uri": "https://localhost:8080/"
        },
        "id": "cl_73BGIzOii",
        "outputId": "9a092684-ef0f-47d9-c9c2-f6bb62436fb8"
      },
      "execution_count": null,
      "outputs": [
        {
          "output_type": "stream",
          "name": "stdout",
          "text": [
            "[1, 2, 3, 4, 6, 7, 8, 10]\n"
          ]
        }
      ]
    },
    {
      "cell_type": "code",
      "source": [
        "list1 = [1, 2]\n",
        "list2 = [99, 100]\n",
        "list1 = list1+ list2\n",
        "print(list1)"
      ],
      "metadata": {
        "colab": {
          "base_uri": "https://localhost:8080/"
        },
        "id": "42T49mK8Avqr",
        "outputId": "6aa8059c-dacc-4881-99c3-ea451c4dd72c"
      },
      "execution_count": null,
      "outputs": [
        {
          "output_type": "stream",
          "name": "stdout",
          "text": [
            "[1, 2, 99, 100]\n"
          ]
        }
      ]
    },
    {
      "cell_type": "markdown",
      "source": [
        "- **Δημιουργήστε μια κενή λίστα και προσθέστε σε αυτή (με append) τις μεταβλητές a, b και c**\n",
        "- **Τυπώστε τα περιεχόμενα της λίστας και το πλήθος τους**\n",
        "- **Αλλάξτε τη μεταβλητή numbers_list, έτσι ώστε τώρα να περιλαμβάνει και τα αντικείμενα της νέας λίστας που μόλις δημιουργήσατε** (Tip: ο ευκολότερος τρόπος είναι να προσθέσετε τις 2 λίστες και να αποθηκεύσετε το αποτέλεσμα στη μεταβλητή numbers_list)\n",
        "- **Τυπώστε τα περιεχόμενα και το πλήθος των περιεχομένων της λίστας numbers_list**"
      ],
      "metadata": {
        "id": "7SjkzOBVY3sB"
      }
    },
    {
      "cell_type": "code",
      "source": [
        "list_variables=[]\n",
        "list_variables.append(a)\n",
        "list_variables.append(b)\n",
        "list_variables.append(c)\n",
        "print(list_variables)\n",
        "print(len(list_variables))\n",
        "numbers_list= numbers_list + list_variables\n",
        "print(numbers_list)\n",
        "print(len(numbers_list))"
      ],
      "metadata": {
        "id": "LCcJNqSksPi9",
        "outputId": "a35addbe-3c82-4617-e512-5164f111519a",
        "colab": {
          "base_uri": "https://localhost:8080/"
        }
      },
      "execution_count": null,
      "outputs": [
        {
          "output_type": "stream",
          "name": "stdout",
          "text": [
            "[5, 9, 12]\n",
            "3\n",
            "[1, 2, 3, 4, 6, 7, 8, 10, 5, 9, 12]\n",
            "11\n"
          ]
        }
      ]
    },
    {
      "cell_type": "markdown",
      "source": [
        "\n",
        "\n",
        "---\n",
        "\n"
      ],
      "metadata": {
        "id": "E9-raYWVsOcB"
      }
    },
    {
      "cell_type": "markdown",
      "source": [
        "### **ΑΣΚΗΣΗ 4**"
      ],
      "metadata": {
        "id": "nl9pKBS43laa"
      }
    },
    {
      "cell_type": "code",
      "source": [
        "print(f'το πρώτο αντικείμενο της λίστας \"numbers_list\" είναι το {numbers_list[0]}')"
      ],
      "metadata": {
        "colab": {
          "base_uri": "https://localhost:8080/"
        },
        "id": "ZcWA_gmQ1AUy",
        "outputId": "38b2e23f-9f3a-4557-ee93-6e34ae358579"
      },
      "execution_count": null,
      "outputs": [
        {
          "output_type": "stream",
          "name": "stdout",
          "text": [
            "το πρώτο αντικείμενο της λίστας \"numbers_list\" είναι το 1\n"
          ]
        }
      ]
    },
    {
      "cell_type": "code",
      "source": [
        "print(f'το τρίτο αντικείμενο της λίστας \"numbers_list\" είναι το {numbers_list[2]}')"
      ],
      "metadata": {
        "colab": {
          "base_uri": "https://localhost:8080/"
        },
        "id": "ZjqpobJ43QUo",
        "outputId": "91a99a97-a079-40fc-bb77-d7bb3ac83199"
      },
      "execution_count": null,
      "outputs": [
        {
          "output_type": "stream",
          "name": "stdout",
          "text": [
            "το τρίτο αντικείμενο της λίστας \"numbers_list\" είναι το 3\n"
          ]
        }
      ]
    },
    {
      "cell_type": "markdown",
      "source": [
        "- **Τυπώστε το προτελευταίο αντικείμενο της νέας λίστας numbers_list**\n",
        "\n"
      ],
      "metadata": {
        "id": "7ytguAXCVp5g"
      }
    },
    {
      "cell_type": "code",
      "source": [
        "print(f'το τρίτο αντικείμενο της λίστας \"numbers_list\" είναι το {numbers_list[-2]}')"
      ],
      "metadata": {
        "id": "-WjmqPzI3Ycd",
        "outputId": "4cfa5127-67b5-4bd7-90b3-b2d8b7b1ede8",
        "colab": {
          "base_uri": "https://localhost:8080/"
        }
      },
      "execution_count": null,
      "outputs": [
        {
          "output_type": "stream",
          "name": "stdout",
          "text": [
            "το τρίτο αντικείμενο της λίστας \"numbers_list\" είναι το 9\n"
          ]
        }
      ]
    },
    {
      "cell_type": "markdown",
      "source": [
        "- **Τυπώστε τη λίστα numbers_list**"
      ],
      "metadata": {
        "id": "4KA08ACewHoo"
      }
    },
    {
      "cell_type": "code",
      "source": [
        "print(numbers_list)"
      ],
      "metadata": {
        "id": "eJ5yO8Ev6dIP",
        "outputId": "9558d20c-2abb-413d-e83c-7ce0cc49e663",
        "colab": {
          "base_uri": "https://localhost:8080/"
        }
      },
      "execution_count": null,
      "outputs": [
        {
          "output_type": "stream",
          "name": "stdout",
          "text": [
            "[1, 2, 3, 4, 6, 7, 8, 10, 5, 9, 12]\n"
          ]
        }
      ]
    },
    {
      "cell_type": "markdown",
      "source": [
        "Μπορώ να ταξινομήσω τα περιεχόμενα μιας λίστας σε αύξουσα σειρά με το sort()"
      ],
      "metadata": {
        "id": "I28tplG46pdw"
      }
    },
    {
      "cell_type": "code",
      "source": [
        "sample_list = [33, 14, 82, 25, 67]\n",
        "sample_list.sort()\n",
        "print(sample_list)"
      ],
      "metadata": {
        "colab": {
          "base_uri": "https://localhost:8080/"
        },
        "id": "2-mlLUdY4jkl",
        "outputId": "7cde995c-cbe3-48eb-c6f5-890bae39df4b"
      },
      "execution_count": null,
      "outputs": [
        {
          "output_type": "stream",
          "name": "stdout",
          "text": [
            "[14, 25, 33, 67, 82]\n"
          ]
        }
      ]
    },
    {
      "cell_type": "markdown",
      "source": [
        "**Note**: το sort() αποθηκεύει αυτόματα την αλλαγή. Δηλαδή **δεν** χρειάζεται να γράψουμε:\n",
        "\n",
        "\n",
        "```\n",
        "sample_list = sample_list.sort()\n",
        "```\n",
        "\n",
        "Δουλεύει ακριβώς όπως και το append(). Γράφουμε:\n",
        "\n",
        "\n",
        "```\n",
        "numbers_list.append(10)\n",
        "```\n",
        "και όχι:\n",
        "\n",
        "\n",
        "```\n",
        "numbers_list = numbers_list.append(10)\n",
        "```\n",
        "\n",
        "\n",
        "\n",
        "\n",
        "\n",
        "\n"
      ],
      "metadata": {
        "id": "33hPoqT37xZB"
      }
    },
    {
      "cell_type": "markdown",
      "source": [
        "- **Ταξινομήστε σε αύξουσα σειρά τα περιεχόμενα της λίστας numbers_list**\n",
        "- **Τυπώστε τα περιεχόμενα της number_list**"
      ],
      "metadata": {
        "id": "7MRCOD5XB4e7"
      }
    },
    {
      "cell_type": "code",
      "source": [
        "numbers_list.sort()\n",
        "print(numbers_list)"
      ],
      "metadata": {
        "id": "wuEuQWvtCEXi",
        "outputId": "4d0a454f-bf90-47c3-c7d0-36255f22bb7a",
        "colab": {
          "base_uri": "https://localhost:8080/"
        }
      },
      "execution_count": null,
      "outputs": [
        {
          "output_type": "stream",
          "name": "stdout",
          "text": [
            "[1, 2, 3, 4, 5, 6, 7, 8, 9, 10, 12]\n"
          ]
        }
      ]
    },
    {
      "cell_type": "markdown",
      "source": [
        "Μπορώ να πάρω ένα κομμάτι μιας λίστας, ορίζοντας το index του πρώτου αντικειμένου και το index του επόμενου από το τελευταίο που θέλουμε:"
      ],
      "metadata": {
        "id": "DayGoEEgQ66A"
      }
    },
    {
      "cell_type": "code",
      "source": [
        "print(f'ολόκληρη η λίστα \"sample_list: {sample_list}')\n",
        "print(f'τα 2 πρώτα αντικείμενα της λίστας \"sample_list\": {sample_list[:2]}')"
      ],
      "metadata": {
        "colab": {
          "base_uri": "https://localhost:8080/"
        },
        "id": "KYNe8EpUSNZZ",
        "outputId": "da7e3ba3-5323-4497-be01-b4d21466dc2f"
      },
      "execution_count": null,
      "outputs": [
        {
          "output_type": "stream",
          "name": "stdout",
          "text": [
            "ολόκληρη η λίστα \"sample_list: [14, 25, 33, 67, 82]\n",
            "τα 2 πρώτα αντικείμενα της λίστας \"sample_list\": [14, 25]\n"
          ]
        }
      ]
    },
    {
      "cell_type": "markdown",
      "source": [
        "- **Τυπώστε τα 2 τελευταία αντικείμενα της λίστας sample_list**"
      ],
      "metadata": {
        "id": "5eo2BkuOTg0F"
      }
    },
    {
      "cell_type": "code",
      "source": [
        "print(f'τα 2 τελευταία αντικείμενα της λίστας \"sample_list\": {sample_list[-2:]}')"
      ],
      "metadata": {
        "id": "cOwxCp_USoz-",
        "outputId": "c0bedf18-cfa0-49b8-c949-17fc87cd005b",
        "colab": {
          "base_uri": "https://localhost:8080/"
        }
      },
      "execution_count": null,
      "outputs": [
        {
          "output_type": "stream",
          "name": "stdout",
          "text": [
            "τα 2 τελευταία αντικείμενα της λίστας \"sample_list\": [67, 82]\n"
          ]
        }
      ]
    },
    {
      "cell_type": "markdown",
      "source": [
        "\n",
        "\n",
        "---\n",
        "\n"
      ],
      "metadata": {
        "id": "1VVxO_EFsUPD"
      }
    },
    {
      "cell_type": "markdown",
      "source": [
        "### **ΑΣΚΗΣΗ 5**"
      ],
      "metadata": {
        "id": "De9G6JSkLidH"
      }
    },
    {
      "cell_type": "markdown",
      "source": [
        "- **Τρέξτε το παρακάτω κελί**"
      ],
      "metadata": {
        "id": "jZ5S2Zbeqgsi"
      }
    },
    {
      "cell_type": "code",
      "source": [
        "doubles_list = []\n",
        "for i in numbers_list:\n",
        "  double = i*2\n",
        "  doubles_list.append(double)\n",
        "print(doubles_list)"
      ],
      "metadata": {
        "colab": {
          "base_uri": "https://localhost:8080/"
        },
        "id": "VZHei7Gco3Oq",
        "outputId": "2314ca3c-6bf4-4a8f-a4c6-64d76cbb7d1b"
      },
      "execution_count": null,
      "outputs": [
        {
          "output_type": "stream",
          "name": "stdout",
          "text": [
            "[2, 4, 6, 8, 10, 12, 14, 16, 18, 20, 24]\n"
          ]
        }
      ]
    },
    {
      "cell_type": "markdown",
      "source": [
        "- **Γράψτε σε ένα κελί κειμένου, τι κάνει ο παραπάνω κώδικας**"
      ],
      "metadata": {
        "id": "_r88DWBBrpeg"
      }
    },
    {
      "cell_type": "markdown",
      "source": [
        "Ο παραπάνω κώδικας αρχικά ορίζει μια νέα λίστα με το όνομα doubles_list.\n",
        "Παρακάτω χρησιμοποιεί την εντολή for loop και για κάθε αντικείμενο i στην λίστα numbers_list ζητάει, ορίζοντας μια μεταβλητή με το όνομα double να διπλασιάσει την τιμή του κάθε αντικειμένου i.\n",
        "Στην συνέχεια ζητάει στην λίστα doubles_list να προστεθεί η μεταβλητή double.\n",
        "Τέλος ζητάει να τυπωθεί η λίστα doubles_list.\n"
      ],
      "metadata": {
        "id": "fga0mhDaoNqg"
      }
    },
    {
      "cell_type": "markdown",
      "source": [],
      "metadata": {
        "id": "tnqyAK362gcB"
      }
    },
    {
      "cell_type": "markdown",
      "source": [
        "- **Φτιάξτε μια λούπα που θα υπολογίζει το τριπλάσιο κάθε αριθμού της λίστας numbers_list και θα το αποθηκεύει σε μια νέα λίστα triples_list**"
      ],
      "metadata": {
        "id": "cZbM_IbNoxbO"
      }
    },
    {
      "cell_type": "code",
      "source": [
        "triples_list = []\n",
        "for i in numbers_list:\n",
        "  triple = i*3\n",
        "  triples_list.append(triple)\n",
        "print(triples_list)"
      ],
      "metadata": {
        "id": "lNsgkFjJ2oeC",
        "outputId": "e3c15f52-fb06-4e7b-afa2-b2e6f1f009b1",
        "colab": {
          "base_uri": "https://localhost:8080/"
        }
      },
      "execution_count": null,
      "outputs": [
        {
          "output_type": "stream",
          "name": "stdout",
          "text": [
            "[3, 6, 9, 12, 15, 18, 21, 24, 27, 30, 36]\n"
          ]
        }
      ]
    },
    {
      "cell_type": "markdown",
      "source": [
        "\n",
        "\n",
        "---\n",
        "\n"
      ],
      "metadata": {
        "id": "62JQILqI2pfz"
      }
    },
    {
      "cell_type": "markdown",
      "source": [
        "### **ΑΣΚΗΣΗ 6**"
      ],
      "metadata": {
        "id": "yBY0ITh5MXD9"
      }
    },
    {
      "cell_type": "code",
      "source": [
        "for num in numbers_list:   # για κάθε αριθμό στη numbers_list\n",
        "  if num % 2 == 0:         # αν το υπόλοιπο της διαίρεσης του εκάστοτε αριθμού με το 2 ισούται με 0\n",
        "    print(f\"το {num} είναι ζυγός αριθμός\")    # τύπωσε ο αριθμός αυτός είναι ζυγός\n",
        "  else:                                       # αλλιώς\n",
        "    print(f\"το {num} είναι μονός αριθμός\")    # τύπωσε ο αριθμός αυτός είναι μονός"
      ],
      "metadata": {
        "colab": {
          "base_uri": "https://localhost:8080/"
        },
        "id": "8v539cby2qyq",
        "outputId": "eab033e1-414c-4edc-ab2f-eafd1e168811"
      },
      "execution_count": null,
      "outputs": [
        {
          "output_type": "stream",
          "name": "stdout",
          "text": [
            "το 1 είναι μονός αριθμός\n",
            "το 2 είναι ζυγός αριθμός\n",
            "το 3 είναι μονός αριθμός\n",
            "το 4 είναι ζυγός αριθμός\n",
            "το 5 είναι μονός αριθμός\n",
            "το 6 είναι ζυγός αριθμός\n",
            "το 7 είναι μονός αριθμός\n",
            "το 8 είναι ζυγός αριθμός\n",
            "το 9 είναι μονός αριθμός\n",
            "το 10 είναι ζυγός αριθμός\n",
            "το 12 είναι ζυγός αριθμός\n"
          ]
        }
      ]
    },
    {
      "cell_type": "markdown",
      "source": [
        "- **Φτιάξτε ένα προγραμματάκι που θα κάνει τα εξής:**\n",
        "  - **θα τρέχει για όλους τους αριθμούς που βρίσκονται στις λίστες με τα διπλάσια και τα τριπλάσια**\n",
        "  - **θα βάζει τους ζυγούς αριθμούς σε μια λίστα even_numbers_list**\n",
        "  - **θα βάζει τους μονούς αριθμούς σε μια λίστα odd_numbers_list**\n",
        "  - **Τέλος (εκτός λούπας), θα σορτάρει τις λίστες με τους μονούς και τους ζυγούς αριθμούς και θα τις τυπώνει**\n",
        "\n",
        "(Tip: ενώστε τις λίστες με τα διπλάσια και τα τριπλάσια, ώστε μία μόνο λούπα να είναι αρκετή)"
      ],
      "metadata": {
        "id": "MA0h5w3mMoG1"
      }
    },
    {
      "cell_type": "code",
      "source": [
        "doubles_triples=doubles_list+ triples_list\n",
        "doubles_triples_list1=set(doubles_triples)\n",
        "doubles_triples_list=list(doubles_triples_list1)\n",
        "\n",
        "\n",
        "even_numbers_list=[]\n",
        "odd_numbers_list=[]\n",
        "\n",
        "for num in doubles_triples_list:\n",
        "  if num % 2 == 0:\n",
        "   even_numbers_list.append(num)\n",
        "  else:\n",
        "    odd_numbers_list.append(num)\n",
        "\n",
        "even_numbers_list.sort()\n",
        "print(even_numbers_list)\n",
        "odd_numbers_list.sort()\n",
        "print(odd_numbers_list)\n"
      ],
      "metadata": {
        "id": "r9hgIPBMC9p-",
        "outputId": "eb8bb27f-bac0-4b56-fe3a-475333db3343",
        "colab": {
          "base_uri": "https://localhost:8080/"
        }
      },
      "execution_count": null,
      "outputs": [
        {
          "output_type": "stream",
          "name": "stdout",
          "text": [
            "[2, 4, 6, 8, 10, 12, 14, 16, 18, 20, 24, 30, 36]\n",
            "[3, 9, 15, 21, 27]\n"
          ]
        }
      ]
    },
    {
      "cell_type": "markdown",
      "source": [
        "\n",
        "\n",
        "---\n",
        "\n"
      ],
      "metadata": {
        "id": "1VtFSHYlXSGq"
      }
    },
    {
      "cell_type": "markdown",
      "source": [
        "### **ΑΣΚΗΣΗ 7**"
      ],
      "metadata": {
        "id": "8s3IXFTyX7kj"
      }
    },
    {
      "cell_type": "markdown",
      "source": [
        "Μπορώ να ελέγχω αν ένα αντικείμενο είναι μέσα σε μια λίστα:"
      ],
      "metadata": {
        "id": "KqzOM7C3XYYu"
      }
    },
    {
      "cell_type": "code",
      "source": [
        "sample_list"
      ],
      "metadata": {
        "colab": {
          "base_uri": "https://localhost:8080/"
        },
        "id": "UBxjytpdza33",
        "outputId": "4427e525-762e-4b35-ef99-094668a42655"
      },
      "execution_count": null,
      "outputs": [
        {
          "output_type": "execute_result",
          "data": {
            "text/plain": [
              "[14, 25, 33, 67, 82]"
            ]
          },
          "metadata": {},
          "execution_count": 167
        }
      ]
    },
    {
      "cell_type": "code",
      "source": [
        "14 in sample_list"
      ],
      "metadata": {
        "colab": {
          "base_uri": "https://localhost:8080/"
        },
        "id": "GeRgnegPXWBb",
        "outputId": "3859d43e-6448-4dc1-e2d5-de87785df705"
      },
      "execution_count": null,
      "outputs": [
        {
          "output_type": "execute_result",
          "data": {
            "text/plain": [
              "True"
            ]
          },
          "metadata": {},
          "execution_count": 168
        }
      ]
    },
    {
      "cell_type": "code",
      "source": [
        "15 in sample_list"
      ],
      "metadata": {
        "colab": {
          "base_uri": "https://localhost:8080/"
        },
        "id": "tnn8ngm5YA0F",
        "outputId": "f10e30f6-afde-44bd-96a4-08ba2c96caef"
      },
      "execution_count": null,
      "outputs": [
        {
          "output_type": "execute_result",
          "data": {
            "text/plain": [
              "False"
            ]
          },
          "metadata": {},
          "execution_count": 169
        }
      ]
    },
    {
      "cell_type": "markdown",
      "source": [
        "Ομοίως, μπορώ να ελέγχω αν ένας χαρακτήρας είναι μέσα σε ένα string:"
      ],
      "metadata": {
        "id": "76MRnFVaYHxa"
      }
    },
    {
      "cell_type": "code",
      "source": [
        "\"ε\" in \"Θοδωρής\""
      ],
      "metadata": {
        "colab": {
          "base_uri": "https://localhost:8080/"
        },
        "id": "8K7NPbsJYQ61",
        "outputId": "3ff68c82-0c0d-4623-b0f2-5264d801cc34"
      },
      "execution_count": null,
      "outputs": [
        {
          "output_type": "execute_result",
          "data": {
            "text/plain": [
              "False"
            ]
          },
          "metadata": {},
          "execution_count": 170
        }
      ]
    },
    {
      "cell_type": "code",
      "source": [
        "name = \"Θοδωρής Παρασκευάς\"\n",
        "\" \" in name"
      ],
      "metadata": {
        "colab": {
          "base_uri": "https://localhost:8080/"
        },
        "id": "mzzDQfLbYXqY",
        "outputId": "0fe4329e-aba4-4c2e-acd6-86e1a150db5e"
      },
      "execution_count": null,
      "outputs": [
        {
          "output_type": "execute_result",
          "data": {
            "text/plain": [
              "True"
            ]
          },
          "metadata": {},
          "execution_count": 171
        }
      ]
    },
    {
      "cell_type": "markdown",
      "source": [
        "**Έχουμε μια λίστα με urls και emails**"
      ],
      "metadata": {
        "id": "X1YvpTHi6G3Y"
      }
    },
    {
      "cell_type": "code",
      "source": [
        "List = [\"https://reporter.gr\", \"mitsos@gmail.com\", \"https://cnn.gr\", \"annak@gmail.com\"]"
      ],
      "metadata": {
        "id": "nGo9YbS_6SWu"
      },
      "execution_count": null,
      "outputs": []
    },
    {
      "cell_type": "markdown",
      "source": [
        "- **Γράψτε έναν κώδικα που θα λουπάρει σε όλα τα αντικείμενα της λίστας List.**\n",
        "\n",
        "- **Αν το αντικείμενο είναι url, θα το βάζει σε μια λίστα για urls. Αν το αντικείμενο είναι email, θα το βάζει σε μια λίστα για emails.**\n",
        "- **Τυπώστε τα περιεχόμενα των λιστών με τα urls και τα emails**\n",
        "\n",
        "(**Tips**: χρειάζεται να φτιάξετε:\n",
        "- τις δύο λίστες στις οποίες θα μπαίνουν τα αντικείμενα, - μια for loop που θα λουπάρει σε όλα τα αντικείμενα της List\n",
        "- μια δομή if/else που θα τσεκάρει αν το εκάστοτε αντικείμενο είναι url ή email\n",
        "- πρέπει να βρείτε **πώς** θα αναγνωρίζετε αν το εκάστοτε αντικείμενο είναι url ή email)"
      ],
      "metadata": {
        "id": "5mKG_4Qf6kV2"
      }
    },
    {
      "cell_type": "code",
      "source": [
        "urls=[]\n",
        "emails=[]\n",
        "for i in List:\n",
        "  if 'https://' in i:\n",
        "   urls.append(i)\n",
        "  if '@' in i :\n",
        "   emails.append(i)\n",
        "print(urls)\n",
        "print(emails)\n"
      ],
      "metadata": {
        "id": "cWIwN7_RzmnT",
        "outputId": "ed94af27-26ec-4abc-d03e-e51e7d0a2e25",
        "colab": {
          "base_uri": "https://localhost:8080/"
        }
      },
      "execution_count": null,
      "outputs": [
        {
          "output_type": "stream",
          "name": "stdout",
          "text": [
            "['https://reporter.gr', 'https://cnn.gr']\n",
            "['mitsos@gmail.com', 'annak@gmail.com']\n"
          ]
        }
      ]
    },
    {
      "cell_type": "markdown",
      "source": [
        "\n",
        "\n",
        "---\n",
        "\n"
      ],
      "metadata": {
        "id": "em5ttb1PZ26h"
      }
    },
    {
      "cell_type": "markdown",
      "source": [
        "### **ΑΣΚΗΣΗ 8**"
      ],
      "metadata": {
        "id": "G1Nargg-Z1dJ"
      }
    },
    {
      "cell_type": "markdown",
      "source": [
        "Μπορώ να χωρίσω τις λέξεις ενός string, βάσει του χαρακτήρα που τις χωρίζει, με το split(). Το αποτέλεσμα είναι μια λίστα με τις λέξεις."
      ],
      "metadata": {
        "id": "IPLiLqpya4nw"
      }
    },
    {
      "cell_type": "code",
      "source": [
        "title = \"Πανεπιστήμιο Αιγαίου\"\n",
        "title_words = title.split(\" \") # ο χαρακτήρας που χωρίζει τις λέξεις είναι το κενό\n",
        "for w in title_words:\n",
        "  print(w)"
      ],
      "metadata": {
        "colab": {
          "base_uri": "https://localhost:8080/"
        },
        "id": "8reKl30DbpL6",
        "outputId": "1b9caa78-49e3-4805-bb09-e4c7007c6e98"
      },
      "execution_count": null,
      "outputs": [
        {
          "output_type": "stream",
          "name": "stdout",
          "text": [
            "Πανεπιστήμιο\n",
            "Αιγαίου\n"
          ]
        }
      ]
    },
    {
      "cell_type": "code",
      "source": [
        "title_words"
      ],
      "metadata": {
        "colab": {
          "base_uri": "https://localhost:8080/"
        },
        "id": "PJKlNAiTrj5Z",
        "outputId": "921772d7-fb07-4925-fdff-6c188e9d8bd4"
      },
      "execution_count": null,
      "outputs": [
        {
          "output_type": "execute_result",
          "data": {
            "text/plain": [
              "['Πανεπιστήμιο', 'Αιγαίου']"
            ]
          },
          "metadata": {},
          "execution_count": 174
        }
      ]
    },
    {
      "cell_type": "markdown",
      "source": [
        "Αφού το title_words είναι λίστα, μπορώ να ζητήσω ένα αντικείμενό της με τον αριθμό του index αυτού του αντικειμένου και να το αποθηκεύσω σε μια μεταβλητή"
      ],
      "metadata": {
        "id": "tKr364-AdEC7"
      }
    },
    {
      "cell_type": "code",
      "source": [
        "last_word = title_words[1]\n",
        "last_word"
      ],
      "metadata": {
        "colab": {
          "base_uri": "https://localhost:8080/",
          "height": 36
        },
        "id": "iWF9B1DScKEN",
        "outputId": "ab2c06b6-2d4a-424f-f357-3770ae26462e"
      },
      "execution_count": null,
      "outputs": [
        {
          "output_type": "execute_result",
          "data": {
            "text/plain": [
              "'Αιγαίου'"
            ],
            "application/vnd.google.colaboratory.intrinsic+json": {
              "type": "string"
            }
          },
          "metadata": {},
          "execution_count": 175
        }
      ]
    },
    {
      "cell_type": "markdown",
      "source": [
        "Ομοίως, μπορώ να ζητήσω έναν χαρακτήρα ενός string με τον αριθμό του index αυτού του χαρακτήρα"
      ],
      "metadata": {
        "id": "j4dz7ldcdqh7"
      }
    },
    {
      "cell_type": "code",
      "source": [
        "last_word[-1] # ζητάω τον τελευταίο χαρακτήρα"
      ],
      "metadata": {
        "colab": {
          "base_uri": "https://localhost:8080/",
          "height": 36
        },
        "id": "ahA9ChhyeC3J",
        "outputId": "f210544c-9a49-485d-c735-4580dad0f95c"
      },
      "execution_count": null,
      "outputs": [
        {
          "output_type": "execute_result",
          "data": {
            "text/plain": [
              "'υ'"
            ],
            "application/vnd.google.colaboratory.intrinsic+json": {
              "type": "string"
            }
          },
          "metadata": {},
          "execution_count": 176
        }
      ]
    },
    {
      "cell_type": "markdown",
      "source": [
        "Μπορώ να ελέγξω αν το τελευταίο γράμμα είναι ένα συγκεκριμένο γράμμα"
      ],
      "metadata": {
        "id": "KB6bTkebqQAp"
      }
    },
    {
      "cell_type": "code",
      "source": [
        "last_word[-1] == \"Υ\"\n",
        "# με μονό ίσον (=) ορίζω κάτι να είναι ίσον με κάτι (π.χ. a = 5)\n",
        "# με διπλό ίσον (==) ελέγχω αν κάτι είναι ίσον με κάτι άλλο"
      ],
      "metadata": {
        "colab": {
          "base_uri": "https://localhost:8080/"
        },
        "id": "DJLJxs8TqklU",
        "outputId": "b04b5178-03cd-4138-ec4a-bf93c2ac0045"
      },
      "execution_count": null,
      "outputs": [
        {
          "output_type": "execute_result",
          "data": {
            "text/plain": [
              "False"
            ]
          },
          "metadata": {},
          "execution_count": 177
        }
      ]
    },
    {
      "cell_type": "markdown",
      "source": [
        "Μπορώ να ζητήσω ένα μέρος ενός string"
      ],
      "metadata": {
        "id": "xIJndb2Je41Z"
      }
    },
    {
      "cell_type": "code",
      "source": [
        "last_word[:-1] # από την αρχή έως και το προτελευταίο γράμμα"
      ],
      "metadata": {
        "colab": {
          "base_uri": "https://localhost:8080/",
          "height": 36
        },
        "id": "PS4jOpYxfA8q",
        "outputId": "d4cc46c1-1abe-4f17-ab40-20340e135890"
      },
      "execution_count": null,
      "outputs": [
        {
          "output_type": "execute_result",
          "data": {
            "text/plain": [
              "'Αιγαίο'"
            ],
            "application/vnd.google.colaboratory.intrinsic+json": {
              "type": "string"
            }
          },
          "metadata": {},
          "execution_count": 178
        }
      ]
    },
    {
      "cell_type": "markdown",
      "source": [
        "**Θέλουμε να φτιάξουμε ένα αυτοματοποιημένο, αλλά προσωποποιημένο απαντητικό email, ανάλογα με το επίθετο του παραλήπτη.**"
      ],
      "metadata": {
        "id": "S79ap7gBlVZ2"
      }
    },
    {
      "cell_type": "markdown",
      "source": [
        "- **Δίνονται τα παρακάτω ονόματα:**"
      ],
      "metadata": {
        "id": "NL4n28HnabRp"
      }
    },
    {
      "cell_type": "code",
      "source": [
        "names = [\"Κώστας Μουρλάς\", \"Κατερίνα Σωτηράκου\", \"Θοδωρής Παρασκευάς\"]"
      ],
      "metadata": {
        "id": "lhRKi1dPCdSM"
      },
      "execution_count": 50,
      "outputs": []
    },
    {
      "cell_type": "markdown",
      "source": [
        "- **Φτιάξτε ένα προγραμματάκι που θα κάνει τα εξής:**\n",
        "  - **θα τρέχει σε όλα τα ονόματα της λίστας**\n",
        "  - **θα χωρίζει το όνομα και θα αποθηκεύει το επίθετο σε μια μεταβλητή**\n",
        "  - **αν το επίθετο τελειώνει σε \"ς\" θα τυπώνει \"Αγαπητέ κύριε Μουρλά,\", ή \"Αγαπητέ κύριε Παρασκευά,\",**\n",
        "  - **αλλιώς θα τυπώνει \"Αγαπητή κυρία Σωτηράκου,\"**\n",
        "\n",
        "Tip: δηλαδή, αν το τελευταίο γράμμα του επιθέτου είναι \"ς\", θα τυπώνει το επίθετο από την αρχή έως και το προτελευταίο γράμμα, αλλιώς θα το τυπώνει ολόκληρο"
      ],
      "metadata": {
        "id": "g0VY3FBOiRhL"
      }
    },
    {
      "cell_type": "code",
      "source": [
        "for name in names:\n",
        " name = name.split(\" \")\n",
        " last_name = name[1]\n",
        "\n",
        " if last_name[-1] == \"ς\":\n",
        "   print(\"Αγαπητέ κύριε\", last_name[:-1] + \",\")\n",
        " else:\n",
        "    print(\"Αγαπητή κυρία\", last_name + \",\")\n",
        ""
      ],
      "metadata": {
        "id": "_Ok9tpy3fr73",
        "colab": {
          "base_uri": "https://localhost:8080/"
        },
        "outputId": "61c3518a-25da-459c-a476-2827ea97643f"
      },
      "execution_count": 54,
      "outputs": [
        {
          "output_type": "stream",
          "name": "stdout",
          "text": [
            "Αγαπητέ κύριε Μουρλά,\n",
            "Αγαπητή κυρία Σωτηράκου,\n",
            "Αγαπητέ κύριε Παρασκευά,\n"
          ]
        }
      ]
    },
    {
      "cell_type": "markdown",
      "source": [
        "\n",
        "\n",
        "---\n",
        "\n"
      ],
      "metadata": {
        "id": "aZlraIGimQX2"
      }
    },
    {
      "cell_type": "markdown",
      "source": [
        "### **ΑΣΚΗΣΗ 9**"
      ],
      "metadata": {
        "id": "xY0vu-Hjmwnt"
      }
    },
    {
      "cell_type": "markdown",
      "source": [
        "Η δομή if εκτός από το else, δέχεται και το elif (πριν το else)."
      ],
      "metadata": {
        "id": "o4yBD3_s3o90"
      }
    },
    {
      "cell_type": "code",
      "source": [
        "nums = [5, 0, -2]\n",
        "for num in nums:\n",
        "  if num == 0:   # αν ο αριθμός είναι 0\n",
        "    print(f\"ο αριθμός {num} δεν είναι ούτε θετικός ούτε αρνητικός\")\n",
        "  elif num > 0:  # αλλιώς αν ο αριθμός είναι μεγαλύτερος από το 0\n",
        "    print(f\"ο αριθμός {num} είναι θετικός\")\n",
        "  else:          # αλλιώς, (αν δεν ισχύει τίποτα από τα παραπάνω)\n",
        "    print(f\"ο αριθμός {num} είναι αρνητικός\")"
      ],
      "metadata": {
        "colab": {
          "base_uri": "https://localhost:8080/"
        },
        "id": "FZ5yBEMc36qy",
        "outputId": "454dd63f-f27d-4577-8c1b-ad6aa969ddf2"
      },
      "execution_count": null,
      "outputs": [
        {
          "output_type": "stream",
          "name": "stdout",
          "text": [
            "ο αριθμός 5 είναι θετικός\n",
            "ο αριθμός 0 δεν είναι ούτε θετικός ούτε αρνητικός\n",
            "ο αριθμός -2 είναι αρνητικός\n"
          ]
        }
      ]
    },
    {
      "cell_type": "markdown",
      "source": [
        "Σημειώστε ότι το elif και το else είναι προαιρετικά στη δομή if."
      ],
      "metadata": {
        "id": "Ly_aNxVv5rZ2"
      }
    },
    {
      "cell_type": "markdown",
      "source": [
        "Επίσης, μπορούμε να έχουμε μια δομή if μέσα σε μια άλλη δομή if"
      ],
      "metadata": {
        "id": "e1yPO_MSTMqz"
      }
    },
    {
      "cell_type": "code",
      "source": [
        "nums = [5, 0, -2]\n",
        "for num in nums:\n",
        "  if num == 0:   # αν ο αριθμός είναι 0\n",
        "    print(f\"ο αριθμός {num} δεν είναι ούτε θετικός ούτε αρνητικός\")\n",
        "  else:          # αλλιώς, δηλαδή αν δεν είναι 0\n",
        "    if num > 0:  # αν ο αριθμός είναι μεγαλύτερος από το 0\n",
        "      print(f\"ο αριθμός {num} είναι θετικός\")\n",
        "    else:          # αλλιώς, (δηλαδή αν δεν είναι μεγαλύτερος από το 0)\n",
        "      print(f\"ο αριθμός {num} είναι αρνητικός\")"
      ],
      "metadata": {
        "id": "PXSpJir_TNRY",
        "outputId": "f8c7f281-8b34-4214-c425-12f353e27117",
        "colab": {
          "base_uri": "https://localhost:8080/"
        }
      },
      "execution_count": null,
      "outputs": [
        {
          "output_type": "stream",
          "name": "stdout",
          "text": [
            "ο αριθμός 5 είναι θετικός\n",
            "ο αριθμός 0 δεν είναι ούτε θετικός ούτε αρνητικός\n",
            "ο αριθμός -2 είναι αρνητικός\n"
          ]
        }
      ]
    },
    {
      "cell_type": "markdown",
      "source": [
        "- **Ο παραπάνω κώδικας που φτιάξατε (ο οποίος ελέγχει αν το τελευταίο γράμμα είναι \"ς\") δεν μπορεί να δουλέψει σωστά για κάθε πιθανό ελληνικό αντρικό επίθετο.**"
      ],
      "metadata": {
        "id": "6qPNkQgX3gih"
      }
    },
    {
      "cell_type": "markdown",
      "source": [
        "- **Προσθέστε στη λίστα των ονομάτων το \"Νίκος Παπαναστασίου\" και βρείτε έναν τρόπο ώστε ο κώδικας να δουλεύει σωστά και γι' αυτό το όνομα**\n",
        "\n",
        "Tip: τυπώστε τα περιεχόμενα της λίστας των ονομάτων μετά την προσθήκη του Παπαναστασίου παρατηρήστε καλά τα ονόματα και τα επίθετα. Χρησιμοποιήστε δύο δομές if (η μία θα εξετάζει τα μικρά ονόματα και η άλλη τα επίθετα), και βάλτε τη μία δομή μέσα στην άλλη."
      ],
      "metadata": {
        "id": "vPTvpLFG3lYw"
      }
    },
    {
      "cell_type": "code",
      "source": [
        "names.append(\"Νίκος Παπαναστασίου\")\n",
        "print(names)"
      ],
      "metadata": {
        "id": "h9geZur6183w",
        "colab": {
          "base_uri": "https://localhost:8080/"
        },
        "outputId": "41b7ada2-f55d-497b-d885-5cc2307a9784"
      },
      "execution_count": 55,
      "outputs": [
        {
          "output_type": "stream",
          "name": "stdout",
          "text": [
            "['Κώστας Μουρλάς', 'Κατερίνα Σωτηράκου', 'Θοδωρής Παρασκευάς', 'Νίκος Παπαναστασίου']\n"
          ]
        }
      ]
    },
    {
      "cell_type": "code",
      "source": [
        "for name in names:\n",
        " name = name.split(\" \")\n",
        " first_name=name[0]\n",
        " last_name = name[1]\n",
        " if first_name[-1] == \"ς\":\n",
        "  if last_name[-1] == \"ς\":\n",
        "   print(\"Αγαπητέ κύριε\", last_name[:-1] + \",\")\n",
        " if first_name[-1] == \"ς\":\n",
        "  if last_name[-1] != \"ς\":\n",
        "   print(\"Αγαπητέ κύριε\", last_name + \",\")\n",
        " else:\n",
        "    print(\"Αγαπητή κυρία\", last_name + \",\")\n",
        "\n"
      ],
      "metadata": {
        "id": "3wMmjA7apasV",
        "colab": {
          "base_uri": "https://localhost:8080/"
        },
        "outputId": "45779e8c-d725-441d-adbd-66f7b855c097"
      },
      "execution_count": 60,
      "outputs": [
        {
          "output_type": "stream",
          "name": "stdout",
          "text": [
            "Αγαπητέ κύριε Μουρλά,\n",
            "Αγαπητή κυρία Σωτηράκου,\n",
            "Αγαπητέ κύριε Παρασκευά,\n",
            "Αγαπητέ κύριε Παπαναστασίου,\n"
          ]
        }
      ]
    },
    {
      "cell_type": "code",
      "source": [],
      "metadata": {
        "id": "6Btuf9LM122O"
      },
      "execution_count": null,
      "outputs": []
    }
  ]
}