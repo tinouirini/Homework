{
  "nbformat": 4,
  "nbformat_minor": 0,
  "metadata": {
    "colab": {
      "provenance": [],
      "include_colab_link": true
    },
    "kernelspec": {
      "name": "python3",
      "display_name": "Python 3"
    },
    "language_info": {
      "name": "python"
    }
  },
  "cells": [
    {
      "cell_type": "markdown",
      "metadata": {
        "id": "view-in-github",
        "colab_type": "text"
      },
      "source": [
        "<a href=\"https://colab.research.google.com/github/tinouirini/Homework_week2/blob/main/Homework_week3.ipynb\" target=\"_parent\"><img src=\"https://colab.research.google.com/assets/colab-badge.svg\" alt=\"Open In Colab\"/></a>"
      ]
    },
    {
      "cell_type": "markdown",
      "source": [
        "## Διαβάζω/Θυμάμαι\n",
        "\n",
        "https://github.com/datajour-gr/Data-Journalism-bachelor/blob/main/2023/Lesson%201/Intro_to_Python_1_Variables%2C_data_types%2C_operators%2C_functions_%26_methods.ipynb\n"
      ],
      "metadata": {
        "id": "iJOiYWx3LEbr"
      }
    },
    {
      "cell_type": "markdown",
      "source": [
        "### Μεταβλητές"
      ],
      "metadata": {
        "id": "BjTTwdCCXXau"
      }
    },
    {
      "cell_type": "markdown",
      "source": [
        "\n",
        "\n",
        "1. Μεταβλητές είναι ζευγάρια ενός **ονόματος** και μιας **τιμής**.\n",
        "\n",
        "2. Δημιουργώ μια μεταβλητή με το ίσον \"=\". Π.χ.: my_name = \"Thodoris Paraskevas\"\n",
        "\n",
        "3. Οι μεταβλητές μπορούν να είναι διαφόρων τύπων δεδομένων:\n",
        "- **stings** (συμβολοσειρές): η τιμή τους μπαίνει μέσα σε μονά ή διπλά εισαγωγικά - η τιμή τους μπορεί να περιέχει οποιονδήποτε χαρακτήρα του πληκτρολογίου και κενά. Π.χ.: article_title = \"Κορυφώνεται στη Βουλή η πολιτική αντιπαράθεση για το έγκλημα στα Τέμπη\"\n",
        "- αριθμοί:\n",
        "  - **integers** (ακέραιοι): π.χ.: rent = 300 (χωρίς εισαγωγικά)\n",
        "  - **floats** (δεκαδικοί): π.χ.: height = 1.75 (χωρίς εισαγωγικά - η υποδιαστολή είναι τελεία)\n",
        "- **booleans**: True ή False (χρησιμοποιούνται για έλεγχο μιας συνθήκης προκειμένου να εκτελεστεί μια εντολή ή όχι: π.χ. εάν η μεταβλητή is_student έχει τιμή True κάνε αυτό, εαν έχει τιμή False κάνε κάτι άλλο)\n",
        "- **lists** (λίστες): ή τιμή τους είναι ένα σύνολο αντικειμένων. Τα αντικείμενα μπαίνουν μέσα σε square brackets και χωρίζονται μεταξύ τους με κόμμα. Π.χ.: defenders = [\"Ρότα\", \"Τσιμίκας\", \"Μαυροπάνος\" \"Χατζηδιάκος\"]\n",
        "- **dictionaries** (λεξικά): η τιμή τους είναι ένα σύνολο ζευγαριών κελιδιού (ετικέας)-τιμής. Π.χ. contact = {\"fname\" : \"Μαρίνα\", \"sname\" : \"Σάττι\", \"email\" : \"msatti@gmail.com\"}\n",
        "\n",
        "Μπορώ όποτε θέλω να αλλάξω την τιμή μιας μεταβλητής, με τον ίδιο τρόπο που τη δημιουργώ αρχικά, δηλαδή με το ίσον. Π.χ.: city = \"Athens\" και παρακάτω city = \"Patra\". H αποθηκευμένη τιμή είναι πάντα η τελευταία ορισμένη."
      ],
      "metadata": {
        "id": "2zVPl91eN7xM"
      }
    },
    {
      "cell_type": "markdown",
      "source": [
        "### Λίστες\n",
        "\n",
        "Οι λίστες είναι σύνολα αντικειμένων. Τα αντικείμενα μπορούν να είναι οποιουδήποτε τύπου δεδομένων (strings, integers, floats, booleans, lists, dictionaries).\n",
        "\n",
        "- Τα αντικείμενα μιας λίστας μπαίνουν μέσα σε square brackets. Π.χ.: sites = [\"news247.gr\", \"iefimerida.gr\", \"cnn.gr\", \"gazzetta.gr]\n",
        "- Τα αντικείμενα μιας λίστας φέρουν αρίθμηση (αριθμός index). Το πρώτο αντικείμενο έχει τον αριθμό 0.\n",
        "- Μπορούμε να καλέσουμε ένα αντικείμενο μιας λίστας, γράφοντας το όνομα της λίστας και μέσα σε square brackets τον αριθμό index του αντικειμένου. Π.χ.: sites[0] --> επιστρέφει το \"news247.gr\".\n",
        "- Μπορούμε να αποθηκεύσουμε σε μια μεταβλητή ένα αντικείμενο μιας λίστας ως εξής: site1 = sites[0]\n",
        "- Μπορούμε να καλέσουμε ένα τμήμα των αντικειμένων μιας λίστας, ως εξής: sites[1:3] --> επιστρέφει όλα τα αντικείμενα της λίστας sites από αυτό που έχει αριθμό index το 1 (\"iefimerida.gr\"), έως το προηγούμενο του αντικειμένου που έχει αριθμό index το 3 (\"gazzetta.gr\"), δηλαδή επιστρέφει τα αντικείμενα με index 1 και 2 ([\"iefimerida.gr\", \"cnn.gr\"])\n",
        "- Όταν θέλουμε ένα τμήμα μιας λίστας, χρησιμοποιούμε square brackets και άνω-κάτω τελεία ([:])\n",
        "- Αν δεν βάλουμε αριθμό index πριν την άνω-κάτω τελεία, σημαίνει «από την αρχή». Αν δεν βάλουμε αριθμό index μετά την άνω-κάτω τελεία, σημαίνει «ως και το τελευταίο αντικείμενο».\n",
        "\n",
        "Τα strings είναι **σαν** λίστες, δηλαδή ο κάθε χαρακτήρας ενός string έχει αριθμό index. Επομένως, μπορούμε να ζητήσουμε από ένα string έναν χαρακτήρα ή ένα τμήμα του.  \n",
        "\n",
        "Με την εντολή len(), μπορούμε να βρούμε το πλήθος των περιεχομένων μιας λίστας - το μήκος (length) της λίστας. Π.χ.: len(\"cnn.gr\") --> 6"
      ],
      "metadata": {
        "id": "knt79oBbZqzs"
      }
    },
    {
      "cell_type": "markdown",
      "source": [
        "**Άσκηση 1**\n",
        "\n",
        "Φτιάξτε ένα νέο κελί κώδικα (Code cell) ακριβώς κάτω από αυτό και κάνετε τα παρακάτω:\n",
        "\n",
        "- δημιουργήστε μια μεταβλητή με τιμή την datetime ημερομηνία δημοσίευσης ενός άρθρου (η μεταβλητή θα είναι string και η τιμή της θα είναι: 2024-03-28T12:07:19+02:00)\n",
        "- απομονώστε την ημερομηνία (2024-03-28) και αποθηκεύστε τη σε μια μεταβλητή με κατάλληλο όνομα (θυμηθείτε ότι τα strings είναι σαν λίστες, άρα μπορούμε να κάνουμε slicing, δηλαδή να καλέσουμε ένα τμήμα τους)\n",
        "- τυπώστε (print) την ημερομηνία\n",
        "- φτιάξτε ένα νέο code cell\n",
        "- αποθηκεύστε σε διαφορετικές μεταβλητές το έτος, το μήνα και την ημέρα (tip: κάντε τα ένα-ένα και τυπώνετε για να βλέπετε αν το κάνετε σωστά)\n",
        "- φτιάξτε ένα νέο code cell\n",
        "- απομονώστε την ώρα (το 12:07:19) και αποθηκεύστε τη σε μια νέα μεταβλητή\n",
        "- φτιάξτε ένα νέο code cell\n",
        "- χρησιμοποιώντας τις μεταβλητές που φτιάξατε, δημιουργήστε μια νέα μεταβλητή με όνομα custom_daytime και τιμή: <ημέρα>/<μήνας>/<έτος>, ώρα: <ώρα> και τυπώστε τη στην οθόνη\n",
        "\n",
        "Σημαντική παρατήρηση: **Δεν θα γράψετε χειροκίνητα** τις τιμές του έτους, του μήνα κλπ. Θα τις πάρετε με slicing (από τον αριθμό index τάδε έως το index τάδε).\n"
      ],
      "metadata": {
        "id": "ZpLO_nDQLiFV"
      }
    },
    {
      "cell_type": "code",
      "source": [
        "articleDate='2024-03-28T12:07:19+02:00'\n",
        "date=articleDate[:10]\n",
        "print(date)\n",
        "\n",
        "\n"
      ],
      "metadata": {
        "colab": {
          "base_uri": "https://localhost:8080/"
        },
        "id": "yHnCOS7xYoKL",
        "outputId": "4f1e89d2-83be-42b5-de68-236eb83c85e0"
      },
      "execution_count": null,
      "outputs": [
        {
          "output_type": "stream",
          "name": "stdout",
          "text": [
            "2024-03-28\n"
          ]
        }
      ]
    },
    {
      "cell_type": "code",
      "source": [
        "year=date[:4]\n",
        "month=date[5:7]\n",
        "day=date[-2:]\n",
        "print(\"Έτος:\", year)\n",
        "print(\"Μήνας:\", month)\n",
        "print(\"Ημέρα:\", day)\n"
      ],
      "metadata": {
        "colab": {
          "base_uri": "https://localhost:8080/"
        },
        "id": "OUtVxpqcamJ7",
        "outputId": "d142b5e1-7490-40bc-8bc2-238e06b3a5e4"
      },
      "execution_count": null,
      "outputs": [
        {
          "output_type": "stream",
          "name": "stdout",
          "text": [
            "Έτος: 2024\n",
            "Μήνας: 03\n",
            "Ημέρα: 28\n"
          ]
        }
      ]
    },
    {
      "cell_type": "code",
      "source": [
        "time=articleDate[11:19]\n"
      ],
      "metadata": {
        "colab": {
          "base_uri": "https://localhost:8080/"
        },
        "id": "8hk-9yPIcPp0",
        "outputId": "dbf17085-dcf1-4d4e-e28e-3393deef1bac"
      },
      "execution_count": null,
      "outputs": [
        {
          "output_type": "stream",
          "name": "stdout",
          "text": [
            "12:07:19\n"
          ]
        }
      ]
    },
    {
      "cell_type": "code",
      "source": [
        "custom_daytime= day+\"/\"+ month+ \"/\" + year +\",ώρα:\" +time\n",
        "print(custom_daytime)"
      ],
      "metadata": {
        "colab": {
          "base_uri": "https://localhost:8080/"
        },
        "id": "z5imghvEc2on",
        "outputId": "23aa164b-64e7-46e2-d776-cf3c9beb4b83"
      },
      "execution_count": null,
      "outputs": [
        {
          "output_type": "stream",
          "name": "stdout",
          "text": [
            "28/03/2024,ώρα:12:07:19\n"
          ]
        }
      ]
    },
    {
      "cell_type": "markdown",
      "source": [
        "**Άσκηση 2:**\n",
        "\n",
        "Με τη συνάρτηση (function): index(), μπορούμε να βρούμε τον αριθμό index ενός ζητούμενου αντικειμένου σε μια λίστα."
      ],
      "metadata": {
        "id": "4kwehQqjiPss"
      }
    },
    {
      "cell_type": "code",
      "execution_count": null,
      "metadata": {
        "colab": {
          "base_uri": "https://localhost:8080/"
        },
        "id": "ZEGzdEavLCkf",
        "outputId": "238ca69d-c927-470e-c8dc-f001fdc5f3c8"
      },
      "outputs": [
        {
          "output_type": "execute_result",
          "data": {
            "text/plain": [
              "1"
            ]
          },
          "metadata": {},
          "execution_count": 1
        }
      ],
      "source": [
        "# παράδειγμα χρήσης της συνάρτησης index()\n",
        "# ορίζω μια λίστα με όνομα names, η οποία περιέχει ονόματα\n",
        "names = [\"Θωμάς\", \"Άννα\", \"Ελένη\", \"Νίκος\", \"Άννα\"]\n",
        "# ζητάω τον αριθμό index του ονόματος \"Άννα\"\n",
        "names.index(\"Άννα\")"
      ]
    },
    {
      "cell_type": "markdown",
      "source": [
        "Με τη συνάρτηση append(), μπορούμε να προσθέσουμε στο τέλος των αντικειμένων μιας λίστας ένα νέο αντικείμενο."
      ],
      "metadata": {
        "id": "7q7yChwtm6gG"
      }
    },
    {
      "cell_type": "code",
      "source": [
        "# παράδειγμα append()\n",
        "# δημιουργώ μια λίστα με ονόματα\n",
        "names = [\"Θωμάς\", \"Άννα\", \"Ελένη\", \"Νίκος\", \"Άννα\"]\n",
        "# δημιουργώ μια μεταβλητή με τιμή ένα νέο όνομα\n",
        "newcomer = \"Κωνσταντίνα\"\n",
        "# προσθέτω το νέο όνομα στη λίστα με τα ονόματα\n",
        "# στη λίστα names πρόσθεσε την τιμή της μεταβλητής newcomer\n",
        "names.append(newcomer)\n",
        "# δείξε μου τα περιεχόμενα της λίστας names\n",
        "names"
      ],
      "metadata": {
        "colab": {
          "base_uri": "https://localhost:8080/"
        },
        "id": "63wg4aZ0nQiC",
        "outputId": "e91acd7d-a410-4de4-8468-f34a10487199"
      },
      "execution_count": null,
      "outputs": [
        {
          "output_type": "execute_result",
          "data": {
            "text/plain": [
              "['Θωμάς', 'Άννα', 'Ελένη', 'Νίκος', 'Άννα', 'Κωνσταντίνα']"
            ]
          },
          "metadata": {},
          "execution_count": 3
        }
      ]
    },
    {
      "cell_type": "markdown",
      "source": [
        "Σημειώστε ότι μπορώ να κάνω append χωρίς να έχω φτιάξει μεταβλητή με το αντικείμενο που θέλω να προσθέσω."
      ],
      "metadata": {
        "id": "hyMvkjlpokNL"
      }
    },
    {
      "cell_type": "code",
      "source": [
        "names = [\"Θωμάς\", \"Άννα\", \"Ελένη\", \"Νίκος\", \"Άννα\"]\n",
        "names.append(\"Θανάσης\")\n",
        "names"
      ],
      "metadata": {
        "colab": {
          "base_uri": "https://localhost:8080/"
        },
        "id": "vJyQ-_j11WPX",
        "outputId": "c8b6547c-dbe2-48a6-a34f-90dd79509890"
      },
      "execution_count": null,
      "outputs": [
        {
          "output_type": "execute_result",
          "data": {
            "text/plain": [
              "['Θωμάς', 'Άννα', 'Ελένη', 'Νίκος', 'Άννα', 'Θανάσης']"
            ]
          },
          "metadata": {},
          "execution_count": 8
        }
      ]
    },
    {
      "cell_type": "markdown",
      "source": [
        "Επειδή τα strings είναι **σαν** λίστες, αλλά **δεν είναι** λίστες, δεν μπορώ να κάνω append σε string"
      ],
      "metadata": {
        "id": "GdVwtt881hVW"
      }
    },
    {
      "cell_type": "code",
      "source": [
        "# στα strings δεν γίνεται append()\n",
        "onomastiki = \"Ειρήνη\"\n",
        "geniki = onomastiki.append(\"ς\")"
      ],
      "metadata": {
        "colab": {
          "base_uri": "https://localhost:8080/",
          "height": 176
        },
        "id": "dJu01G9v0c53",
        "outputId": "5ce6bc47-0bb7-470b-aed3-bbb86f549e7c"
      },
      "execution_count": null,
      "outputs": [
        {
          "output_type": "error",
          "ename": "AttributeError",
          "evalue": "'str' object has no attribute 'append'",
          "traceback": [
            "\u001b[0;31m---------------------------------------------------------------------------\u001b[0m",
            "\u001b[0;31mAttributeError\u001b[0m                            Traceback (most recent call last)",
            "\u001b[0;32m<ipython-input-9-bfbb7c9c2742>\u001b[0m in \u001b[0;36m<cell line: 3>\u001b[0;34m()\u001b[0m\n\u001b[1;32m      1\u001b[0m \u001b[0;31m# στα strings δεν γίνεται append()\u001b[0m\u001b[0;34m\u001b[0m\u001b[0;34m\u001b[0m\u001b[0m\n\u001b[1;32m      2\u001b[0m \u001b[0monomastiki\u001b[0m \u001b[0;34m=\u001b[0m \u001b[0;34m\"Ειρήνη\"\u001b[0m\u001b[0;34m\u001b[0m\u001b[0;34m\u001b[0m\u001b[0m\n\u001b[0;32m----> 3\u001b[0;31m \u001b[0mgeniki\u001b[0m \u001b[0;34m=\u001b[0m \u001b[0monomastiki\u001b[0m\u001b[0;34m.\u001b[0m\u001b[0mappend\u001b[0m\u001b[0;34m(\u001b[0m\u001b[0;34m\"ς\"\u001b[0m\u001b[0;34m)\u001b[0m\u001b[0;34m\u001b[0m\u001b[0;34m\u001b[0m\u001b[0m\n\u001b[0m",
            "\u001b[0;31mAttributeError\u001b[0m: 'str' object has no attribute 'append'"
          ]
        }
      ]
    },
    {
      "cell_type": "code",
      "source": [
        "# στα strings προσθέτω με το \"+\"\n",
        "onomastiki = \"Ειρήνη\"\n",
        "geniki = onomastiki + \"ς\"\n",
        "geniki"
      ],
      "metadata": {
        "colab": {
          "base_uri": "https://localhost:8080/",
          "height": 35
        },
        "id": "CC40mCl42IXs",
        "outputId": "6dd161c4-046a-4529-a80e-89a33ce1f3a7"
      },
      "execution_count": null,
      "outputs": [
        {
          "output_type": "execute_result",
          "data": {
            "text/plain": [
              "'Ειρήνης'"
            ],
            "application/vnd.google.colaboratory.intrinsic+json": {
              "type": "string"
            }
          },
          "metadata": {},
          "execution_count": 10
        }
      ]
    },
    {
      "cell_type": "markdown",
      "source": [
        "Με τη συνάρτηση replace() μπορώ να αντικαταστήσω ένα string με ένα άλλο."
      ],
      "metadata": {
        "id": "zqe_tm52xkEZ"
      }
    },
    {
      "cell_type": "code",
      "source": [
        "# παράδειγμα replace()\n",
        "onomastiki = \"Θοδωρής\"\n",
        "geniki = onomastiki.replace(\"ς\", \"\")\n",
        "geniki"
      ],
      "metadata": {
        "colab": {
          "base_uri": "https://localhost:8080/",
          "height": 35
        },
        "id": "Bk-1GaaDxyFv",
        "outputId": "a6eebaf4-69e1-4eb1-fff1-c6bde3d854c1"
      },
      "execution_count": null,
      "outputs": [
        {
          "output_type": "execute_result",
          "data": {
            "text/plain": [
              "'Θοδωρή'"
            ],
            "application/vnd.google.colaboratory.intrinsic+json": {
              "type": "string"
            }
          },
          "metadata": {},
          "execution_count": 5
        }
      ]
    },
    {
      "cell_type": "markdown",
      "source": [
        "Φτιάξτε ένα νέο κελί κώδικα (Code cell) ακριβώς κάτω από αυτό και κάνετε τα παρακάτω:\n",
        "\n",
        "1. Δημιουργήστε μια κενή λίστα με όνομα usersL και μια επίσης κενή λίστα με όνομα providersL\n",
        "2. Φτιάξτε μια μεταβλητή με όνομα email1 και τιμή ένα email\n",
        "3. Βρείτε το index του \"@\" (με function) και αποθηκεύστε το σε μια μεταβλητή με όνομα papaki_index1\n",
        "4. Πάρτε (slice) το τμήμα του mail που έχει μόνο το όνομα (tip: από την αρχή ως το @), αποθηκεύστε το σε μια μεταβλητή με όνομα user1 και βάλτε το στη λίστα usersL (με append())\n",
        "5. Πάρτε το τμήμα του mail από μετα το @ (tip: papaki_index+1) ως το τέλος και αποθηκεύστε το σε μια μεταβλητή με όνομα provider1\n",
        "6. Αντικαταστήστε (με function) το τμήμα της κατάληξης του domain, με το τίποτα (κενό string) και βάλτε το στη λίστα providersL (π.χ. από το google.com, αντικαταστήστε το \".com\" με \"\")\n",
        "7. Επαναλάβετε τα βήματα 2-5 άλλη 1 φορά για ένα άλλο email (κάντε copy-paste και αλλάξτε ό,τι χρειάζεται)\n",
        "8. Τυπώστε το πλήθος των περιεχομένων (len()) και τα περιεχόμενα της λίστας usersL στην οθόνη\n",
        "9. Τυπώστε το πλήθος των περιεχομένων και τα περιεχόμενα της λίστας providersL στην οθόνη\n",
        "10. Ενώστε τις λίστες usersL και providersL\n",
        "\n",
        "Tip: χρησιμοποιήστε όσα κελιά θέλετε έτσι ώστε να ελέγχετε τι κάνετε σε κάθε βήμα"
      ],
      "metadata": {
        "id": "SKpnhopQmBzg"
      }
    },
    {
      "cell_type": "code",
      "source": [
        "usersL=[]\n",
        "providersL=[]\n",
        "email1=\"irini@gmail.com\"\n",
        "email1.index(\"@\")\n",
        "papaki_index1=email1.index(\"@\")\n",
        "user1=email1[:papaki_index1]\n",
        "usersL.append(user1)\n",
        "provider1=email1[papaki_index1 +1: ]\n",
        "email1=email1.replace(\".com\",\"\")\n",
        "providersL.append(email1)\n",
        "\n",
        "email2=\"leo@gmail.com\"\n",
        "email2.index(\"@\")\n",
        "papaki_index2=email2.index(\"@\")\n",
        "user2=email2[:papaki_index2]\n",
        "usersL.append(user2)\n",
        "provider2=email2[papaki_index2 +1: ]\n",
        "\n",
        "\n",
        "print(len(usersL))\n",
        "print(usersL)\n",
        "print(len(providersL))\n",
        "print(providersL)\n",
        "listsL=usersL+providersL\n",
        "\n",
        "\n",
        "\n"
      ],
      "metadata": {
        "colab": {
          "base_uri": "https://localhost:8080/"
        },
        "id": "8N_YVQMFu3OP",
        "outputId": "5c718512-6434-40e2-80be-4857d624cf17"
      },
      "execution_count": 70,
      "outputs": [
        {
          "output_type": "stream",
          "name": "stdout",
          "text": [
            "2\n",
            "['irini', 'leo']\n",
            "1\n",
            "['irini@gmail']\n"
          ]
        }
      ]
    }
  ]
}