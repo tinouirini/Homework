{
  "nbformat": 4,
  "nbformat_minor": 0,
  "metadata": {
    "colab": {
      "provenance": [],
      "include_colab_link": true
    },
    "kernelspec": {
      "name": "python3",
      "display_name": "Python 3"
    },
    "language_info": {
      "name": "python"
    }
  },
  "cells": [
    {
      "cell_type": "markdown",
      "metadata": {
        "id": "view-in-github",
        "colab_type": "text"
      },
      "source": [
        "<a href=\"https://colab.research.google.com/github/tinouirini/Homework/blob/main/%CE%91%CE%BD%CF%84%CE%AF%CE%B3%CF%81%CE%B1%CF%86%CE%BF_Homework_Lesson10.ipynb\" target=\"_parent\"><img src=\"https://colab.research.google.com/assets/colab-badge.svg\" alt=\"Open In Colab\"/></a>"
      ]
    },
    {
      "cell_type": "markdown",
      "source": [
        "Για να φτιάξουμε wordclouds από κείμενα άρθρων χρειαζόμαστε τις παρακάτω βιβλιοθήκες, τις οποίες εισάγουμε όλες μαζί στην αρχή."
      ],
      "metadata": {
        "id": "Fp1-dxEz5vGL"
      }
    },
    {
      "cell_type": "markdown",
      "source": [
        "Εάν έχουμε ελληνικά κείμενα:\n",
        "- βγάζουμε το # από την αρχή της παρακάτω εντολής (κάνουμε δλδ uncomment) και τρέχουμε το κελί\n",
        "- όταν τελειώσει:\n",
        "1. ξαναβάζουμε το # (κάνουμε comment)\n",
        "2. Runtime -> Restart session and run all (ανανεώνουμε το session για να ξέρει ότι τώρα έχουμε και το λεξικό της βιβλιοθήκης spacy)"
      ],
      "metadata": {
        "id": "X5msCz1KcWZo"
      }
    },
    {
      "cell_type": "code",
      "source": [
        "#!python -m spacy download el_core_news_sm"
      ],
      "metadata": {
        "id": "Z6vX6hmGrF-B"
      },
      "execution_count": null,
      "outputs": []
    },
    {
      "cell_type": "markdown",
      "source": [
        "### ΕΙΣΑΓΩΓΗ ΒΙΒΛΙΟΘΗΚΩΝ"
      ],
      "metadata": {
        "id": "Fxl5Y4b7Ym5C"
      }
    },
    {
      "cell_type": "code",
      "execution_count": null,
      "metadata": {
        "id": "Af3afabp5sxy"
      },
      "outputs": [],
      "source": [
        "import pandas as pd\n",
        "import numpy as np\n",
        "import matplotlib.pyplot as plt\n",
        "\n",
        "# εάν έχουμε αγγλικά κείμενα\n",
        "from wordcloud import WordCloud, STOPWORDS\n",
        "\n",
        "# εάν έχουμε ελληνικά κείμενα\n",
        "import spacy"
      ]
    },
    {
      "cell_type": "code",
      "source": [
        "# φτιάχνω κατευθείαν και το nlp για να το έχω έτοιμο για τα wordclouds μου και όποια ανάλυση κειμένου θέλω να κάνω\n",
        "nlp = spacy.load('el_core_news_sm')"
      ],
      "metadata": {
        "id": "puv1JjO4cJvj"
      },
      "execution_count": null,
      "outputs": []
    },
    {
      "cell_type": "markdown",
      "source": [
        "### ΔΗΜΙΟΥΡΓΙΑ DATAFRAME"
      ],
      "metadata": {
        "id": "IQ1zdCsXJIUS"
      }
    },
    {
      "cell_type": "markdown",
      "source": [
        "Αρχικά, φέρνουμε τα δεδομένα μας (αρχεία xlsx ή csv) και τα ανεβάζουμε στο drive μας.\n",
        "\n",
        "Στη συνέχεια, εισάγουμε τα δεδομένα μας στην python (φτιάχνουμε dataframes).\n",
        "\n",
        "Στην αριστερή μπάρα στο colab:\n",
        "- πατάτε το εικονίδιο του φακέλου (τελευταίο εικονίδιο)\n",
        "- πατάτε το εικονίδιο του φακέλου με το σήμα του google drive και συνδέεστε στο drive σας\n",
        "- AN TO KANETE ΓΙΑ ΠΡΩΤΗ ΦΟΡΑ στον υπολογιστή σας, θα σας πει να τρέξετε ένα κελί που δημιουργεί για να συνδεθείτε στο drive σας - Μόλις το τρέξετε θα σας ανοίξει ένα παράθυρο για να αποδεχθείτε τη σύνδεση\n",
        "- πατάτε το φάκελο του drive και του MyDrive\n",
        "- ΑΝ ΔΕΝ ΥΠΑΡΧΕΙ ο φάκελος του Drive, κάνετε Refresh το tab στον browser και θα εμφανιστεί\n",
        "- πατάτε στο φάκελο που έχετε ανεβάσει το xlsx της efsyn\n",
        "- εντοπίζετε το xslx, βάζετε πάνω του το πονίκι και πατάτε στις 3 τελίτσες που εμφανίζονται δεξιά του ονόματος του αρχείου\n",
        "- πατάτε copy path στο μενού που εμφανίζεται\n",
        "\n",
        "Σε ένα νέο κελί γράφετε:\n",
        "\n",
        "```\n",
        "df = pd.read_excel(<κάνετε paste το path που κάνατε copy στο τελευταίο παραπάνω βήμα, μέσα σε εισαγωγικά>)\n",
        "```"
      ],
      "metadata": {
        "id": "X2h0cp0288U_"
      }
    },
    {
      "cell_type": "code",
      "source": [
        "# δημιουργία dataframe από το αρχείο των δεδομένων μας\n",
        "df = pd.read_csv('/content/drive/MyDrive/skai.gr-MAY23 (1).csv')"
      ],
      "metadata": {
        "id": "D1fJLAbz_z2I"
      },
      "execution_count": null,
      "outputs": []
    },
    {
      "cell_type": "code",
      "source": [
        "from google.colab import drive\n",
        "drive.mount('/content/drive')"
      ],
      "metadata": {
        "colab": {
          "base_uri": "https://localhost:8080/"
        },
        "id": "s7uy612Z6wyx",
        "outputId": "f09d1f48-ad44-4118-86c4-2d4df7647e86"
      },
      "execution_count": null,
      "outputs": [
        {
          "output_type": "stream",
          "name": "stdout",
          "text": [
            "Drive already mounted at /content/drive; to attempt to forcibly remount, call drive.mount(\"/content/drive\", force_remount=True).\n"
          ]
        }
      ]
    },
    {
      "cell_type": "markdown",
      "source": [
        "### MISSING VALUES"
      ],
      "metadata": {
        "id": "rKC5ytJRI96K"
      }
    },
    {
      "cell_type": "markdown",
      "source": [
        "Επειδή τα δεδομένα μας είναι πιθανό να έχουν ελλείπουσες τιμές (missing values), δηλαδή μπορεί να μην υπάρχει μια ημερομηνία σε ένα άρθρο ή ένας τίτλος ή οτιδήποτε, για να μην μας χτυπάει ο κώδικας παρακάτω, πετάμε απ' την αρχή όσα rows έχουν κενές τιμές (nan), με την παρακάτω εντολή:\n",
        "```\n",
        "# διαγραφή των rows με τιμή nan σε οποιοδήποτε column\n",
        "df.dropna(inplace=True)\n",
        "# reset_index για να ξαναγίνει συνεχής η αρίθμηση του index του dataframe\n",
        "df = df.reset_index(drop=True)\n",
        "```\n",
        "Εννοείται ότι στη θέση του df βάζουμε το όνομα που δώσαμε στο dataframe μας."
      ],
      "metadata": {
        "id": "l2TBS5V7AIKi"
      }
    },
    {
      "cell_type": "code",
      "source": [
        "# διαγραφή των rows με τιμή nan σε οποιοδήποτε column\n",
        "df.dropna(inplace=True)"
      ],
      "metadata": {
        "id": "bT-HuaRlBk_4"
      },
      "execution_count": null,
      "outputs": []
    },
    {
      "cell_type": "code",
      "source": [
        "# reset_index για να ξαναγίνει συνεχής η αρίθμηση του index του dataframe\n",
        "df = df.reset_index(drop=True)"
      ],
      "metadata": {
        "id": "GrK8SkHiCd4U"
      },
      "execution_count": null,
      "outputs": []
    },
    {
      "cell_type": "markdown",
      "source": [
        "### ΕΠΙΣΚΟΠΗΣΗ ΤΩΝ ΔΕΔΟΜΕΝΩΝ"
      ],
      "metadata": {
        "id": "yDsmby5rJP-W"
      }
    },
    {
      "cell_type": "markdown",
      "source": [
        "Εξετάζουμε το dataframe για να κατανοήσουμε τι περιέχουν τα δεδομένα μας, με εργαλεία που έχουμε μάθει όπως, τα head(), shape, describe(), columns, unique() κλπ."
      ],
      "metadata": {
        "id": "MJX2i9paDLIZ"
      }
    },
    {
      "cell_type": "code",
      "source": [
        "df. head()"
      ],
      "metadata": {
        "id": "lQYHLXkHDnaN",
        "colab": {
          "base_uri": "https://localhost:8080/",
          "height": 206
        },
        "outputId": "c512f52a-25f6-4598-d84e-617bd69e64a4"
      },
      "execution_count": null,
      "outputs": [
        {
          "output_type": "execute_result",
          "data": {
            "text/plain": [
              "      site                                                url        date  \\\n",
              "0  skai.gr  https://www.skai.gr/news/world/to-vatikano-sym...  2023-05-01   \n",
              "1  skai.gr  https://www.skai.gr/news/world/meksiko-18-tour...  2023-05-01   \n",
              "2  skai.gr  https://www.skai.gr/news/greece/eortologio-poi...  2023-05-01   \n",
              "3  skai.gr  https://www.skai.gr/news/world/soudan-i-vretan...  2023-05-01   \n",
              "4  skai.gr  https://www.skai.gr/news/greece/fotia-ta-ksime...  2023-05-01   \n",
              "\n",
              "  section                                              title   author  \\\n",
              "0  Κόσμος  Το Βατικανό συμμετέχει σε ειρηνευτική αποστολή...  ΑΠΕ-ΜΠΕ   \n",
              "1  Κόσμος  Μεξικό: Τουλάχιστον 18 τουρίστες νεκροί σε δυσ...  ΑΠΕ-ΜΠΕ   \n",
              "2  Ελλάδα                Ποιοι γιορτάζουν σήμερα, Πρωτομαγιά  skai.gr   \n",
              "3  Κόσμος  Σουδάν: Η Βρετανία ανακοίνωσε επιπλέον πτήση γ...  ΑΠΕ-ΜΠΕ   \n",
              "4  Ελλάδα  Καταστράφηκε ολοσχερώς από φωτιά καφετέρια στη...  skai.gr   \n",
              "\n",
              "                                                text  \n",
              "0  Το Βατικανό εμπλέκεται σε μια ειρηνευτική αποσ...  \n",
              "1  Τουλάχιστον δεκαοκτώ μεξικανοί τουρίστες σκοτώ...  \n",
              "2  Του Προφήτου Ιερεμία, του Αγίου Πανάρετου, της...  \n",
              "3  Μολονότι επισήμως η βρετανική κυβέρνηση ολοκλή...  \n",
              "4  Υπό μερικό έλεγχο βρίσκεται πυρκαγιά που ξέσπα...  "
            ],
            "text/html": [
              "\n",
              "  <div id=\"df-25148846-84f9-4a6f-a57f-60d255b1a485\" class=\"colab-df-container\">\n",
              "    <div>\n",
              "<style scoped>\n",
              "    .dataframe tbody tr th:only-of-type {\n",
              "        vertical-align: middle;\n",
              "    }\n",
              "\n",
              "    .dataframe tbody tr th {\n",
              "        vertical-align: top;\n",
              "    }\n",
              "\n",
              "    .dataframe thead th {\n",
              "        text-align: right;\n",
              "    }\n",
              "</style>\n",
              "<table border=\"1\" class=\"dataframe\">\n",
              "  <thead>\n",
              "    <tr style=\"text-align: right;\">\n",
              "      <th></th>\n",
              "      <th>site</th>\n",
              "      <th>url</th>\n",
              "      <th>date</th>\n",
              "      <th>section</th>\n",
              "      <th>title</th>\n",
              "      <th>author</th>\n",
              "      <th>text</th>\n",
              "    </tr>\n",
              "  </thead>\n",
              "  <tbody>\n",
              "    <tr>\n",
              "      <th>0</th>\n",
              "      <td>skai.gr</td>\n",
              "      <td>https://www.skai.gr/news/world/to-vatikano-sym...</td>\n",
              "      <td>2023-05-01</td>\n",
              "      <td>Κόσμος</td>\n",
              "      <td>Το Βατικανό συμμετέχει σε ειρηνευτική αποστολή...</td>\n",
              "      <td>ΑΠΕ-ΜΠΕ</td>\n",
              "      <td>Το Βατικανό εμπλέκεται σε μια ειρηνευτική αποσ...</td>\n",
              "    </tr>\n",
              "    <tr>\n",
              "      <th>1</th>\n",
              "      <td>skai.gr</td>\n",
              "      <td>https://www.skai.gr/news/world/meksiko-18-tour...</td>\n",
              "      <td>2023-05-01</td>\n",
              "      <td>Κόσμος</td>\n",
              "      <td>Μεξικό: Τουλάχιστον 18 τουρίστες νεκροί σε δυσ...</td>\n",
              "      <td>ΑΠΕ-ΜΠΕ</td>\n",
              "      <td>Τουλάχιστον δεκαοκτώ μεξικανοί τουρίστες σκοτώ...</td>\n",
              "    </tr>\n",
              "    <tr>\n",
              "      <th>2</th>\n",
              "      <td>skai.gr</td>\n",
              "      <td>https://www.skai.gr/news/greece/eortologio-poi...</td>\n",
              "      <td>2023-05-01</td>\n",
              "      <td>Ελλάδα</td>\n",
              "      <td>Ποιοι γιορτάζουν σήμερα, Πρωτομαγιά</td>\n",
              "      <td>skai.gr</td>\n",
              "      <td>Του Προφήτου Ιερεμία, του Αγίου Πανάρετου, της...</td>\n",
              "    </tr>\n",
              "    <tr>\n",
              "      <th>3</th>\n",
              "      <td>skai.gr</td>\n",
              "      <td>https://www.skai.gr/news/world/soudan-i-vretan...</td>\n",
              "      <td>2023-05-01</td>\n",
              "      <td>Κόσμος</td>\n",
              "      <td>Σουδάν: Η Βρετανία ανακοίνωσε επιπλέον πτήση γ...</td>\n",
              "      <td>ΑΠΕ-ΜΠΕ</td>\n",
              "      <td>Μολονότι επισήμως η βρετανική κυβέρνηση ολοκλή...</td>\n",
              "    </tr>\n",
              "    <tr>\n",
              "      <th>4</th>\n",
              "      <td>skai.gr</td>\n",
              "      <td>https://www.skai.gr/news/greece/fotia-ta-ksime...</td>\n",
              "      <td>2023-05-01</td>\n",
              "      <td>Ελλάδα</td>\n",
              "      <td>Καταστράφηκε ολοσχερώς από φωτιά καφετέρια στη...</td>\n",
              "      <td>skai.gr</td>\n",
              "      <td>Υπό μερικό έλεγχο βρίσκεται πυρκαγιά που ξέσπα...</td>\n",
              "    </tr>\n",
              "  </tbody>\n",
              "</table>\n",
              "</div>\n",
              "    <div class=\"colab-df-buttons\">\n",
              "\n",
              "  <div class=\"colab-df-container\">\n",
              "    <button class=\"colab-df-convert\" onclick=\"convertToInteractive('df-25148846-84f9-4a6f-a57f-60d255b1a485')\"\n",
              "            title=\"Convert this dataframe to an interactive table.\"\n",
              "            style=\"display:none;\">\n",
              "\n",
              "  <svg xmlns=\"http://www.w3.org/2000/svg\" height=\"24px\" viewBox=\"0 -960 960 960\">\n",
              "    <path d=\"M120-120v-720h720v720H120Zm60-500h600v-160H180v160Zm220 220h160v-160H400v160Zm0 220h160v-160H400v160ZM180-400h160v-160H180v160Zm440 0h160v-160H620v160ZM180-180h160v-160H180v160Zm440 0h160v-160H620v160Z\"/>\n",
              "  </svg>\n",
              "    </button>\n",
              "\n",
              "  <style>\n",
              "    .colab-df-container {\n",
              "      display:flex;\n",
              "      gap: 12px;\n",
              "    }\n",
              "\n",
              "    .colab-df-convert {\n",
              "      background-color: #E8F0FE;\n",
              "      border: none;\n",
              "      border-radius: 50%;\n",
              "      cursor: pointer;\n",
              "      display: none;\n",
              "      fill: #1967D2;\n",
              "      height: 32px;\n",
              "      padding: 0 0 0 0;\n",
              "      width: 32px;\n",
              "    }\n",
              "\n",
              "    .colab-df-convert:hover {\n",
              "      background-color: #E2EBFA;\n",
              "      box-shadow: 0px 1px 2px rgba(60, 64, 67, 0.3), 0px 1px 3px 1px rgba(60, 64, 67, 0.15);\n",
              "      fill: #174EA6;\n",
              "    }\n",
              "\n",
              "    .colab-df-buttons div {\n",
              "      margin-bottom: 4px;\n",
              "    }\n",
              "\n",
              "    [theme=dark] .colab-df-convert {\n",
              "      background-color: #3B4455;\n",
              "      fill: #D2E3FC;\n",
              "    }\n",
              "\n",
              "    [theme=dark] .colab-df-convert:hover {\n",
              "      background-color: #434B5C;\n",
              "      box-shadow: 0px 1px 3px 1px rgba(0, 0, 0, 0.15);\n",
              "      filter: drop-shadow(0px 1px 2px rgba(0, 0, 0, 0.3));\n",
              "      fill: #FFFFFF;\n",
              "    }\n",
              "  </style>\n",
              "\n",
              "    <script>\n",
              "      const buttonEl =\n",
              "        document.querySelector('#df-25148846-84f9-4a6f-a57f-60d255b1a485 button.colab-df-convert');\n",
              "      buttonEl.style.display =\n",
              "        google.colab.kernel.accessAllowed ? 'block' : 'none';\n",
              "\n",
              "      async function convertToInteractive(key) {\n",
              "        const element = document.querySelector('#df-25148846-84f9-4a6f-a57f-60d255b1a485');\n",
              "        const dataTable =\n",
              "          await google.colab.kernel.invokeFunction('convertToInteractive',\n",
              "                                                    [key], {});\n",
              "        if (!dataTable) return;\n",
              "\n",
              "        const docLinkHtml = 'Like what you see? Visit the ' +\n",
              "          '<a target=\"_blank\" href=https://colab.research.google.com/notebooks/data_table.ipynb>data table notebook</a>'\n",
              "          + ' to learn more about interactive tables.';\n",
              "        element.innerHTML = '';\n",
              "        dataTable['output_type'] = 'display_data';\n",
              "        await google.colab.output.renderOutput(dataTable, element);\n",
              "        const docLink = document.createElement('div');\n",
              "        docLink.innerHTML = docLinkHtml;\n",
              "        element.appendChild(docLink);\n",
              "      }\n",
              "    </script>\n",
              "  </div>\n",
              "\n",
              "\n",
              "<div id=\"df-affa2bc6-feeb-44c6-808b-589708e17e55\">\n",
              "  <button class=\"colab-df-quickchart\" onclick=\"quickchart('df-affa2bc6-feeb-44c6-808b-589708e17e55')\"\n",
              "            title=\"Suggest charts\"\n",
              "            style=\"display:none;\">\n",
              "\n",
              "<svg xmlns=\"http://www.w3.org/2000/svg\" height=\"24px\"viewBox=\"0 0 24 24\"\n",
              "     width=\"24px\">\n",
              "    <g>\n",
              "        <path d=\"M19 3H5c-1.1 0-2 .9-2 2v14c0 1.1.9 2 2 2h14c1.1 0 2-.9 2-2V5c0-1.1-.9-2-2-2zM9 17H7v-7h2v7zm4 0h-2V7h2v10zm4 0h-2v-4h2v4z\"/>\n",
              "    </g>\n",
              "</svg>\n",
              "  </button>\n",
              "\n",
              "<style>\n",
              "  .colab-df-quickchart {\n",
              "      --bg-color: #E8F0FE;\n",
              "      --fill-color: #1967D2;\n",
              "      --hover-bg-color: #E2EBFA;\n",
              "      --hover-fill-color: #174EA6;\n",
              "      --disabled-fill-color: #AAA;\n",
              "      --disabled-bg-color: #DDD;\n",
              "  }\n",
              "\n",
              "  [theme=dark] .colab-df-quickchart {\n",
              "      --bg-color: #3B4455;\n",
              "      --fill-color: #D2E3FC;\n",
              "      --hover-bg-color: #434B5C;\n",
              "      --hover-fill-color: #FFFFFF;\n",
              "      --disabled-bg-color: #3B4455;\n",
              "      --disabled-fill-color: #666;\n",
              "  }\n",
              "\n",
              "  .colab-df-quickchart {\n",
              "    background-color: var(--bg-color);\n",
              "    border: none;\n",
              "    border-radius: 50%;\n",
              "    cursor: pointer;\n",
              "    display: none;\n",
              "    fill: var(--fill-color);\n",
              "    height: 32px;\n",
              "    padding: 0;\n",
              "    width: 32px;\n",
              "  }\n",
              "\n",
              "  .colab-df-quickchart:hover {\n",
              "    background-color: var(--hover-bg-color);\n",
              "    box-shadow: 0 1px 2px rgba(60, 64, 67, 0.3), 0 1px 3px 1px rgba(60, 64, 67, 0.15);\n",
              "    fill: var(--button-hover-fill-color);\n",
              "  }\n",
              "\n",
              "  .colab-df-quickchart-complete:disabled,\n",
              "  .colab-df-quickchart-complete:disabled:hover {\n",
              "    background-color: var(--disabled-bg-color);\n",
              "    fill: var(--disabled-fill-color);\n",
              "    box-shadow: none;\n",
              "  }\n",
              "\n",
              "  .colab-df-spinner {\n",
              "    border: 2px solid var(--fill-color);\n",
              "    border-color: transparent;\n",
              "    border-bottom-color: var(--fill-color);\n",
              "    animation:\n",
              "      spin 1s steps(1) infinite;\n",
              "  }\n",
              "\n",
              "  @keyframes spin {\n",
              "    0% {\n",
              "      border-color: transparent;\n",
              "      border-bottom-color: var(--fill-color);\n",
              "      border-left-color: var(--fill-color);\n",
              "    }\n",
              "    20% {\n",
              "      border-color: transparent;\n",
              "      border-left-color: var(--fill-color);\n",
              "      border-top-color: var(--fill-color);\n",
              "    }\n",
              "    30% {\n",
              "      border-color: transparent;\n",
              "      border-left-color: var(--fill-color);\n",
              "      border-top-color: var(--fill-color);\n",
              "      border-right-color: var(--fill-color);\n",
              "    }\n",
              "    40% {\n",
              "      border-color: transparent;\n",
              "      border-right-color: var(--fill-color);\n",
              "      border-top-color: var(--fill-color);\n",
              "    }\n",
              "    60% {\n",
              "      border-color: transparent;\n",
              "      border-right-color: var(--fill-color);\n",
              "    }\n",
              "    80% {\n",
              "      border-color: transparent;\n",
              "      border-right-color: var(--fill-color);\n",
              "      border-bottom-color: var(--fill-color);\n",
              "    }\n",
              "    90% {\n",
              "      border-color: transparent;\n",
              "      border-bottom-color: var(--fill-color);\n",
              "    }\n",
              "  }\n",
              "</style>\n",
              "\n",
              "  <script>\n",
              "    async function quickchart(key) {\n",
              "      const quickchartButtonEl =\n",
              "        document.querySelector('#' + key + ' button');\n",
              "      quickchartButtonEl.disabled = true;  // To prevent multiple clicks.\n",
              "      quickchartButtonEl.classList.add('colab-df-spinner');\n",
              "      try {\n",
              "        const charts = await google.colab.kernel.invokeFunction(\n",
              "            'suggestCharts', [key], {});\n",
              "      } catch (error) {\n",
              "        console.error('Error during call to suggestCharts:', error);\n",
              "      }\n",
              "      quickchartButtonEl.classList.remove('colab-df-spinner');\n",
              "      quickchartButtonEl.classList.add('colab-df-quickchart-complete');\n",
              "    }\n",
              "    (() => {\n",
              "      let quickchartButtonEl =\n",
              "        document.querySelector('#df-affa2bc6-feeb-44c6-808b-589708e17e55 button');\n",
              "      quickchartButtonEl.style.display =\n",
              "        google.colab.kernel.accessAllowed ? 'block' : 'none';\n",
              "    })();\n",
              "  </script>\n",
              "</div>\n",
              "    </div>\n",
              "  </div>\n"
            ],
            "application/vnd.google.colaboratory.intrinsic+json": {
              "type": "dataframe",
              "summary": "{\n  \"name\": \"df\",\n  \"rows\": 5,\n  \"fields\": [\n    {\n      \"column\": \"site\",\n      \"properties\": {\n        \"dtype\": \"category\",\n        \"num_unique_values\": 1,\n        \"samples\": [\n          \"skai.gr\"\n        ],\n        \"semantic_type\": \"\",\n        \"description\": \"\"\n      }\n    },\n    {\n      \"column\": \"url\",\n      \"properties\": {\n        \"dtype\": \"string\",\n        \"num_unique_values\": 5,\n        \"samples\": [\n          \"https://www.skai.gr/news/world/meksiko-18-touristes-nekroi-se-dystyxima-sto-opoio-eneplaki-leoforeio\"\n        ],\n        \"semantic_type\": \"\",\n        \"description\": \"\"\n      }\n    },\n    {\n      \"column\": \"date\",\n      \"properties\": {\n        \"dtype\": \"object\",\n        \"num_unique_values\": 1,\n        \"samples\": [\n          \"2023-05-01\"\n        ],\n        \"semantic_type\": \"\",\n        \"description\": \"\"\n      }\n    },\n    {\n      \"column\": \"section\",\n      \"properties\": {\n        \"dtype\": \"category\",\n        \"num_unique_values\": 2,\n        \"samples\": [\n          \"\\u0395\\u03bb\\u03bb\\u03ac\\u03b4\\u03b1\"\n        ],\n        \"semantic_type\": \"\",\n        \"description\": \"\"\n      }\n    },\n    {\n      \"column\": \"title\",\n      \"properties\": {\n        \"dtype\": \"string\",\n        \"num_unique_values\": 5,\n        \"samples\": [\n          \"\\u039c\\u03b5\\u03be\\u03b9\\u03ba\\u03cc: \\u03a4\\u03bf\\u03c5\\u03bb\\u03ac\\u03c7\\u03b9\\u03c3\\u03c4\\u03bf\\u03bd 18 \\u03c4\\u03bf\\u03c5\\u03c1\\u03af\\u03c3\\u03c4\\u03b5\\u03c2 \\u03bd\\u03b5\\u03ba\\u03c1\\u03bf\\u03af \\u03c3\\u03b5 \\u03b4\\u03c5\\u03c3\\u03c4\\u03cd\\u03c7\\u03b7\\u03bc\\u03b1 \\u03c3\\u03c4\\u03bf \\u03bf\\u03c0\\u03bf\\u03af\\u03bf \\u03b5\\u03bd\\u03b5\\u03c0\\u03bb\\u03ac\\u03ba\\u03b7 \\u03bb\\u03b5\\u03c9\\u03c6\\u03bf\\u03c1\\u03b5\\u03af\\u03bf\"\n        ],\n        \"semantic_type\": \"\",\n        \"description\": \"\"\n      }\n    },\n    {\n      \"column\": \"author\",\n      \"properties\": {\n        \"dtype\": \"category\",\n        \"num_unique_values\": 2,\n        \"samples\": [\n          \"skai.gr\"\n        ],\n        \"semantic_type\": \"\",\n        \"description\": \"\"\n      }\n    },\n    {\n      \"column\": \"text\",\n      \"properties\": {\n        \"dtype\": \"string\",\n        \"num_unique_values\": 5,\n        \"samples\": [\n          \"\\u03a4\\u03bf\\u03c5\\u03bb\\u03ac\\u03c7\\u03b9\\u03c3\\u03c4\\u03bf\\u03bd \\u03b4\\u03b5\\u03ba\\u03b1\\u03bf\\u03ba\\u03c4\\u03ce \\u03bc\\u03b5\\u03be\\u03b9\\u03ba\\u03b1\\u03bd\\u03bf\\u03af \\u03c4\\u03bf\\u03c5\\u03c1\\u03af\\u03c3\\u03c4\\u03b5\\u03c2 \\u03c3\\u03ba\\u03bf\\u03c4\\u03ce\\u03b8\\u03b7\\u03ba\\u03b1\\u03bd \\u03ba\\u03b1\\u03b9 \\u03ac\\u03bb\\u03bb\\u03bf\\u03b9 25 \\u03c4\\u03c1\\u03b1\\u03c5\\u03bc\\u03b1\\u03c4\\u03af\\u03c3\\u03c4\\u03b7\\u03ba\\u03b1\\u03bd \\u03c4\\u03b7 \\u03bd\\u03cd\\u03c7\\u03c4\\u03b1 \\u03c4\\u03bf\\u03c5 \\u03a3\\u03b1\\u03b2\\u03b2\\u03ac\\u03c4\\u03bf\\u03c5 \\u03c0\\u03c1\\u03bf\\u03c2 \\u039a\\u03c5\\u03c1\\u03b9\\u03b1\\u03ba\\u03ae \\u03cc\\u03c4\\u03b1\\u03bd \\u03bb\\u03b5\\u03c9\\u03c6\\u03bf\\u03c1\\u03b5\\u03af\\u03bf \\u03ad\\u03c0\\u03b5\\u03c3\\u03b5 \\u03c3\\u03b5 \\u03c7\\u03b1\\u03c1\\u03ac\\u03b4\\u03c1\\u03b1 \\u03c3\\u03c4\\u03bf \\u03b2\\u03bf\\u03c1\\u03b5\\u03b9\\u03bf\\u03b4\\u03c5\\u03c4\\u03b9\\u03ba\\u03cc \\u039c\\u03b5\\u03be\\u03b9\\u03ba\\u03cc, \\u03b4\\u03ae\\u03bb\\u03c9\\u03c3\\u03b5 \\u03c7\\u03b8\\u03b5\\u03c2 \\u039a\\u03c5\\u03c1\\u03b9\\u03b1\\u03ba\\u03ae \\u03c3\\u03c4\\u03bf \\u0393\\u03b1\\u03bb\\u03bb\\u03b9\\u03ba\\u03cc \\u03a0\\u03c1\\u03b1\\u03ba\\u03c4\\u03bf\\u03c1\\u03b5\\u03af\\u03bf \\u03b1\\u03be\\u03b9\\u03c9\\u03bc\\u03b1\\u03c4\\u03b9\\u03ba\\u03cc\\u03c2 \\u03c4\\u03b7\\u03c2 \\u03c0\\u03c5\\u03c1\\u03bf\\u03c3\\u03b2\\u03b5\\u03c3\\u03c4\\u03b9\\u03ba\\u03ae\\u03c2. \\u00ab\\u0395\\u03af\\u03c7\\u03b1\\u03bc\\u03b5 \\u03c4\\u03c1\\u03bf\\u03c7\\u03b1\\u03af\\u03bf \\u03b4\\u03c5\\u03c3\\u03c4\\u03cd\\u03c7\\u03b7\\u03bc\\u03b1 \\u03c3\\u03c4\\u03bf \\u03bf\\u03c0\\u03bf\\u03af\\u03bf \\u03b5\\u03bd\\u03b5\\u03c0\\u03bb\\u03ac\\u03ba\\u03b7 \\u03bb\\u03b5\\u03c9\\u03c6\\u03bf\\u03c1\\u03b5\\u03af\\u03bf \\u03b9\\u03b4\\u03b9\\u03c9\\u03c4\\u03b9\\u03ba\\u03ae\\u03c2 \\u03b5\\u03c4\\u03b1\\u03b9\\u03c1\\u03b5\\u03af\\u03b1\\u03c2 \\u03c0\\u03bf\\u03c5 \\u03bc\\u03b5\\u03c4\\u03ad\\u03c6\\u03b5\\u03c1\\u03b5 \\u03c4\\u03bf\\u03c5\\u03c1\\u03af\\u03c3\\u03c4\\u03b5\\u03c2 \\u03b1\\u03c0\\u03cc \\u03c4\\u03b7 \\u0393\\u03bf\\u03c5\\u03b1\\u03b4\\u03b1\\u03bb\\u03b1\\u03c7\\u03ac\\u03c1\\u03b1, \\u03c3\\u03c4\\u03b7\\u03bd \\u03c0\\u03bf\\u03bb\\u03b9\\u03c4\\u03b5\\u03af\\u03b1 \\u03a7\\u03b1\\u03bb\\u03af\\u03c3\\u03ba\\u03bf [\\u03b4\\u03c5\\u03c4\\u03b9\\u03ba\\u03ac], \\u03c3\\u03c4\\u03b7 \\u0393\\u03bf\\u03c5\\u03b1\\u03b3\\u03b9\\u03b1\\u03bc\\u03c0\\u03af\\u03c4\\u03bf\\u03c2\\u00bb, \\u03c3\\u03c4\\u03b7\\u03bd \\u03c0\\u03bf\\u03bb\\u03b9\\u03c4\\u03b5\\u03af\\u03b1 \\u039d\\u03b1\\u03b3\\u03b9\\u03b1\\u03c1\\u03af\\u03c4, \\u03c0\\u03c1\\u03bf\\u03bf\\u03c1\\u03b9\\u03c3\\u03bc\\u03cc \\u03c6\\u03b7\\u03bc\\u03b9\\u03c3\\u03bc\\u03ad\\u03bd\\u03bf \\u03b3\\u03b9\\u03b1 \\u03c4\\u03b9\\u03c2 \\u03c0\\u03b1\\u03c1\\u03b1\\u03bb\\u03af\\u03b5\\u03c2 \\u03c4\\u03bf\\u03c5, \\u03c3\\u03c4\\u03b9\\u03c2 \\u03bc\\u03b5\\u03be\\u03b9\\u03ba\\u03b1\\u03bd\\u03b9\\u03ba\\u03ad\\u03c2 \\u03b1\\u03ba\\u03c4\\u03ad\\u03c2 \\u03c3\\u03c4\\u03bf\\u03bd \\u0395\\u03b9\\u03c1\\u03b7\\u03bd\\u03b9\\u03ba\\u03cc, \\u03b5\\u03be\\u03ae\\u03b3\\u03b7\\u03c3\\u03b5 \\u03bf \\u03a0\\u03ad\\u03b4\\u03c1\\u03bf \\u039d\\u03bf\\u03cd\\u03bd\\u03b9\\u03b5\\u03c2, \\u03bf \\u03b5\\u03c0\\u03b9\\u03ba\\u03b5\\u03c6\\u03b1\\u03bb\\u03ae\\u03c2 \\u03c4\\u03b7\\u03c2 \\u03c0\\u03c5\\u03c1\\u03bf\\u03c3\\u03b2\\u03b5\\u03c3\\u03c4\\u03b9\\u03ba\\u03ae\\u03c2 \\u03c3\\u03c4\\u03b7\\u03bd \\u03c0\\u03b5\\u03c1\\u03b9\\u03bf\\u03c7\\u03ae. \\u0394\\u03b9\\u03b5\\u03bd\\u03b5\\u03c1\\u03b3\\u03b5\\u03af\\u03c4\\u03b1\\u03b9 \\u03ad\\u03c1\\u03b5\\u03c5\\u03bd\\u03b1 \\u03b3\\u03b9\\u03b1 \\u03bd\\u03b1 \\u03b5\\u03be\\u03b1\\u03ba\\u03c1\\u03b9\\u03b2\\u03c9\\u03b8\\u03bf\\u03cd\\u03bd \\u03bf\\u03b9 \\u03bb\\u03cc\\u03b3\\u03bf\\u03b9 \\u03c0\\u03bf\\u03c5 \\u03c4\\u03bf \\u03bb\\u03b5\\u03c9\\u03c6\\u03bf\\u03c1\\u03b5\\u03af\\u03bf \\u03ad\\u03c0\\u03b5\\u03c3\\u03b5 \\u03c3\\u03b5 \\u03c7\\u03b1\\u03c1\\u03ac\\u03b4\\u03c1\\u03b1 \\u03ba\\u03b1\\u03b9 \\u03b3\\u03b9\\u03b1 \\u03bd\\u03b1 \\u03b1\\u03bd\\u03b1\\u03b3\\u03bd\\u03c9\\u03c1\\u03b9\\u03c3\\u03c4\\u03bf\\u03cd\\u03bd \\u03c4\\u03b1 \\u03b8\\u03cd\\u03bc\\u03b1\\u03c4\\u03b1, \\u03cc\\u03bb\\u03b1 \\u00ab\\u03b7\\u03bc\\u03b5\\u03b4\\u03b1\\u03c0\\u03bf\\u03af \\u03c4\\u03bf\\u03c5\\u03c1\\u03af\\u03c3\\u03c4\\u03b5\\u03c2\\u00bb, \\u03b4\\u03b9\\u03b5\\u03c5\\u03ba\\u03c1\\u03af\\u03bd\\u03b9\\u03c3\\u03b5. \\u0394\\u03b9\\u03b1\\u03b2\\u03ac\\u03c3\\u03c4\\u03b5 \\u03c4\\u03b9\\u03c2 \\u0395\\u03b9\\u03b4\\u03ae\\u03c3\\u03b5\\u03b9\\u03c2 \\u03c3\\u03ae\\u03bc\\u03b5\\u03c1\\u03b1 \\u03ba\\u03b1\\u03b9 \\u03b5\\u03bd\\u03b7\\u03bc\\u03b5\\u03c1\\u03c9\\u03b8\\u03b5\\u03af\\u03c4\\u03b5 \\u03b3\\u03b9\\u03b1 \\u03c4\\u03b1 \\u03c0\\u03c1\\u03cc\\u03c3\\u03c6\\u03b1\\u03c4\\u03b1 \\u03bd\\u03ad\\u03b1. \\u0391\\u03ba\\u03bf\\u03bb\\u03bf\\u03c5\\u03b8\\u03ae\\u03c3\\u03c4\\u03b5 \\u03c4\\u03bf Skai.gr \\u03c3\\u03c4\\u03bf Google News \\u03ba\\u03b1\\u03b9 \\u03bc\\u03ac\\u03b8\\u03b5\\u03c4\\u03b5 \\u03c0\\u03c1\\u03ce\\u03c4\\u03bf\\u03b9 \\u03cc\\u03bb\\u03b5\\u03c2 \\u03c4\\u03b9\\u03c2 \\u03b5\\u03b9\\u03b4\\u03ae\\u03c3\\u03b5\\u03b9\\u03c2. \\u0395\\u03c1\\u03bd\\u03c4\\u03bf\\u03b3\\u03ac\\u03bd: \\u039f \\u00ab\\u03c6\\u03b5\\u03c1\\u03cc\\u03bc\\u03b5\\u03bd\\u03bf\\u03c2 \\u03b7\\u03b3\\u03ad\\u03c4\\u03b7\\u03c2\\u00bb \\u03c4\\u03bf\\u03c5 \\u0399\\u03c3\\u03bb\\u03b1\\u03bc\\u03b9\\u03ba\\u03bf\\u03cd \\u039a\\u03c1\\u03ac\\u03c4\\u03bf\\u03c5\\u03c2 \\u00ab\\u03b5\\u03be\\u03bf\\u03c5\\u03b4\\u03b5\\u03c4\\u03b5\\u03c1\\u03ce\\u03b8\\u03b7\\u03ba\\u03b5\\u00bb \\u039f\\u0397\\u0395: \\u00ab\\u0386\\u03bd\\u03b5\\u03c5 \\u03c0\\u03c1\\u03bf\\u03b7\\u03b3\\u03bf\\u03c5\\u03bc\\u03ad\\u03bd\\u03bf\\u03c5\\u00bb \\u03b7 \\u03ba\\u03b1\\u03c4\\u03ac\\u03c3\\u03c4\\u03b1\\u03c3\\u03b7 \\u03c3\\u03c4\\u03bf \\u03a3\\u03bf\\u03c5\\u03b4\\u03ac\\u03bd -\\u039c\\u03b5\\u03c4\\u03b1\\u03b2\\u03b1\\u03af\\u03bd\\u03b5\\u03b9 \\u03bf \\u03b5\\u03c0\\u03b9\\u03ba\\u03b5\\u03c6\\u03b1\\u03bb\\u03ae\\u03c2 \\u03b3\\u03b9\\u03b1 \\u03b1\\u03bd\\u03b8\\u03c1\\u03c9\\u03c0\\u03b9\\u03c3\\u03c4\\u03b9\\u03ba\\u03ad\\u03c2 \\u03c5\\u03c0\\u03bf\\u03b8\\u03ad\\u03c3\\u03b5\\u03b9\\u03c2 \\u039a\\u03b1\\u03bb\\u03cc\\u03c2 \\u03bf \\u039c\\u03c0\\u03ac\\u03b9\\u03bd\\u03c4\\u03b5\\u03bd, \\u03b1\\u03bb\\u03bb\\u03ac \\u03bc\\u03cc\\u03bd\\u03bf \\u03c9\\u03c2... \\u03b1\\u03bd\\u03c4\\u03af\\u03c0\\u03b1\\u03bb\\u03bf\\u03c2 \\u03c4\\u03bf\\u03c5 \\u03a4\\u03c1\\u03b1\\u03bc\\u03c0 - \\u0395\\u03c4\\u03bf\\u03b9\\u03bc\\u03ac\\u03b6\\u03b5\\u03c4\\u03b1\\u03b9 \\u03b7 \\u03bd\\u03ad\\u03b1 \\u03b3\\u03b5\\u03bd\\u03b9\\u03ac \\u03c4\\u03c9\\u03bd \\u03a1\\u03b5\\u03c0\\u03bf\\u03c5\\u03bc\\u03c0\\u03bb\\u03b9\\u03ba\\u03b1\\u03bd\\u03ce\\u03bd\"\n        ],\n        \"semantic_type\": \"\",\n        \"description\": \"\"\n      }\n    }\n  ]\n}"
            }
          },
          "metadata": {},
          "execution_count": 44
        }
      ]
    },
    {
      "cell_type": "code",
      "source": [
        "df.tail()"
      ],
      "metadata": {
        "id": "FShyn_wpFyHw",
        "outputId": "ebd44aac-a80d-42e8-d513-921af88c1794",
        "colab": {
          "base_uri": "https://localhost:8080/",
          "height": 293
        }
      },
      "execution_count": null,
      "outputs": [
        {
          "output_type": "execute_result",
          "data": {
            "text/plain": [
              "         site                                                url        date  \\\n",
              "4978  skai.gr  https://www.skai.gr/news/politics/androulakis-...  2023-05-31   \n",
              "4979  skai.gr  https://www.skai.gr/news/sports/apotheosi-vero...  2023-05-31   \n",
              "4980  skai.gr  https://www.skai.gr/news/world/san-simera-i-la...  2023-05-31   \n",
              "4981  skai.gr  https://www.skai.gr/news/world/germania-epithy...  2023-05-31   \n",
              "4982  skai.gr  https://www.skai.gr/news/politics/paylos-marin...  2023-05-31   \n",
              "\n",
              "       section                                              title   author  \\\n",
              "4978  Πολιτική  Ανδρουλάκης από Θεσσαλονίκη: Επιδιώκουμε φορολ...  ΑΠΕ-ΜΠΕ   \n",
              "4979  Αθλητικά  Αποθέωση Βερόν σε Καραγκούνη σε Reunion μέσω Ι...  skai.gr   \n",
              "4980    Κόσμος  Σαν σήμερα: Η λαίδη Γκοντάιβα βγήκε γυμνή στον...  skai.gr   \n",
              "4981    Κόσμος  Το Βερολίνο θέλει «θετικές εξελίξεις» σε Κυπρι...  ΑΠΕ-ΜΠΕ   \n",
              "4982  Πολιτική  Παύλος Μαρινάκης: Για ποιον λόγο αποσύρθηκε το...  skai.gr   \n",
              "\n",
              "                                                   text   datetime  year  \\\n",
              "4978   \"Επιδιώκουμε φορολογική δικαιοσύνη και αντιμε... 2023-05-31  2023   \n",
              "4979  Ο Γιώργος Καραγκούνης συναντήθηκε με τον παλιό... 2023-05-31  2023   \n",
              "4980  Σαν σήμερα - 31 Μαΐου 2023 Ιστορικά και πολιτι... 2023-05-31  2023   \n",
              "4981  Το Κυπριακό και οι ελληνοτουρκικές σχέσεις συμ... 2023-05-31  2023   \n",
              "4982  «Μετά από τις κωμικοτραγικές αντιφάσεις των στ... 2023-05-31  2023   \n",
              "\n",
              "      month  hour  day  \n",
              "4978      5     0   31  \n",
              "4979      5     0   31  \n",
              "4980      5     0   31  \n",
              "4981      5     0   31  \n",
              "4982      5     0   31  "
            ],
            "text/html": [
              "\n",
              "  <div id=\"df-47958205-8b11-4729-a9ca-8bef166a26c9\" class=\"colab-df-container\">\n",
              "    <div>\n",
              "<style scoped>\n",
              "    .dataframe tbody tr th:only-of-type {\n",
              "        vertical-align: middle;\n",
              "    }\n",
              "\n",
              "    .dataframe tbody tr th {\n",
              "        vertical-align: top;\n",
              "    }\n",
              "\n",
              "    .dataframe thead th {\n",
              "        text-align: right;\n",
              "    }\n",
              "</style>\n",
              "<table border=\"1\" class=\"dataframe\">\n",
              "  <thead>\n",
              "    <tr style=\"text-align: right;\">\n",
              "      <th></th>\n",
              "      <th>site</th>\n",
              "      <th>url</th>\n",
              "      <th>date</th>\n",
              "      <th>section</th>\n",
              "      <th>title</th>\n",
              "      <th>author</th>\n",
              "      <th>text</th>\n",
              "      <th>datetime</th>\n",
              "      <th>year</th>\n",
              "      <th>month</th>\n",
              "      <th>hour</th>\n",
              "      <th>day</th>\n",
              "    </tr>\n",
              "  </thead>\n",
              "  <tbody>\n",
              "    <tr>\n",
              "      <th>4978</th>\n",
              "      <td>skai.gr</td>\n",
              "      <td>https://www.skai.gr/news/politics/androulakis-...</td>\n",
              "      <td>2023-05-31</td>\n",
              "      <td>Πολιτική</td>\n",
              "      <td>Ανδρουλάκης από Θεσσαλονίκη: Επιδιώκουμε φορολ...</td>\n",
              "      <td>ΑΠΕ-ΜΠΕ</td>\n",
              "      <td>\"Επιδιώκουμε φορολογική δικαιοσύνη και αντιμε...</td>\n",
              "      <td>2023-05-31</td>\n",
              "      <td>2023</td>\n",
              "      <td>5</td>\n",
              "      <td>0</td>\n",
              "      <td>31</td>\n",
              "    </tr>\n",
              "    <tr>\n",
              "      <th>4979</th>\n",
              "      <td>skai.gr</td>\n",
              "      <td>https://www.skai.gr/news/sports/apotheosi-vero...</td>\n",
              "      <td>2023-05-31</td>\n",
              "      <td>Αθλητικά</td>\n",
              "      <td>Αποθέωση Βερόν σε Καραγκούνη σε Reunion μέσω Ι...</td>\n",
              "      <td>skai.gr</td>\n",
              "      <td>Ο Γιώργος Καραγκούνης συναντήθηκε με τον παλιό...</td>\n",
              "      <td>2023-05-31</td>\n",
              "      <td>2023</td>\n",
              "      <td>5</td>\n",
              "      <td>0</td>\n",
              "      <td>31</td>\n",
              "    </tr>\n",
              "    <tr>\n",
              "      <th>4980</th>\n",
              "      <td>skai.gr</td>\n",
              "      <td>https://www.skai.gr/news/world/san-simera-i-la...</td>\n",
              "      <td>2023-05-31</td>\n",
              "      <td>Κόσμος</td>\n",
              "      <td>Σαν σήμερα: Η λαίδη Γκοντάιβα βγήκε γυμνή στον...</td>\n",
              "      <td>skai.gr</td>\n",
              "      <td>Σαν σήμερα - 31 Μαΐου 2023 Ιστορικά και πολιτι...</td>\n",
              "      <td>2023-05-31</td>\n",
              "      <td>2023</td>\n",
              "      <td>5</td>\n",
              "      <td>0</td>\n",
              "      <td>31</td>\n",
              "    </tr>\n",
              "    <tr>\n",
              "      <th>4981</th>\n",
              "      <td>skai.gr</td>\n",
              "      <td>https://www.skai.gr/news/world/germania-epithy...</td>\n",
              "      <td>2023-05-31</td>\n",
              "      <td>Κόσμος</td>\n",
              "      <td>Το Βερολίνο θέλει «θετικές εξελίξεις» σε Κυπρι...</td>\n",
              "      <td>ΑΠΕ-ΜΠΕ</td>\n",
              "      <td>Το Κυπριακό και οι ελληνοτουρκικές σχέσεις συμ...</td>\n",
              "      <td>2023-05-31</td>\n",
              "      <td>2023</td>\n",
              "      <td>5</td>\n",
              "      <td>0</td>\n",
              "      <td>31</td>\n",
              "    </tr>\n",
              "    <tr>\n",
              "      <th>4982</th>\n",
              "      <td>skai.gr</td>\n",
              "      <td>https://www.skai.gr/news/politics/paylos-marin...</td>\n",
              "      <td>2023-05-31</td>\n",
              "      <td>Πολιτική</td>\n",
              "      <td>Παύλος Μαρινάκης: Για ποιον λόγο αποσύρθηκε το...</td>\n",
              "      <td>skai.gr</td>\n",
              "      <td>«Μετά από τις κωμικοτραγικές αντιφάσεις των στ...</td>\n",
              "      <td>2023-05-31</td>\n",
              "      <td>2023</td>\n",
              "      <td>5</td>\n",
              "      <td>0</td>\n",
              "      <td>31</td>\n",
              "    </tr>\n",
              "  </tbody>\n",
              "</table>\n",
              "</div>\n",
              "    <div class=\"colab-df-buttons\">\n",
              "\n",
              "  <div class=\"colab-df-container\">\n",
              "    <button class=\"colab-df-convert\" onclick=\"convertToInteractive('df-47958205-8b11-4729-a9ca-8bef166a26c9')\"\n",
              "            title=\"Convert this dataframe to an interactive table.\"\n",
              "            style=\"display:none;\">\n",
              "\n",
              "  <svg xmlns=\"http://www.w3.org/2000/svg\" height=\"24px\" viewBox=\"0 -960 960 960\">\n",
              "    <path d=\"M120-120v-720h720v720H120Zm60-500h600v-160H180v160Zm220 220h160v-160H400v160Zm0 220h160v-160H400v160ZM180-400h160v-160H180v160Zm440 0h160v-160H620v160ZM180-180h160v-160H180v160Zm440 0h160v-160H620v160Z\"/>\n",
              "  </svg>\n",
              "    </button>\n",
              "\n",
              "  <style>\n",
              "    .colab-df-container {\n",
              "      display:flex;\n",
              "      gap: 12px;\n",
              "    }\n",
              "\n",
              "    .colab-df-convert {\n",
              "      background-color: #E8F0FE;\n",
              "      border: none;\n",
              "      border-radius: 50%;\n",
              "      cursor: pointer;\n",
              "      display: none;\n",
              "      fill: #1967D2;\n",
              "      height: 32px;\n",
              "      padding: 0 0 0 0;\n",
              "      width: 32px;\n",
              "    }\n",
              "\n",
              "    .colab-df-convert:hover {\n",
              "      background-color: #E2EBFA;\n",
              "      box-shadow: 0px 1px 2px rgba(60, 64, 67, 0.3), 0px 1px 3px 1px rgba(60, 64, 67, 0.15);\n",
              "      fill: #174EA6;\n",
              "    }\n",
              "\n",
              "    .colab-df-buttons div {\n",
              "      margin-bottom: 4px;\n",
              "    }\n",
              "\n",
              "    [theme=dark] .colab-df-convert {\n",
              "      background-color: #3B4455;\n",
              "      fill: #D2E3FC;\n",
              "    }\n",
              "\n",
              "    [theme=dark] .colab-df-convert:hover {\n",
              "      background-color: #434B5C;\n",
              "      box-shadow: 0px 1px 3px 1px rgba(0, 0, 0, 0.15);\n",
              "      filter: drop-shadow(0px 1px 2px rgba(0, 0, 0, 0.3));\n",
              "      fill: #FFFFFF;\n",
              "    }\n",
              "  </style>\n",
              "\n",
              "    <script>\n",
              "      const buttonEl =\n",
              "        document.querySelector('#df-47958205-8b11-4729-a9ca-8bef166a26c9 button.colab-df-convert');\n",
              "      buttonEl.style.display =\n",
              "        google.colab.kernel.accessAllowed ? 'block' : 'none';\n",
              "\n",
              "      async function convertToInteractive(key) {\n",
              "        const element = document.querySelector('#df-47958205-8b11-4729-a9ca-8bef166a26c9');\n",
              "        const dataTable =\n",
              "          await google.colab.kernel.invokeFunction('convertToInteractive',\n",
              "                                                    [key], {});\n",
              "        if (!dataTable) return;\n",
              "\n",
              "        const docLinkHtml = 'Like what you see? Visit the ' +\n",
              "          '<a target=\"_blank\" href=https://colab.research.google.com/notebooks/data_table.ipynb>data table notebook</a>'\n",
              "          + ' to learn more about interactive tables.';\n",
              "        element.innerHTML = '';\n",
              "        dataTable['output_type'] = 'display_data';\n",
              "        await google.colab.output.renderOutput(dataTable, element);\n",
              "        const docLink = document.createElement('div');\n",
              "        docLink.innerHTML = docLinkHtml;\n",
              "        element.appendChild(docLink);\n",
              "      }\n",
              "    </script>\n",
              "  </div>\n",
              "\n",
              "\n",
              "<div id=\"df-e1c7e1d9-ab4f-4ae5-8a9c-7ad7fc1fb1dc\">\n",
              "  <button class=\"colab-df-quickchart\" onclick=\"quickchart('df-e1c7e1d9-ab4f-4ae5-8a9c-7ad7fc1fb1dc')\"\n",
              "            title=\"Suggest charts\"\n",
              "            style=\"display:none;\">\n",
              "\n",
              "<svg xmlns=\"http://www.w3.org/2000/svg\" height=\"24px\"viewBox=\"0 0 24 24\"\n",
              "     width=\"24px\">\n",
              "    <g>\n",
              "        <path d=\"M19 3H5c-1.1 0-2 .9-2 2v14c0 1.1.9 2 2 2h14c1.1 0 2-.9 2-2V5c0-1.1-.9-2-2-2zM9 17H7v-7h2v7zm4 0h-2V7h2v10zm4 0h-2v-4h2v4z\"/>\n",
              "    </g>\n",
              "</svg>\n",
              "  </button>\n",
              "\n",
              "<style>\n",
              "  .colab-df-quickchart {\n",
              "      --bg-color: #E8F0FE;\n",
              "      --fill-color: #1967D2;\n",
              "      --hover-bg-color: #E2EBFA;\n",
              "      --hover-fill-color: #174EA6;\n",
              "      --disabled-fill-color: #AAA;\n",
              "      --disabled-bg-color: #DDD;\n",
              "  }\n",
              "\n",
              "  [theme=dark] .colab-df-quickchart {\n",
              "      --bg-color: #3B4455;\n",
              "      --fill-color: #D2E3FC;\n",
              "      --hover-bg-color: #434B5C;\n",
              "      --hover-fill-color: #FFFFFF;\n",
              "      --disabled-bg-color: #3B4455;\n",
              "      --disabled-fill-color: #666;\n",
              "  }\n",
              "\n",
              "  .colab-df-quickchart {\n",
              "    background-color: var(--bg-color);\n",
              "    border: none;\n",
              "    border-radius: 50%;\n",
              "    cursor: pointer;\n",
              "    display: none;\n",
              "    fill: var(--fill-color);\n",
              "    height: 32px;\n",
              "    padding: 0;\n",
              "    width: 32px;\n",
              "  }\n",
              "\n",
              "  .colab-df-quickchart:hover {\n",
              "    background-color: var(--hover-bg-color);\n",
              "    box-shadow: 0 1px 2px rgba(60, 64, 67, 0.3), 0 1px 3px 1px rgba(60, 64, 67, 0.15);\n",
              "    fill: var(--button-hover-fill-color);\n",
              "  }\n",
              "\n",
              "  .colab-df-quickchart-complete:disabled,\n",
              "  .colab-df-quickchart-complete:disabled:hover {\n",
              "    background-color: var(--disabled-bg-color);\n",
              "    fill: var(--disabled-fill-color);\n",
              "    box-shadow: none;\n",
              "  }\n",
              "\n",
              "  .colab-df-spinner {\n",
              "    border: 2px solid var(--fill-color);\n",
              "    border-color: transparent;\n",
              "    border-bottom-color: var(--fill-color);\n",
              "    animation:\n",
              "      spin 1s steps(1) infinite;\n",
              "  }\n",
              "\n",
              "  @keyframes spin {\n",
              "    0% {\n",
              "      border-color: transparent;\n",
              "      border-bottom-color: var(--fill-color);\n",
              "      border-left-color: var(--fill-color);\n",
              "    }\n",
              "    20% {\n",
              "      border-color: transparent;\n",
              "      border-left-color: var(--fill-color);\n",
              "      border-top-color: var(--fill-color);\n",
              "    }\n",
              "    30% {\n",
              "      border-color: transparent;\n",
              "      border-left-color: var(--fill-color);\n",
              "      border-top-color: var(--fill-color);\n",
              "      border-right-color: var(--fill-color);\n",
              "    }\n",
              "    40% {\n",
              "      border-color: transparent;\n",
              "      border-right-color: var(--fill-color);\n",
              "      border-top-color: var(--fill-color);\n",
              "    }\n",
              "    60% {\n",
              "      border-color: transparent;\n",
              "      border-right-color: var(--fill-color);\n",
              "    }\n",
              "    80% {\n",
              "      border-color: transparent;\n",
              "      border-right-color: var(--fill-color);\n",
              "      border-bottom-color: var(--fill-color);\n",
              "    }\n",
              "    90% {\n",
              "      border-color: transparent;\n",
              "      border-bottom-color: var(--fill-color);\n",
              "    }\n",
              "  }\n",
              "</style>\n",
              "\n",
              "  <script>\n",
              "    async function quickchart(key) {\n",
              "      const quickchartButtonEl =\n",
              "        document.querySelector('#' + key + ' button');\n",
              "      quickchartButtonEl.disabled = true;  // To prevent multiple clicks.\n",
              "      quickchartButtonEl.classList.add('colab-df-spinner');\n",
              "      try {\n",
              "        const charts = await google.colab.kernel.invokeFunction(\n",
              "            'suggestCharts', [key], {});\n",
              "      } catch (error) {\n",
              "        console.error('Error during call to suggestCharts:', error);\n",
              "      }\n",
              "      quickchartButtonEl.classList.remove('colab-df-spinner');\n",
              "      quickchartButtonEl.classList.add('colab-df-quickchart-complete');\n",
              "    }\n",
              "    (() => {\n",
              "      let quickchartButtonEl =\n",
              "        document.querySelector('#df-e1c7e1d9-ab4f-4ae5-8a9c-7ad7fc1fb1dc button');\n",
              "      quickchartButtonEl.style.display =\n",
              "        google.colab.kernel.accessAllowed ? 'block' : 'none';\n",
              "    })();\n",
              "  </script>\n",
              "</div>\n",
              "    </div>\n",
              "  </div>\n"
            ],
            "application/vnd.google.colaboratory.intrinsic+json": {
              "type": "dataframe",
              "repr_error": "0"
            }
          },
          "metadata": {},
          "execution_count": 86
        }
      ]
    },
    {
      "cell_type": "code",
      "source": [
        "df.columns"
      ],
      "metadata": {
        "id": "aoSj046eDpmw",
        "colab": {
          "base_uri": "https://localhost:8080/"
        },
        "outputId": "1d2088ba-6270-49f0-d434-98b526a29470"
      },
      "execution_count": null,
      "outputs": [
        {
          "output_type": "execute_result",
          "data": {
            "text/plain": [
              "Index(['site', 'url', 'date', 'section', 'title', 'author', 'text'], dtype='object')"
            ]
          },
          "metadata": {},
          "execution_count": 37
        }
      ]
    },
    {
      "cell_type": "code",
      "source": [
        "df.describe()"
      ],
      "metadata": {
        "id": "NTxeJ1_Z_JP1",
        "outputId": "8e94e624-c5b0-4971-dc84-bede50d553e5",
        "colab": {
          "base_uri": "https://localhost:8080/",
          "height": 300
        }
      },
      "execution_count": null,
      "outputs": [
        {
          "output_type": "execute_result",
          "data": {
            "text/plain": [
              "                            datetime    year   month\n",
              "count                           4983  4983.0  4983.0\n",
              "mean   2023-05-16 14:02:05.707405312  2023.0     5.0\n",
              "min              2023-05-01 00:00:00  2023.0     5.0\n",
              "25%              2023-05-09 00:00:00  2023.0     5.0\n",
              "50%              2023-05-17 00:00:00  2023.0     5.0\n",
              "75%              2023-05-24 00:00:00  2023.0     5.0\n",
              "max              2023-05-31 00:00:00  2023.0     5.0\n",
              "std                              NaN     0.0     0.0"
            ],
            "text/html": [
              "\n",
              "  <div id=\"df-22484336-dc3c-4397-83a2-5dcdf8749de9\" class=\"colab-df-container\">\n",
              "    <div>\n",
              "<style scoped>\n",
              "    .dataframe tbody tr th:only-of-type {\n",
              "        vertical-align: middle;\n",
              "    }\n",
              "\n",
              "    .dataframe tbody tr th {\n",
              "        vertical-align: top;\n",
              "    }\n",
              "\n",
              "    .dataframe thead th {\n",
              "        text-align: right;\n",
              "    }\n",
              "</style>\n",
              "<table border=\"1\" class=\"dataframe\">\n",
              "  <thead>\n",
              "    <tr style=\"text-align: right;\">\n",
              "      <th></th>\n",
              "      <th>datetime</th>\n",
              "      <th>year</th>\n",
              "      <th>month</th>\n",
              "    </tr>\n",
              "  </thead>\n",
              "  <tbody>\n",
              "    <tr>\n",
              "      <th>count</th>\n",
              "      <td>4983</td>\n",
              "      <td>4983.0</td>\n",
              "      <td>4983.0</td>\n",
              "    </tr>\n",
              "    <tr>\n",
              "      <th>mean</th>\n",
              "      <td>2023-05-16 14:02:05.707405312</td>\n",
              "      <td>2023.0</td>\n",
              "      <td>5.0</td>\n",
              "    </tr>\n",
              "    <tr>\n",
              "      <th>min</th>\n",
              "      <td>2023-05-01 00:00:00</td>\n",
              "      <td>2023.0</td>\n",
              "      <td>5.0</td>\n",
              "    </tr>\n",
              "    <tr>\n",
              "      <th>25%</th>\n",
              "      <td>2023-05-09 00:00:00</td>\n",
              "      <td>2023.0</td>\n",
              "      <td>5.0</td>\n",
              "    </tr>\n",
              "    <tr>\n",
              "      <th>50%</th>\n",
              "      <td>2023-05-17 00:00:00</td>\n",
              "      <td>2023.0</td>\n",
              "      <td>5.0</td>\n",
              "    </tr>\n",
              "    <tr>\n",
              "      <th>75%</th>\n",
              "      <td>2023-05-24 00:00:00</td>\n",
              "      <td>2023.0</td>\n",
              "      <td>5.0</td>\n",
              "    </tr>\n",
              "    <tr>\n",
              "      <th>max</th>\n",
              "      <td>2023-05-31 00:00:00</td>\n",
              "      <td>2023.0</td>\n",
              "      <td>5.0</td>\n",
              "    </tr>\n",
              "    <tr>\n",
              "      <th>std</th>\n",
              "      <td>NaN</td>\n",
              "      <td>0.0</td>\n",
              "      <td>0.0</td>\n",
              "    </tr>\n",
              "  </tbody>\n",
              "</table>\n",
              "</div>\n",
              "    <div class=\"colab-df-buttons\">\n",
              "\n",
              "  <div class=\"colab-df-container\">\n",
              "    <button class=\"colab-df-convert\" onclick=\"convertToInteractive('df-22484336-dc3c-4397-83a2-5dcdf8749de9')\"\n",
              "            title=\"Convert this dataframe to an interactive table.\"\n",
              "            style=\"display:none;\">\n",
              "\n",
              "  <svg xmlns=\"http://www.w3.org/2000/svg\" height=\"24px\" viewBox=\"0 -960 960 960\">\n",
              "    <path d=\"M120-120v-720h720v720H120Zm60-500h600v-160H180v160Zm220 220h160v-160H400v160Zm0 220h160v-160H400v160ZM180-400h160v-160H180v160Zm440 0h160v-160H620v160ZM180-180h160v-160H180v160Zm440 0h160v-160H620v160Z\"/>\n",
              "  </svg>\n",
              "    </button>\n",
              "\n",
              "  <style>\n",
              "    .colab-df-container {\n",
              "      display:flex;\n",
              "      gap: 12px;\n",
              "    }\n",
              "\n",
              "    .colab-df-convert {\n",
              "      background-color: #E8F0FE;\n",
              "      border: none;\n",
              "      border-radius: 50%;\n",
              "      cursor: pointer;\n",
              "      display: none;\n",
              "      fill: #1967D2;\n",
              "      height: 32px;\n",
              "      padding: 0 0 0 0;\n",
              "      width: 32px;\n",
              "    }\n",
              "\n",
              "    .colab-df-convert:hover {\n",
              "      background-color: #E2EBFA;\n",
              "      box-shadow: 0px 1px 2px rgba(60, 64, 67, 0.3), 0px 1px 3px 1px rgba(60, 64, 67, 0.15);\n",
              "      fill: #174EA6;\n",
              "    }\n",
              "\n",
              "    .colab-df-buttons div {\n",
              "      margin-bottom: 4px;\n",
              "    }\n",
              "\n",
              "    [theme=dark] .colab-df-convert {\n",
              "      background-color: #3B4455;\n",
              "      fill: #D2E3FC;\n",
              "    }\n",
              "\n",
              "    [theme=dark] .colab-df-convert:hover {\n",
              "      background-color: #434B5C;\n",
              "      box-shadow: 0px 1px 3px 1px rgba(0, 0, 0, 0.15);\n",
              "      filter: drop-shadow(0px 1px 2px rgba(0, 0, 0, 0.3));\n",
              "      fill: #FFFFFF;\n",
              "    }\n",
              "  </style>\n",
              "\n",
              "    <script>\n",
              "      const buttonEl =\n",
              "        document.querySelector('#df-22484336-dc3c-4397-83a2-5dcdf8749de9 button.colab-df-convert');\n",
              "      buttonEl.style.display =\n",
              "        google.colab.kernel.accessAllowed ? 'block' : 'none';\n",
              "\n",
              "      async function convertToInteractive(key) {\n",
              "        const element = document.querySelector('#df-22484336-dc3c-4397-83a2-5dcdf8749de9');\n",
              "        const dataTable =\n",
              "          await google.colab.kernel.invokeFunction('convertToInteractive',\n",
              "                                                    [key], {});\n",
              "        if (!dataTable) return;\n",
              "\n",
              "        const docLinkHtml = 'Like what you see? Visit the ' +\n",
              "          '<a target=\"_blank\" href=https://colab.research.google.com/notebooks/data_table.ipynb>data table notebook</a>'\n",
              "          + ' to learn more about interactive tables.';\n",
              "        element.innerHTML = '';\n",
              "        dataTable['output_type'] = 'display_data';\n",
              "        await google.colab.output.renderOutput(dataTable, element);\n",
              "        const docLink = document.createElement('div');\n",
              "        docLink.innerHTML = docLinkHtml;\n",
              "        element.appendChild(docLink);\n",
              "      }\n",
              "    </script>\n",
              "  </div>\n",
              "\n",
              "\n",
              "<div id=\"df-cc091228-e52f-4c87-b820-c7babbced4b7\">\n",
              "  <button class=\"colab-df-quickchart\" onclick=\"quickchart('df-cc091228-e52f-4c87-b820-c7babbced4b7')\"\n",
              "            title=\"Suggest charts\"\n",
              "            style=\"display:none;\">\n",
              "\n",
              "<svg xmlns=\"http://www.w3.org/2000/svg\" height=\"24px\"viewBox=\"0 0 24 24\"\n",
              "     width=\"24px\">\n",
              "    <g>\n",
              "        <path d=\"M19 3H5c-1.1 0-2 .9-2 2v14c0 1.1.9 2 2 2h14c1.1 0 2-.9 2-2V5c0-1.1-.9-2-2-2zM9 17H7v-7h2v7zm4 0h-2V7h2v10zm4 0h-2v-4h2v4z\"/>\n",
              "    </g>\n",
              "</svg>\n",
              "  </button>\n",
              "\n",
              "<style>\n",
              "  .colab-df-quickchart {\n",
              "      --bg-color: #E8F0FE;\n",
              "      --fill-color: #1967D2;\n",
              "      --hover-bg-color: #E2EBFA;\n",
              "      --hover-fill-color: #174EA6;\n",
              "      --disabled-fill-color: #AAA;\n",
              "      --disabled-bg-color: #DDD;\n",
              "  }\n",
              "\n",
              "  [theme=dark] .colab-df-quickchart {\n",
              "      --bg-color: #3B4455;\n",
              "      --fill-color: #D2E3FC;\n",
              "      --hover-bg-color: #434B5C;\n",
              "      --hover-fill-color: #FFFFFF;\n",
              "      --disabled-bg-color: #3B4455;\n",
              "      --disabled-fill-color: #666;\n",
              "  }\n",
              "\n",
              "  .colab-df-quickchart {\n",
              "    background-color: var(--bg-color);\n",
              "    border: none;\n",
              "    border-radius: 50%;\n",
              "    cursor: pointer;\n",
              "    display: none;\n",
              "    fill: var(--fill-color);\n",
              "    height: 32px;\n",
              "    padding: 0;\n",
              "    width: 32px;\n",
              "  }\n",
              "\n",
              "  .colab-df-quickchart:hover {\n",
              "    background-color: var(--hover-bg-color);\n",
              "    box-shadow: 0 1px 2px rgba(60, 64, 67, 0.3), 0 1px 3px 1px rgba(60, 64, 67, 0.15);\n",
              "    fill: var(--button-hover-fill-color);\n",
              "  }\n",
              "\n",
              "  .colab-df-quickchart-complete:disabled,\n",
              "  .colab-df-quickchart-complete:disabled:hover {\n",
              "    background-color: var(--disabled-bg-color);\n",
              "    fill: var(--disabled-fill-color);\n",
              "    box-shadow: none;\n",
              "  }\n",
              "\n",
              "  .colab-df-spinner {\n",
              "    border: 2px solid var(--fill-color);\n",
              "    border-color: transparent;\n",
              "    border-bottom-color: var(--fill-color);\n",
              "    animation:\n",
              "      spin 1s steps(1) infinite;\n",
              "  }\n",
              "\n",
              "  @keyframes spin {\n",
              "    0% {\n",
              "      border-color: transparent;\n",
              "      border-bottom-color: var(--fill-color);\n",
              "      border-left-color: var(--fill-color);\n",
              "    }\n",
              "    20% {\n",
              "      border-color: transparent;\n",
              "      border-left-color: var(--fill-color);\n",
              "      border-top-color: var(--fill-color);\n",
              "    }\n",
              "    30% {\n",
              "      border-color: transparent;\n",
              "      border-left-color: var(--fill-color);\n",
              "      border-top-color: var(--fill-color);\n",
              "      border-right-color: var(--fill-color);\n",
              "    }\n",
              "    40% {\n",
              "      border-color: transparent;\n",
              "      border-right-color: var(--fill-color);\n",
              "      border-top-color: var(--fill-color);\n",
              "    }\n",
              "    60% {\n",
              "      border-color: transparent;\n",
              "      border-right-color: var(--fill-color);\n",
              "    }\n",
              "    80% {\n",
              "      border-color: transparent;\n",
              "      border-right-color: var(--fill-color);\n",
              "      border-bottom-color: var(--fill-color);\n",
              "    }\n",
              "    90% {\n",
              "      border-color: transparent;\n",
              "      border-bottom-color: var(--fill-color);\n",
              "    }\n",
              "  }\n",
              "</style>\n",
              "\n",
              "  <script>\n",
              "    async function quickchart(key) {\n",
              "      const quickchartButtonEl =\n",
              "        document.querySelector('#' + key + ' button');\n",
              "      quickchartButtonEl.disabled = true;  // To prevent multiple clicks.\n",
              "      quickchartButtonEl.classList.add('colab-df-spinner');\n",
              "      try {\n",
              "        const charts = await google.colab.kernel.invokeFunction(\n",
              "            'suggestCharts', [key], {});\n",
              "      } catch (error) {\n",
              "        console.error('Error during call to suggestCharts:', error);\n",
              "      }\n",
              "      quickchartButtonEl.classList.remove('colab-df-spinner');\n",
              "      quickchartButtonEl.classList.add('colab-df-quickchart-complete');\n",
              "    }\n",
              "    (() => {\n",
              "      let quickchartButtonEl =\n",
              "        document.querySelector('#df-cc091228-e52f-4c87-b820-c7babbced4b7 button');\n",
              "      quickchartButtonEl.style.display =\n",
              "        google.colab.kernel.accessAllowed ? 'block' : 'none';\n",
              "    })();\n",
              "  </script>\n",
              "</div>\n",
              "    </div>\n",
              "  </div>\n"
            ],
            "application/vnd.google.colaboratory.intrinsic+json": {
              "type": "dataframe",
              "summary": "{\n  \"name\": \"df\",\n  \"rows\": 8,\n  \"fields\": [\n    {\n      \"column\": \"datetime\",\n      \"properties\": {\n        \"dtype\": \"date\",\n        \"min\": \"1970-01-01 00:00:00.000004983\",\n        \"max\": \"2023-05-31 00:00:00\",\n        \"num_unique_values\": 7,\n        \"samples\": [\n          \"4983\",\n          \"2023-05-16 14:02:05.707405312\",\n          \"2023-05-24 00:00:00\"\n        ],\n        \"semantic_type\": \"\",\n        \"description\": \"\"\n      }\n    },\n    {\n      \"column\": \"year\",\n      \"properties\": {\n        \"dtype\": \"number\",\n        \"std\": 1349.3057937324659,\n        \"min\": 0.0,\n        \"max\": 4983.0,\n        \"num_unique_values\": 3,\n        \"samples\": [\n          4983.0,\n          2023.0,\n          0.0\n        ],\n        \"semantic_type\": \"\",\n        \"description\": \"\"\n      }\n    },\n    {\n      \"column\": \"month\",\n      \"properties\": {\n        \"dtype\": \"number\",\n        \"std\": 1760.2421860560632,\n        \"min\": 0.0,\n        \"max\": 4983.0,\n        \"num_unique_values\": 3,\n        \"samples\": [\n          4983.0,\n          5.0,\n          0.0\n        ],\n        \"semantic_type\": \"\",\n        \"description\": \"\"\n      }\n    }\n  ]\n}"
            }
          },
          "metadata": {},
          "execution_count": 54
        }
      ]
    },
    {
      "cell_type": "markdown",
      "source": [
        "### ΣΥΝΕΝΩΣΗ ΣΤΗΛΩΝ ΚΕΙΜΕΝΩΝ"
      ],
      "metadata": {
        "id": "h09pskY1JaqC"
      }
    },
    {
      "cell_type": "markdown",
      "source": [
        "Αν θέλουμε να ενώσουμε κείμενα από δυο ή περισσότερες στήλες και να τα σώσουμε σε μια νέα στήλη, (π.χ. τον τίτλο με το κείμενο του άρθρου), μπορούμε να το κάνουμε ή με απλή πρόσθεση των επιθυμητών στηλών και πρόσθεση κενού ανάμεσά τους:\n",
        "\n",
        "```\n",
        "df[\"full_text\"] = df[\"title\"] + \" \" + df[\"body_text\"]\n",
        "```\n",
        "ή με το aggregate\n",
        "\n",
        "```\n",
        "df['full_text'] = df[['title', 'body_text']].agg(' '.join, axis=1)\n",
        "```"
      ],
      "metadata": {
        "id": "sGHU83AoDqfs"
      }
    },
    {
      "cell_type": "code",
      "source": [],
      "metadata": {
        "id": "6z0wD3DiFaE6"
      },
      "execution_count": null,
      "outputs": []
    },
    {
      "cell_type": "markdown",
      "source": [
        "### DATETIME"
      ],
      "metadata": {
        "id": "HRKbcT3pJokw"
      }
    },
    {
      "cell_type": "markdown",
      "source": [
        "Για να μπορούμε να κάνουμε αναλύσεις βάσει του χρόνου, μετατρέπουμε τις ημερομηνίες από string σε datetime, με την εντολή:\n",
        "\n",
        "```\n",
        "df['datetime'] = pd.to_datetime(df['date'], format='%Y-%m-%d %H:%M')\n",
        "```\n",
        "Στο παραπάνω παράδειγμα, η νέα στήλη που φτιάχνουμε θα λέγεται 'datetime', η υπάρχουσα στήλη των ημερομηνιών στο df μας λέγεται 'date' και η μορφή των ημερομηνιών που περιέχει είναι: ΕΤΟΣ-ΜΗΝΑΣ-ΗΜΕΡΑ ΩΡΑ:ΛΕΠΤΑ (π.χ. 2024-06-05 13:41)\n",
        "\n",
        "H μορφή των ημερομηνιών στη στήλη 'date', καθορίζει το format='', που θα βάλουμε μέσα στην παρέμθεση στην εντολή μας. Κάθε site ή εφαρμογή επιλέγει τον τρόπο παρουσίασης των ημερομηνιών που του αρέσει (π.χ. κάποιος βάζει τις ημερομηνίες στη μορφή: 5 Ιουνίου 2024)\n",
        "\n",
        "Τους κωδικούς για το format θα τους βρείτε εδώ: https://docs.python.org/3/library/datetime.html#strftime-and-strptime-behavior"
      ],
      "metadata": {
        "id": "PDLQWNLZF1TV"
      }
    },
    {
      "cell_type": "code",
      "source": [
        "# Μετατροπή της στήλης των ημερομηνιών σε datetime\n",
        "df['datetime'] = pd.to_datetime(df['date'], format='%Y-%m-%d')"
      ],
      "metadata": {
        "id": "q4l-IS2MI1aP"
      },
      "execution_count": null,
      "outputs": []
    },
    {
      "cell_type": "markdown",
      "source": [
        "Αφού μετατρέψουμε τις ημερομηνίες σε datetime, τώρα μπορούμε να φτιάξουμε στήλες με τα έτη, τους μήνες, τις μέρες κλπ.\n",
        "\n",
        "```\n",
        "df['year'] = pd.DatetimeIndex(df['datetime']).year\n",
        "df['month'] = pd.DatetimeIndex(df['datetime']).month\n",
        "df['day'] = pd.DatetimeIndex(df['datetime']).day\n",
        "df['hour'] = pd.DatetimeIndex(df['datetime']).hour\n",
        "```"
      ],
      "metadata": {
        "id": "oFGf0NZHJ-Ad"
      }
    },
    {
      "cell_type": "code",
      "source": [
        "# στήλη έτους\n",
        "df['year'] = pd.DatetimeIndex(df['datetime']).year\n",
        "# στήλη μήνα\n",
        "df['month'] = pd.DatetimeIndex(df['datetime']).month\n",
        "# κλπ."
      ],
      "metadata": {
        "id": "8zrKTwF3J9FK"
      },
      "execution_count": null,
      "outputs": []
    },
    {
      "cell_type": "code",
      "source": [
        "df['hour'] = pd.DatetimeIndex(df['datetime']).hour"
      ],
      "metadata": {
        "id": "lKzOO9cqA7L8"
      },
      "execution_count": null,
      "outputs": []
    },
    {
      "cell_type": "code",
      "source": [
        "df['day'] = pd.DatetimeIndex(df['datetime']).day"
      ],
      "metadata": {
        "id": "1IsLqCyNA-Wg"
      },
      "execution_count": null,
      "outputs": []
    },
    {
      "cell_type": "markdown",
      "source": [
        "### ΓΡΑΦΗΜΑΤΑ ΠΕΡΙΓΡΑΦΙΚΗΣ ΑΝΑΛΥΣΗΣ ΤΩΝ ΔΕΔΟΜΕΝΩΝ"
      ],
      "metadata": {
        "id": "wEgI1ynPMbh7"
      }
    },
    {
      "cell_type": "markdown",
      "source": [
        "Με τις τεχνικές φιλτραρίσματος, σορταρίσματος και γκρουπαρίσματος που έχουμε μάθει, μπορούμε να φτιάξουμε γραφήματα που να απαντούν ερωτήματα όπως:\n",
        "\n",
        "- ποιο είναι το πλήθος της αρθρογραφίας ανά ώρα;\n",
        "- ποιο είναι το πλήθος της αρθρογραφίας ανά θεματική κατηγορία; ανά συντάκτη;\n",
        "- πώς μεταβάλεται το πλήθος της αρθρογραφίας από μέρα σε μέρα; συνολικά και ανά κατηγορία;\n",
        "- ποιοι είναι οι πολυγραφέστεροι συντάκτες;"
      ],
      "metadata": {
        "id": "dcYrdH8DJ8Y0"
      }
    },
    {
      "cell_type": "code",
      "source": [
        "#ποιο είναι το πλήθος της αρθρογραφίας ανά μέρα;-Σε αυτο το σαιτ δεν εμφανιζεται η ωρα\n",
        "daily_counts = df.groupby('day').size().reset_index(name='count')\n",
        "\n",
        "\n",
        "daily_counts"
      ],
      "metadata": {
        "id": "MIPApK1AO72Q",
        "colab": {
          "base_uri": "https://localhost:8080/",
          "height": 1000
        },
        "outputId": "06711c0a-4dea-40e5-9864-fd22f2e8ec0a"
      },
      "execution_count": null,
      "outputs": [
        {
          "output_type": "execute_result",
          "data": {
            "text/plain": [
              "    day  count\n",
              "0     1     51\n",
              "1     2    126\n",
              "2     3    158\n",
              "3     4    206\n",
              "4     5    315\n",
              "5     6     98\n",
              "6     7     96\n",
              "7     8    173\n",
              "8     9    113\n",
              "9    10    201\n",
              "10   11     54\n",
              "11   12    330\n",
              "12   13     96\n",
              "13   14     60\n",
              "14   15    164\n",
              "15   16    157\n",
              "16   17    133\n",
              "17   18    174\n",
              "18   19    192\n",
              "19   20    184\n",
              "20   21    286\n",
              "21   22     35\n",
              "22   23    261\n",
              "23   24    180\n",
              "24   25    182\n",
              "25   26    172\n",
              "26   27    114\n",
              "27   28    103\n",
              "28   29     46\n",
              "29   30    170\n",
              "30   31    353"
            ],
            "text/html": [
              "\n",
              "  <div id=\"df-af8a01b6-2c5c-41d0-b64a-6e62a95f38d5\" class=\"colab-df-container\">\n",
              "    <div>\n",
              "<style scoped>\n",
              "    .dataframe tbody tr th:only-of-type {\n",
              "        vertical-align: middle;\n",
              "    }\n",
              "\n",
              "    .dataframe tbody tr th {\n",
              "        vertical-align: top;\n",
              "    }\n",
              "\n",
              "    .dataframe thead th {\n",
              "        text-align: right;\n",
              "    }\n",
              "</style>\n",
              "<table border=\"1\" class=\"dataframe\">\n",
              "  <thead>\n",
              "    <tr style=\"text-align: right;\">\n",
              "      <th></th>\n",
              "      <th>day</th>\n",
              "      <th>count</th>\n",
              "    </tr>\n",
              "  </thead>\n",
              "  <tbody>\n",
              "    <tr>\n",
              "      <th>0</th>\n",
              "      <td>1</td>\n",
              "      <td>51</td>\n",
              "    </tr>\n",
              "    <tr>\n",
              "      <th>1</th>\n",
              "      <td>2</td>\n",
              "      <td>126</td>\n",
              "    </tr>\n",
              "    <tr>\n",
              "      <th>2</th>\n",
              "      <td>3</td>\n",
              "      <td>158</td>\n",
              "    </tr>\n",
              "    <tr>\n",
              "      <th>3</th>\n",
              "      <td>4</td>\n",
              "      <td>206</td>\n",
              "    </tr>\n",
              "    <tr>\n",
              "      <th>4</th>\n",
              "      <td>5</td>\n",
              "      <td>315</td>\n",
              "    </tr>\n",
              "    <tr>\n",
              "      <th>5</th>\n",
              "      <td>6</td>\n",
              "      <td>98</td>\n",
              "    </tr>\n",
              "    <tr>\n",
              "      <th>6</th>\n",
              "      <td>7</td>\n",
              "      <td>96</td>\n",
              "    </tr>\n",
              "    <tr>\n",
              "      <th>7</th>\n",
              "      <td>8</td>\n",
              "      <td>173</td>\n",
              "    </tr>\n",
              "    <tr>\n",
              "      <th>8</th>\n",
              "      <td>9</td>\n",
              "      <td>113</td>\n",
              "    </tr>\n",
              "    <tr>\n",
              "      <th>9</th>\n",
              "      <td>10</td>\n",
              "      <td>201</td>\n",
              "    </tr>\n",
              "    <tr>\n",
              "      <th>10</th>\n",
              "      <td>11</td>\n",
              "      <td>54</td>\n",
              "    </tr>\n",
              "    <tr>\n",
              "      <th>11</th>\n",
              "      <td>12</td>\n",
              "      <td>330</td>\n",
              "    </tr>\n",
              "    <tr>\n",
              "      <th>12</th>\n",
              "      <td>13</td>\n",
              "      <td>96</td>\n",
              "    </tr>\n",
              "    <tr>\n",
              "      <th>13</th>\n",
              "      <td>14</td>\n",
              "      <td>60</td>\n",
              "    </tr>\n",
              "    <tr>\n",
              "      <th>14</th>\n",
              "      <td>15</td>\n",
              "      <td>164</td>\n",
              "    </tr>\n",
              "    <tr>\n",
              "      <th>15</th>\n",
              "      <td>16</td>\n",
              "      <td>157</td>\n",
              "    </tr>\n",
              "    <tr>\n",
              "      <th>16</th>\n",
              "      <td>17</td>\n",
              "      <td>133</td>\n",
              "    </tr>\n",
              "    <tr>\n",
              "      <th>17</th>\n",
              "      <td>18</td>\n",
              "      <td>174</td>\n",
              "    </tr>\n",
              "    <tr>\n",
              "      <th>18</th>\n",
              "      <td>19</td>\n",
              "      <td>192</td>\n",
              "    </tr>\n",
              "    <tr>\n",
              "      <th>19</th>\n",
              "      <td>20</td>\n",
              "      <td>184</td>\n",
              "    </tr>\n",
              "    <tr>\n",
              "      <th>20</th>\n",
              "      <td>21</td>\n",
              "      <td>286</td>\n",
              "    </tr>\n",
              "    <tr>\n",
              "      <th>21</th>\n",
              "      <td>22</td>\n",
              "      <td>35</td>\n",
              "    </tr>\n",
              "    <tr>\n",
              "      <th>22</th>\n",
              "      <td>23</td>\n",
              "      <td>261</td>\n",
              "    </tr>\n",
              "    <tr>\n",
              "      <th>23</th>\n",
              "      <td>24</td>\n",
              "      <td>180</td>\n",
              "    </tr>\n",
              "    <tr>\n",
              "      <th>24</th>\n",
              "      <td>25</td>\n",
              "      <td>182</td>\n",
              "    </tr>\n",
              "    <tr>\n",
              "      <th>25</th>\n",
              "      <td>26</td>\n",
              "      <td>172</td>\n",
              "    </tr>\n",
              "    <tr>\n",
              "      <th>26</th>\n",
              "      <td>27</td>\n",
              "      <td>114</td>\n",
              "    </tr>\n",
              "    <tr>\n",
              "      <th>27</th>\n",
              "      <td>28</td>\n",
              "      <td>103</td>\n",
              "    </tr>\n",
              "    <tr>\n",
              "      <th>28</th>\n",
              "      <td>29</td>\n",
              "      <td>46</td>\n",
              "    </tr>\n",
              "    <tr>\n",
              "      <th>29</th>\n",
              "      <td>30</td>\n",
              "      <td>170</td>\n",
              "    </tr>\n",
              "    <tr>\n",
              "      <th>30</th>\n",
              "      <td>31</td>\n",
              "      <td>353</td>\n",
              "    </tr>\n",
              "  </tbody>\n",
              "</table>\n",
              "</div>\n",
              "    <div class=\"colab-df-buttons\">\n",
              "\n",
              "  <div class=\"colab-df-container\">\n",
              "    <button class=\"colab-df-convert\" onclick=\"convertToInteractive('df-af8a01b6-2c5c-41d0-b64a-6e62a95f38d5')\"\n",
              "            title=\"Convert this dataframe to an interactive table.\"\n",
              "            style=\"display:none;\">\n",
              "\n",
              "  <svg xmlns=\"http://www.w3.org/2000/svg\" height=\"24px\" viewBox=\"0 -960 960 960\">\n",
              "    <path d=\"M120-120v-720h720v720H120Zm60-500h600v-160H180v160Zm220 220h160v-160H400v160Zm0 220h160v-160H400v160ZM180-400h160v-160H180v160Zm440 0h160v-160H620v160ZM180-180h160v-160H180v160Zm440 0h160v-160H620v160Z\"/>\n",
              "  </svg>\n",
              "    </button>\n",
              "\n",
              "  <style>\n",
              "    .colab-df-container {\n",
              "      display:flex;\n",
              "      gap: 12px;\n",
              "    }\n",
              "\n",
              "    .colab-df-convert {\n",
              "      background-color: #E8F0FE;\n",
              "      border: none;\n",
              "      border-radius: 50%;\n",
              "      cursor: pointer;\n",
              "      display: none;\n",
              "      fill: #1967D2;\n",
              "      height: 32px;\n",
              "      padding: 0 0 0 0;\n",
              "      width: 32px;\n",
              "    }\n",
              "\n",
              "    .colab-df-convert:hover {\n",
              "      background-color: #E2EBFA;\n",
              "      box-shadow: 0px 1px 2px rgba(60, 64, 67, 0.3), 0px 1px 3px 1px rgba(60, 64, 67, 0.15);\n",
              "      fill: #174EA6;\n",
              "    }\n",
              "\n",
              "    .colab-df-buttons div {\n",
              "      margin-bottom: 4px;\n",
              "    }\n",
              "\n",
              "    [theme=dark] .colab-df-convert {\n",
              "      background-color: #3B4455;\n",
              "      fill: #D2E3FC;\n",
              "    }\n",
              "\n",
              "    [theme=dark] .colab-df-convert:hover {\n",
              "      background-color: #434B5C;\n",
              "      box-shadow: 0px 1px 3px 1px rgba(0, 0, 0, 0.15);\n",
              "      filter: drop-shadow(0px 1px 2px rgba(0, 0, 0, 0.3));\n",
              "      fill: #FFFFFF;\n",
              "    }\n",
              "  </style>\n",
              "\n",
              "    <script>\n",
              "      const buttonEl =\n",
              "        document.querySelector('#df-af8a01b6-2c5c-41d0-b64a-6e62a95f38d5 button.colab-df-convert');\n",
              "      buttonEl.style.display =\n",
              "        google.colab.kernel.accessAllowed ? 'block' : 'none';\n",
              "\n",
              "      async function convertToInteractive(key) {\n",
              "        const element = document.querySelector('#df-af8a01b6-2c5c-41d0-b64a-6e62a95f38d5');\n",
              "        const dataTable =\n",
              "          await google.colab.kernel.invokeFunction('convertToInteractive',\n",
              "                                                    [key], {});\n",
              "        if (!dataTable) return;\n",
              "\n",
              "        const docLinkHtml = 'Like what you see? Visit the ' +\n",
              "          '<a target=\"_blank\" href=https://colab.research.google.com/notebooks/data_table.ipynb>data table notebook</a>'\n",
              "          + ' to learn more about interactive tables.';\n",
              "        element.innerHTML = '';\n",
              "        dataTable['output_type'] = 'display_data';\n",
              "        await google.colab.output.renderOutput(dataTable, element);\n",
              "        const docLink = document.createElement('div');\n",
              "        docLink.innerHTML = docLinkHtml;\n",
              "        element.appendChild(docLink);\n",
              "      }\n",
              "    </script>\n",
              "  </div>\n",
              "\n",
              "\n",
              "<div id=\"df-92c47bd0-6989-4229-80a9-fc24d6f13bf6\">\n",
              "  <button class=\"colab-df-quickchart\" onclick=\"quickchart('df-92c47bd0-6989-4229-80a9-fc24d6f13bf6')\"\n",
              "            title=\"Suggest charts\"\n",
              "            style=\"display:none;\">\n",
              "\n",
              "<svg xmlns=\"http://www.w3.org/2000/svg\" height=\"24px\"viewBox=\"0 0 24 24\"\n",
              "     width=\"24px\">\n",
              "    <g>\n",
              "        <path d=\"M19 3H5c-1.1 0-2 .9-2 2v14c0 1.1.9 2 2 2h14c1.1 0 2-.9 2-2V5c0-1.1-.9-2-2-2zM9 17H7v-7h2v7zm4 0h-2V7h2v10zm4 0h-2v-4h2v4z\"/>\n",
              "    </g>\n",
              "</svg>\n",
              "  </button>\n",
              "\n",
              "<style>\n",
              "  .colab-df-quickchart {\n",
              "      --bg-color: #E8F0FE;\n",
              "      --fill-color: #1967D2;\n",
              "      --hover-bg-color: #E2EBFA;\n",
              "      --hover-fill-color: #174EA6;\n",
              "      --disabled-fill-color: #AAA;\n",
              "      --disabled-bg-color: #DDD;\n",
              "  }\n",
              "\n",
              "  [theme=dark] .colab-df-quickchart {\n",
              "      --bg-color: #3B4455;\n",
              "      --fill-color: #D2E3FC;\n",
              "      --hover-bg-color: #434B5C;\n",
              "      --hover-fill-color: #FFFFFF;\n",
              "      --disabled-bg-color: #3B4455;\n",
              "      --disabled-fill-color: #666;\n",
              "  }\n",
              "\n",
              "  .colab-df-quickchart {\n",
              "    background-color: var(--bg-color);\n",
              "    border: none;\n",
              "    border-radius: 50%;\n",
              "    cursor: pointer;\n",
              "    display: none;\n",
              "    fill: var(--fill-color);\n",
              "    height: 32px;\n",
              "    padding: 0;\n",
              "    width: 32px;\n",
              "  }\n",
              "\n",
              "  .colab-df-quickchart:hover {\n",
              "    background-color: var(--hover-bg-color);\n",
              "    box-shadow: 0 1px 2px rgba(60, 64, 67, 0.3), 0 1px 3px 1px rgba(60, 64, 67, 0.15);\n",
              "    fill: var(--button-hover-fill-color);\n",
              "  }\n",
              "\n",
              "  .colab-df-quickchart-complete:disabled,\n",
              "  .colab-df-quickchart-complete:disabled:hover {\n",
              "    background-color: var(--disabled-bg-color);\n",
              "    fill: var(--disabled-fill-color);\n",
              "    box-shadow: none;\n",
              "  }\n",
              "\n",
              "  .colab-df-spinner {\n",
              "    border: 2px solid var(--fill-color);\n",
              "    border-color: transparent;\n",
              "    border-bottom-color: var(--fill-color);\n",
              "    animation:\n",
              "      spin 1s steps(1) infinite;\n",
              "  }\n",
              "\n",
              "  @keyframes spin {\n",
              "    0% {\n",
              "      border-color: transparent;\n",
              "      border-bottom-color: var(--fill-color);\n",
              "      border-left-color: var(--fill-color);\n",
              "    }\n",
              "    20% {\n",
              "      border-color: transparent;\n",
              "      border-left-color: var(--fill-color);\n",
              "      border-top-color: var(--fill-color);\n",
              "    }\n",
              "    30% {\n",
              "      border-color: transparent;\n",
              "      border-left-color: var(--fill-color);\n",
              "      border-top-color: var(--fill-color);\n",
              "      border-right-color: var(--fill-color);\n",
              "    }\n",
              "    40% {\n",
              "      border-color: transparent;\n",
              "      border-right-color: var(--fill-color);\n",
              "      border-top-color: var(--fill-color);\n",
              "    }\n",
              "    60% {\n",
              "      border-color: transparent;\n",
              "      border-right-color: var(--fill-color);\n",
              "    }\n",
              "    80% {\n",
              "      border-color: transparent;\n",
              "      border-right-color: var(--fill-color);\n",
              "      border-bottom-color: var(--fill-color);\n",
              "    }\n",
              "    90% {\n",
              "      border-color: transparent;\n",
              "      border-bottom-color: var(--fill-color);\n",
              "    }\n",
              "  }\n",
              "</style>\n",
              "\n",
              "  <script>\n",
              "    async function quickchart(key) {\n",
              "      const quickchartButtonEl =\n",
              "        document.querySelector('#' + key + ' button');\n",
              "      quickchartButtonEl.disabled = true;  // To prevent multiple clicks.\n",
              "      quickchartButtonEl.classList.add('colab-df-spinner');\n",
              "      try {\n",
              "        const charts = await google.colab.kernel.invokeFunction(\n",
              "            'suggestCharts', [key], {});\n",
              "      } catch (error) {\n",
              "        console.error('Error during call to suggestCharts:', error);\n",
              "      }\n",
              "      quickchartButtonEl.classList.remove('colab-df-spinner');\n",
              "      quickchartButtonEl.classList.add('colab-df-quickchart-complete');\n",
              "    }\n",
              "    (() => {\n",
              "      let quickchartButtonEl =\n",
              "        document.querySelector('#df-92c47bd0-6989-4229-80a9-fc24d6f13bf6 button');\n",
              "      quickchartButtonEl.style.display =\n",
              "        google.colab.kernel.accessAllowed ? 'block' : 'none';\n",
              "    })();\n",
              "  </script>\n",
              "</div>\n",
              "    </div>\n",
              "  </div>\n"
            ],
            "application/vnd.google.colaboratory.intrinsic+json": {
              "type": "dataframe",
              "variable_name": "daily_counts",
              "summary": "{\n  \"name\": \"daily_counts\",\n  \"rows\": 31,\n  \"fields\": [\n    {\n      \"column\": \"day\",\n      \"properties\": {\n        \"dtype\": \"int32\",\n        \"num_unique_values\": 31,\n        \"samples\": [\n          28,\n          16,\n          24\n        ],\n        \"semantic_type\": \"\",\n        \"description\": \"\"\n      }\n    },\n    {\n      \"column\": \"count\",\n      \"properties\": {\n        \"dtype\": \"number\",\n        \"std\": 82,\n        \"min\": 35,\n        \"max\": 353,\n        \"num_unique_values\": 30,\n        \"samples\": [\n          46,\n          133,\n          182\n        ],\n        \"semantic_type\": \"\",\n        \"description\": \"\"\n      }\n    }\n  ]\n}"
            }
          },
          "metadata": {},
          "execution_count": 68
        }
      ]
    },
    {
      "cell_type": "code",
      "source": [
        "daily_counts.plot(kind='bar', xlabel='Μέρα', ylabel='Πλήθος Άρθρων', title='Πλήθος Άρθρων Ανά μέρα')\n",
        "plt.show()"
      ],
      "metadata": {
        "id": "gQ-7_KWfPbpp",
        "colab": {
          "base_uri": "https://localhost:8080/",
          "height": 476
        },
        "outputId": "42e3cd7f-d0e5-4d51-e9e5-89277836ce8d"
      },
      "execution_count": null,
      "outputs": [
        {
          "output_type": "display_data",
          "data": {
            "text/plain": [
              "<Figure size 640x480 with 1 Axes>"
            ],
            "image/png": "[encoded data removed]"
          },
          "metadata": {}
        }
      ]
    },
    {
      "cell_type": "code",
      "source": [
        "#ποιο είναι το πλήθος της αρθρογραφίας ανά θεματική κατηγορία;\n",
        "articles_per_category = df.groupby('section').size()\n",
        "articles_per_category.plot(kind='bar', xlabel='Θεματική Κατηγορία', ylabel='Πλήθος Άρθρων', title='Πλήθος Άρθρων Ανά Θεματική Κατηγορία')\n",
        "plt.show()"
      ],
      "metadata": {
        "id": "OU2_9flvB5wZ",
        "outputId": "f6ab76ab-9d1c-4243-c6da-90be10faa91e",
        "colab": {
          "base_uri": "https://localhost:8080/",
          "height": 597
        }
      },
      "execution_count": null,
      "outputs": [
        {
          "output_type": "display_data",
          "data": {
            "text/plain": [
              "<Figure size 640x480 with 1 Axes>"
            ],
            "image/png": "[encoded data removed]"
          },
          "metadata": {}
        }
      ]
    },
    {
      "cell_type": "code",
      "source": [
        "#ποιο είναι το πλήθος της αρθρογραφίας ανά συντάκτη;\n",
        "articles_per_category.plot(kind='bar', xlabel='Θεματική Κατηγορία', ylabel='Πλήθος Άρθρων', title='Πλήθος Άρθρων Ανά Θεματική Κατηγορία')\n",
        "plt.show()"
      ],
      "metadata": {
        "id": "ERGfLj_uCRrU",
        "outputId": "31d4b078-7aa4-4735-cf89-58d21cf1e9af",
        "colab": {
          "base_uri": "https://localhost:8080/",
          "height": 597
        }
      },
      "execution_count": null,
      "outputs": [
        {
          "output_type": "display_data",
          "data": {
            "text/plain": [
              "<Figure size 640x480 with 1 Axes>"
            ],
            "image/png": "[encoded data removed]"
          },
          "metadata": {}
        }
      ]
    },
    {
      "cell_type": "code",
      "source": [
        "\n",
        "#πώς μεταβάλεται το πλήθος της αρθρογραφίας από μέρα σε μέρα;\n",
        "articles_per_day = df.groupby('date').size()\n",
        "articles_per_day.plot(kind='line', xlabel='Ημερομηνία', ylabel='Πλήθος Άρθρων', title='Πλήθος Άρθρων Ανά Ημέρα')\n",
        "plt.show()"
      ],
      "metadata": {
        "id": "RCjC7sYTCXWE",
        "outputId": "acca8ccb-0492-4546-b7dc-19c5fab0d9a7",
        "colab": {
          "base_uri": "https://localhost:8080/",
          "height": 473
        }
      },
      "execution_count": null,
      "outputs": [
        {
          "output_type": "display_data",
          "data": {
            "text/plain": [
              "<Figure size 640x480 with 1 Axes>"
            ],
            "image/png": "[encoded data removed]"
          },
          "metadata": {}
        }
      ]
    },
    {
      "cell_type": "code",
      "source": [
        "#πώς μεταβάλεται το πλήθος της αρθρογραφίας συνολικά και ανά κατηγορία;\n",
        "articles_per_day_category = df.groupby(['date', 'section']).size().head()\n",
        "articles_per_day_category.plot(kind='line', xlabel='Ημερομηνία', ylabel='Πλήθος Άρθρων', title='Πλήθος Άρθρων Ανά Ημέρα και Κατηγορία')\n",
        "plt.show()"
      ],
      "metadata": {
        "id": "mMumOsk7C7nN",
        "outputId": "636ade6b-a86f-499d-ccc2-b806c8b76007",
        "colab": {
          "base_uri": "https://localhost:8080/",
          "height": 473
        }
      },
      "execution_count": null,
      "outputs": [
        {
          "output_type": "display_data",
          "data": {
            "text/plain": [
              "<Figure size 640x480 with 1 Axes>"
            ],
            "image/png": "[encoded data removed]"
          },
          "metadata": {}
        }
      ]
    },
    {
      "cell_type": "code",
      "source": [
        "#ποιοι είναι οι πολυγραφέστεροι συντάκτες;\n",
        "articles_per_author = df.groupby('author').size()\n",
        "top_authors = articles_per_author.sort_values(ascending=False).head()\n",
        "top_authors.plot(kind='bar', xlabel='Συντάκτης', ylabel='Πλήθος Άρθρων', title='Πολυγραφέστεροι Συντάκτες')\n",
        "plt.show()"
      ],
      "metadata": {
        "id": "slUEHdnBDekT",
        "outputId": "8538dfb9-95aa-453a-e991-9e32fb68ab40",
        "colab": {
          "base_uri": "https://localhost:8080/",
          "height": 541
        }
      },
      "execution_count": null,
      "outputs": [
        {
          "output_type": "display_data",
          "data": {
            "text/plain": [
              "<Figure size 640x480 with 1 Axes>"
            ],
            "image/png": "[encoded data removed]"
          },
          "metadata": {}
        }
      ]
    },
    {
      "cell_type": "markdown",
      "source": [
        "## Wordclouds"
      ],
      "metadata": {
        "id": "eeKrCGzjPcVy"
      }
    },
    {
      "cell_type": "markdown",
      "source": [
        "Τα wordclouds είναι ένα γράφημα που μας επιτρέπει να σχηματίσουμε μια γρήγορη άποψη για τη θεματολογία ενός κειμένου ή ενός σώματος κειμένων.\n",
        "\n",
        "Μπορούμε να φτιάξουμε wordclouds για το σύνολο των κειμένων μας, αλλά μπορεί να είναι χρησιμότερο να το χρησιμοποιήσουμε σε στοχευμένα κείμενα.\n",
        "\n",
        "Π.χ.: ας υποθέσουμε ότι από τα προηγούμενα γραφήματα είδαμε ότι το πλήθος της αρθρογραφίας μια συγκεκριμένη μέρα (ή σε ένα γκρουπ ημερών) είναι πολύ μεγαλύτερο από το μέσο όρο του πλήθους των άρθρων ανά ημέρα. Και πιο συγκεκριμένα, είναι μεγαλύτερο στην κατηγορία αθλητικά.\n",
        "\n",
        "Αν φτιάξουμε ένα wordcloud μόνο για τα άρθρα της συγκεκριμένης κατηγορίας, της συγκεκριμένης ημέρας, θα βρούμε γρήγορα τις λέξεις που αφορούν το σημαντικό αθλητικό γεγονός εκείνης της ημέρας."
      ],
      "metadata": {
        "id": "3IPKxDp5PkxV"
      }
    },
    {
      "cell_type": "markdown",
      "source": [
        "#### ΠΑΡΑΔΕΙΓΜΑ WORDCLOUD ME KEIMENO ΚΑΤΕΥΘΕΙΑΝ AΠΟ TH ΣΤΗΛΗ ΚΕΙΜΕΝΟΥ ΤΟΥ DATAFRAME"
      ],
      "metadata": {
        "id": "xbZziDOyTDF-"
      }
    },
    {
      "cell_type": "markdown",
      "source": [
        "**!!!ΠΡΟΣΟΧΗ!!!** Eπειδή το dataframe φτιάχνεται από αρχείο που είναι στο drive μου, μην κάνετε uncomment και τρέξετε τα παρακάτω κελιά γιατί θα εξαφανιστούν τα outputs."
      ],
      "metadata": {
        "id": "u7067I-PTgSa"
      }
    },
    {
      "cell_type": "code",
      "source": [
        "# df = pd.read_excel(\"/content/drive/MyDrive/2023/teaching python/Lesson 9/efsyn_full_articles_ekloges_2023_7_5_2023.xlsx\")\n",
        "# df.tail()"
      ],
      "metadata": {
        "id": "j8gt60YHPiDL"
      },
      "execution_count": null,
      "outputs": []
    },
    {
      "cell_type": "code",
      "source": [
        "# df.dropna(inplace=True)\n",
        "# df = df.reset_index(drop=True)"
      ],
      "metadata": {
        "id": "9Bdb-MhCVE2Z"
      },
      "execution_count": null,
      "outputs": []
    },
    {
      "cell_type": "code",
      "source": [
        "# df['text'] = df[['title', 'full_text']].agg(' '.join, axis=1)"
      ],
      "metadata": {
        "id": "eEdfgVcQWvGv"
      },
      "execution_count": null,
      "outputs": []
    },
    {
      "cell_type": "code",
      "source": [
        "# df[['date', \"section\"]].describe()"
      ],
      "metadata": {
        "id": "roKAsJZGXvJt"
      },
      "execution_count": null,
      "outputs": []
    },
    {
      "cell_type": "code",
      "source": [
        "# df['datetime'] = pd.to_datetime(df['date'], format='%Y-%m-%d %H:%M')\n",
        "# df['day'] = pd.DatetimeIndex(df['datetime']).day"
      ],
      "metadata": {
        "id": "geb730j8WhgW"
      },
      "execution_count": null,
      "outputs": []
    },
    {
      "cell_type": "code",
      "source": [
        "# df[df[\"section\"]==\"ΠΟΛΙΤΙΚΗ\"].groupby(\"day\", as_index=False)['title'].count().sort_values(\"title\", ascending=False)"
      ],
      "metadata": {
        "id": "Eo3-VqPcVMJd"
      },
      "execution_count": null,
      "outputs": []
    },
    {
      "cell_type": "markdown",
      "source": [
        "Βλέπω ότι τα περισσότερα άρθρα στην κατηγορία ΠΟΛΙΤΙΚΗ ήταν στις 6 Ιουνίου (τα δεδομένα μου είναι από 30/5 - 6/6 του 2023). Φιλτράρω το dataframe μου."
      ],
      "metadata": {
        "id": "NzQxfC_kY9kr"
      }
    },
    {
      "cell_type": "code",
      "source": [
        "# df[(df[\"section\"]==\"ΠΟΛΙΤΙΚΗ\") & (df[\"day\"]==6)][\"text\"]"
      ],
      "metadata": {
        "id": "RiWobZVJZxis"
      },
      "execution_count": null,
      "outputs": []
    },
    {
      "cell_type": "markdown",
      "source": [
        "Ακριβώς αυτό το φίλτρο μπορώ να το βάλω στην παράμετρο του generate() στο wordcloud"
      ],
      "metadata": {
        "id": "52shD2oRblTa"
      }
    },
    {
      "cell_type": "code",
      "source": [
        "# wordcloud = WordCloud(\n",
        "#     stopwords = nlp.Defaults.stop_words,\n",
        "#     width = 2000,\n",
        "#     height = 1000,\n",
        "#     background_color = 'black'\n",
        "#  ).generate(' '.join(df[(df[\"section\"]==\"ΠΟΛΙΤΙΚΗ\") & (df[\"day\"]==6)][\"text\"]))\n",
        "# fig = plt.figure(\n",
        "#     figsize = (10, 8),\n",
        "#     facecolor = 'k',\n",
        "#     edgecolor = 'k')\n",
        "# plt.imshow(wordcloud, interpolation = 'bilinear')\n",
        "# plt.axis('off')\n",
        "# plt.tight_layout(pad=0)\n",
        "# plt.show()"
      ],
      "metadata": {
        "id": "Ordegoskbx7Q"
      },
      "execution_count": null,
      "outputs": []
    },
    {
      "cell_type": "markdown",
      "source": [
        "Κι αν θέλω να κάνω και lemmatization για να φύγουν οι διαφορετικές πτώσεις των ίδιων λέξεων:"
      ],
      "metadata": {
        "id": "yOsGMfoHem3Z"
      }
    },
    {
      "cell_type": "code",
      "source": [
        "# wordcloud = WordCloud(\n",
        "#     stopwords = nlp.Defaults.stop_words,\n",
        "#     width = 2000,\n",
        "#     height = 1000,\n",
        "#     background_color = 'black'\n",
        "#  ).generate(' '.join(token.lemma_ for token in nlp(' '.join(df[(df[\"section\"]==\"ΠΟΛΙΤΙΚΗ\") & (df[\"day\"]==6)][\"text\"]))))\n",
        "# fig = plt.figure(\n",
        "#     figsize = (10, 8),\n",
        "#     facecolor = 'k',\n",
        "#     edgecolor = 'k')\n",
        "# plt.imshow(wordcloud, interpolation = 'bilinear')\n",
        "# plt.axis('off')\n",
        "# plt.tight_layout(pad=0)\n",
        "# plt.show()"
      ],
      "metadata": {
        "id": "HJrs724Ee6C-"
      },
      "execution_count": null,
      "outputs": []
    },
    {
      "cell_type": "markdown",
      "source": [
        "Για όποιον θα ήθελε να παίξει με την εμφάνιση του wordcloud: https://amueller.github.io/word_cloud/auto_examples/index.html"
      ],
      "metadata": {
        "id": "r33iEMN8hRqX"
      }
    },
    {
      "cell_type": "code",
      "source": [],
      "metadata": {
        "id": "RIIxS-VyfOEv"
      },
      "execution_count": null,
      "outputs": []
    },
    {
      "cell_type": "markdown",
      "source": [
        "## ΣΥΜΠΕΡΑΣΜΑΤΑ"
      ],
      "metadata": {
        "id": "MDVKqaabrDd5"
      }
    },
    {
      "cell_type": "markdown",
      "source": [
        "Τέλος, γράψτε ένα σύντομο κείμενο για τα ευρήματα των αναλύσεών σας."
      ],
      "metadata": {
        "id": "mD6D9OUxqtSf"
      }
    },
    {
      "cell_type": "markdown",
      "source": [
        "\n",
        "Η ανάλυση έδειξε ότι το πλήθος των άρθρων ποικίλλει σημαντικά από μέρα σε μέρα. Ορισμένες ημέρες παρουσιάζουν υψηλότερη δραστηριότητα, πιθανώς λόγω σημαντικών γεγονότων ή προγραμματισμένων δημοσιεύσεων.ωΑυτές οι ημέρες φαίνεται να είναι η 4ή, 11ή και 30κοστή στο διάστημα που εξετάζουμε.\n",
        "\n",
        "Οι κατηγορίες \"Κόσμος\" και \"Ελλάδα\" έχουν τον μεγαλύτερο αριθμό άρθρων υποδηλώνοντας ότι αυτές οι θεματικές είναι πιο δημοφιλείς ή θεωρούνται πιο σημαντικές για τους αναγνώστες του skai.gr.\n",
        "\n",
        "O συντάκτης \"skai.gr\" δημοσιεύει περισσότερα άρθρα σε σχέση με άλλους.\n",
        "\n",
        "Παρουσιάζεται οτι την 1η Μαίου του 2023 δημοσιευτηκάν περισσότερα αρθρά στην κατηγορία κόσμος.\n"
      ],
      "metadata": {
        "id": "FGX4FX9eEnmv"
      }
    }
  ]
}