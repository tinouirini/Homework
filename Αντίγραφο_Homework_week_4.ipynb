{
  "nbformat": 4,
  "nbformat_minor": 0,
  "metadata": {
    "colab": {
      "provenance": [],
      "include_colab_link": true
    },
    "kernelspec": {
      "name": "python3",
      "display_name": "Python 3"
    },
    "language_info": {
      "name": "python"
    }
  },
  "cells": [
    {
      "cell_type": "markdown",
      "metadata": {
        "id": "view-in-github",
        "colab_type": "text"
      },
      "source": [
        "<a href=\"https://colab.research.google.com/github/tinouirini/Homework_week2/blob/main/%CE%91%CE%BD%CF%84%CE%AF%CE%B3%CF%81%CE%B1%CF%86%CE%BF_Homework_week_4.ipynb\" target=\"_parent\"><img src=\"https://colab.research.google.com/assets/colab-badge.svg\" alt=\"Open In Colab\"/></a>"
      ]
    },
    {
      "cell_type": "markdown",
      "source": [
        "**Ζητούμενο**:\n",
        "\n",
        "Θέλουμε να φτιάξουμε έναν αλγόριθμο, ο οποίος θα κάνει τα παρακάτω:\n",
        "- από το url του άρθρου μιας κατηγορίας ειδήσεων από ένα ειδησεογραφικό site, θα απομονώνει τον τίτλο του άρθρου και θα τον προσθέτει σε μια λίστα\n",
        "- θα παίρνει τον τίτλο από τη λίστα, θα μετράει τις λέξεις του τίτλου και θα προσθέτει τον αριθμό του πλήθους των λέξεων σε μια άλλη λίστα"
      ],
      "metadata": {
        "id": "jgQ-y8VYLE2K"
      }
    },
    {
      "cell_type": "markdown",
      "source": [
        "**Περιορισμοί**\n",
        "\n",
        "**Για εκπαιδευτικούς λόγους, Θα χρησιμοποιηθούν αποκλειστικά τεχνικές που έχουμε δείξει, που περιέχονται στο notebook της Εισαγωγής στην Python και που παρουσιάζονται εδώ.**\n",
        "\n",
        "**Αυτό σημαίνει, ότι παρότι υπάρχουν κι άλλοι τρόποι για να πάρουμε το ίδιο αποτέλεσμα, θα πρέπει να λύσετε την άσκηση, ΜΟΝΟ με τον τρόπο που δείχνεται εδώ**."
      ],
      "metadata": {
        "id": "aMv5ZKxwiTnU"
      }
    },
    {
      "cell_type": "markdown",
      "source": [
        "**Ανάλυση του τι πρέπει να κάνουμε**:\n",
        "\n",
        "- θα βρούμε ένα ειδησεογραφικό site που μας ενδιαφέρει (π.χ. news247.gr)\n",
        "- θα επιλέξουμε μια κατηγορία ειδήσεων που μας ενδιαφέρει (π.χ. Πολιτική)\n",
        "- θα μπούμε στην αρχική σελίδα των ειδήσεων της κατηγορίας που επιλέξαμε (π.χ.  https://www.news247.gr/politiki/)\n",
        "- θα διαλέξουμε ένα άρθρο, θα κάνουμε δεξί κλικ πάνω στον τίτλο του και θα κάνουμε copy link / αντιγραφή συνδέσμου (π.χ. https://www.news247.gr/politiki/i-kivernisi-epimenei-sti-mi-nomothetisi-tou-orou-ginaikoktonia/)\n",
        "- θα φτιάξουμε στην Python μια λίστα (που θα αποθηκεύουμε τα urls των άρθρων)και θα βάλουμε μέσα στη λίστα, το url που κάναμε copy απο το site\n",
        "- θα μελετήσουμε τη δομή του url για να δούμε πώς μπορούμε να απομονώνουμε τον τίτλο από το url\n",
        "- θα φέρουμε και το url ενός δεύτερου άρθρου και θα το βάλουμε μέσα στη λίστα, για να βρούμε έναν τρόπο που θα δουλεύει για οποιοδήποτε url αυτής της κατηγορίας, αυτού του site που επιλέξαμε\n",
        "- θα γράψουμε τον κώδικα που θα απομονώνει τον τίτλο και θα τεστάρουμε ότι δουλεύει και για τους δύο τίτλους\n",
        "- θα αποθηκεύσουμε τους τίτλους σε μια νέα λίστα\n",
        "- θα χρησιμοποιήσουμε methods για strings και λίστες για να μετρήσουμε τις λέξεις\n",
        "- θα γράψουμε τον κώδικα για να προστίθεται το πλήθος των λέξεων του τίτλου σε μια νέα λίστα\n",
        "- εφόσον όλα δουλεύουν σωστά, θα γράψουμε όλο μαζί τον κώδικα του αλγόριθμου σε ένα cell\n",
        "- θα φέρουμε το url ενός τρίτου άρθρου και θα τρέξουμε τον αλγόριθμο σε αυτό το url"
      ],
      "metadata": {
        "id": "s_W6blUPQEOt"
      }
    },
    {
      "cell_type": "markdown",
      "source": [
        "**Παράδειγμα**"
      ],
      "metadata": {
        "id": "ZnifdoN3gZga"
      }
    },
    {
      "cell_type": "code",
      "source": [
        "urlsL = [\"https://www.news247.gr/politiki/i-kivernisi-epimenei-sti-mi-nomothetisi-tou-orou-ginaikoktonia/\",\n",
        "         \"https://www.news247.gr/politiki/episimo-oxi-apo-tin-kivernisi-stin-vouli-gia-tin-ensomatosi-tou-orou-ginaikoktonia/\"]"
      ],
      "metadata": {
        "id": "kXsJYcWpgiAa"
      },
      "execution_count": null,
      "outputs": []
    },
    {
      "cell_type": "code",
      "source": [
        "# μπορώ να δουλεύω με ένα url, καλώντας το με τον αριθμό του index που έχει μέσα στη λίστα urlsL\n",
        "urlsL[0]"
      ],
      "metadata": {
        "colab": {
          "base_uri": "https://localhost:8080/",
          "height": 35
        },
        "id": "7js4w_Pmj7_8",
        "outputId": "48436f80-9bab-405a-94e8-8ac1397c051b"
      },
      "execution_count": null,
      "outputs": [
        {
          "output_type": "execute_result",
          "data": {
            "text/plain": [
              "'https://www.news247.gr/politiki/i-kivernisi-epimenei-sti-mi-nomothetisi-tou-orou-ginaikoktonia/'"
            ],
            "application/vnd.google.colaboratory.intrinsic+json": {
              "type": "string"
            }
          },
          "metadata": {},
          "execution_count": 2
        }
      ]
    },
    {
      "cell_type": "code",
      "source": [
        "# μπορώ να αποθηκεύω το εκάστοτε url από τη λίστα σε μια μεταβλητή και να δουλεύω με αυτή\n",
        "url = urlsL[0]\n",
        "url"
      ],
      "metadata": {
        "colab": {
          "base_uri": "https://localhost:8080/",
          "height": 35
        },
        "id": "wsP9RcA1m-HU",
        "outputId": "056e16a1-436d-4cb2-8917-32f9f8371994"
      },
      "execution_count": null,
      "outputs": [
        {
          "output_type": "execute_result",
          "data": {
            "text/plain": [
              "'https://www.news247.gr/politiki/i-kivernisi-epimenei-sti-mi-nomothetisi-tou-orou-ginaikoktonia/'"
            ],
            "application/vnd.google.colaboratory.intrinsic+json": {
              "type": "string"
            }
          },
          "metadata": {},
          "execution_count": 3
        }
      ]
    },
    {
      "cell_type": "code",
      "source": [
        "# ή\n",
        "url = urlsL[1]\n",
        "url"
      ],
      "metadata": {
        "colab": {
          "base_uri": "https://localhost:8080/",
          "height": 35
        },
        "id": "cvagLoGSnZ3i",
        "outputId": "1e4217b0-49e9-4478-9d3c-6217e76940aa"
      },
      "execution_count": null,
      "outputs": [
        {
          "output_type": "execute_result",
          "data": {
            "text/plain": [
              "'https://www.news247.gr/politiki/episimo-oxi-apo-tin-kivernisi-stin-vouli-gia-tin-ensomatosi-tou-orou-ginaikoktonia/'"
            ],
            "application/vnd.google.colaboratory.intrinsic+json": {
              "type": "string"
            }
          },
          "metadata": {},
          "execution_count": 4
        }
      ]
    },
    {
      "cell_type": "markdown",
      "source": [
        "Παρατηρώ ότι η δομή του url είναι: \"https://www.news247.gr/politiki/\" + \"<τίτλος άρθρου>\""
      ],
      "metadata": {
        "id": "gCE-YdeXhnQx"
      }
    },
    {
      "cell_type": "markdown",
      "source": [
        "Ένας τρόπος να απομονώσω τον τίτλο από το url είναι να \"σβήνω\" ό,τι υπάρχει πριν τον τίτλο (το οποίο είναι ίδιο σε όλα τα urls).\n",
        "\n",
        "Εφαρμόζοντας τη μέθοδο replace() σε ένα string, μπορώ να αντικαταστήσω ένα τμήμα του με ένα άλλο.\n"
      ],
      "metadata": {
        "id": "bvXDRJyUl97H"
      }
    },
    {
      "cell_type": "code",
      "source": [
        "# αντικαθιστώ στο url το \"https://www.news247.gr/politiki/\" με το τίποτα: \"\"\n",
        "url.replace(\"https://www.news247.gr/politiki/\", \"\")"
      ],
      "metadata": {
        "colab": {
          "base_uri": "https://localhost:8080/",
          "height": 35
        },
        "id": "JPDG-Yvzhg-g",
        "outputId": "e127cdb5-7869-42d4-ebbd-f3f505f408ac"
      },
      "execution_count": null,
      "outputs": [
        {
          "output_type": "execute_result",
          "data": {
            "text/plain": [
              "'episimo-oxi-apo-tin-kivernisi-stin-vouli-gia-tin-ensomatosi-tou-orou-ginaikoktonia/'"
            ],
            "application/vnd.google.colaboratory.intrinsic+json": {
              "type": "string"
            }
          },
          "metadata": {},
          "execution_count": 5
        }
      ]
    },
    {
      "cell_type": "code",
      "source": [
        "# χρειάζεται να \"σβήνω\" και το τελευταίο slash\n",
        "url.replace(\"https://www.news247.gr/politiki/\", \"\").replace(\"/\", \"\")"
      ],
      "metadata": {
        "colab": {
          "base_uri": "https://localhost:8080/",
          "height": 35
        },
        "id": "Vzj3SowdlfPO",
        "outputId": "81cf9ef6-ef65-4068-b30c-b203204ae07a"
      },
      "execution_count": null,
      "outputs": [
        {
          "output_type": "execute_result",
          "data": {
            "text/plain": [
              "'episimo-oxi-apo-tin-kivernisi-stin-vouli-gia-tin-ensomatosi-tou-orou-ginaikoktonia'"
            ],
            "application/vnd.google.colaboratory.intrinsic+json": {
              "type": "string"
            }
          },
          "metadata": {},
          "execution_count": 6
        }
      ]
    },
    {
      "cell_type": "code",
      "source": [
        "# καλό είναι να αντικαταστήσω τις παύλες ανάμεσα στις λέξεις με κενά\n",
        "url.replace(\"https://www.news247.gr/politiki/\", \"\").replace(\"/\", \"\").replace(\"-\", \" \")"
      ],
      "metadata": {
        "colab": {
          "base_uri": "https://localhost:8080/",
          "height": 35
        },
        "id": "2OFXeFTi6BO3",
        "outputId": "84c4d3a9-327d-4574-e1e4-4aab010531ba"
      },
      "execution_count": null,
      "outputs": [
        {
          "output_type": "execute_result",
          "data": {
            "text/plain": [
              "'episimo oxi apo tin kivernisi stin vouli gia tin ensomatosi tou orou ginaikoktonia'"
            ],
            "application/vnd.google.colaboratory.intrinsic+json": {
              "type": "string"
            }
          },
          "metadata": {},
          "execution_count": 7
        }
      ]
    },
    {
      "cell_type": "markdown",
      "source": [
        "Όπως φαίνεται παραπάνω, μπορώ να κάνω όλα μαζί τα replace(), σε μια γραμμή κώδικα, βάζοντας το ένα replace μετά το άλλο."
      ],
      "metadata": {
        "id": "Djevfb2O_cwa"
      }
    },
    {
      "cell_type": "markdown",
      "source": [
        "Αποθηκεύω τον τίτλο σε μια μεταβλητή"
      ],
      "metadata": {
        "id": "O1-oTEBnmNn1"
      }
    },
    {
      "cell_type": "code",
      "source": [
        "title = url.replace(\"https://www.news247.gr/politiki/\", \"\").replace(\"/\", \"\").replace(\"-\", \" \")\n",
        "# έλεγχος\n",
        "title"
      ],
      "metadata": {
        "colab": {
          "base_uri": "https://localhost:8080/",
          "height": 35
        },
        "id": "rTuyrMJOmL7B",
        "outputId": "93e018a6-f7ff-45a5-d983-d1e123e2be4d"
      },
      "execution_count": null,
      "outputs": [
        {
          "output_type": "execute_result",
          "data": {
            "text/plain": [
              "'episimo oxi apo tin kivernisi stin vouli gia tin ensomatosi tou orou ginaikoktonia'"
            ],
            "application/vnd.google.colaboratory.intrinsic+json": {
              "type": "string"
            }
          },
          "metadata": {},
          "execution_count": 8
        }
      ]
    },
    {
      "cell_type": "markdown",
      "source": [
        "**H μέθοδος split() για strings**\n",
        "\n",
        "Το split(), όταν το εφαρμόζουμε σε ένα string και μέσα στην παρένθεση βάζουμε το χαρακτήρα που διαχωρίζει τις λέξεις, μας δίνει όλες τις λέξεις του string σαν αντικείμενα μιας λίστας."
      ],
      "metadata": {
        "id": "55agdnkxoA05"
      }
    },
    {
      "cell_type": "code",
      "source": [
        "# παράδειγμα split() σε φράση που οι λέξεις διαχωρίζονται με παύλες\n",
        "string = \"με-το-split-παίρνουμε-σε-λίστα-τις-λέξεις-μιας-φράσης\"\n",
        "string.split(\"-\")"
      ],
      "metadata": {
        "colab": {
          "base_uri": "https://localhost:8080/"
        },
        "id": "9S3cI5pupXEX",
        "outputId": "c183708f-b59a-4f3d-e6c8-6204d84c44b3"
      },
      "execution_count": null,
      "outputs": [
        {
          "output_type": "execute_result",
          "data": {
            "text/plain": [
              "['με',\n",
              " 'το',\n",
              " 'split',\n",
              " 'παίρνουμε',\n",
              " 'σε',\n",
              " 'λίστα',\n",
              " 'τις',\n",
              " 'λέξεις',\n",
              " 'μιας',\n",
              " 'φράσης']"
            ]
          },
          "metadata": {},
          "execution_count": 9
        }
      ]
    },
    {
      "cell_type": "markdown",
      "source": [
        "Στον τίτλο από το url που δουλεύουμε, οι λέξεις διαχωρίζονται με κενό"
      ],
      "metadata": {
        "id": "UbGwBW3irVby"
      }
    },
    {
      "cell_type": "code",
      "source": [
        "title"
      ],
      "metadata": {
        "colab": {
          "base_uri": "https://localhost:8080/",
          "height": 35
        },
        "id": "p02X_7kIET1w",
        "outputId": "0712e6fd-a329-4beb-b58f-efa43d5ef3d5"
      },
      "execution_count": null,
      "outputs": [
        {
          "output_type": "execute_result",
          "data": {
            "text/plain": [
              "'episimo oxi apo tin kivernisi stin vouli gia tin ensomatosi tou orou ginaikoktonia'"
            ],
            "application/vnd.google.colaboratory.intrinsic+json": {
              "type": "string"
            }
          },
          "metadata": {},
          "execution_count": 10
        }
      ]
    },
    {
      "cell_type": "code",
      "source": [
        "title.split(\" \")"
      ],
      "metadata": {
        "colab": {
          "base_uri": "https://localhost:8080/"
        },
        "id": "Nol-8IcwoOaL",
        "outputId": "d28856e3-6c75-40c7-e04c-7764794d1378"
      },
      "execution_count": null,
      "outputs": [
        {
          "output_type": "execute_result",
          "data": {
            "text/plain": [
              "['episimo',\n",
              " 'oxi',\n",
              " 'apo',\n",
              " 'tin',\n",
              " 'kivernisi',\n",
              " 'stin',\n",
              " 'vouli',\n",
              " 'gia',\n",
              " 'tin',\n",
              " 'ensomatosi',\n",
              " 'tou',\n",
              " 'orou',\n",
              " 'ginaikoktonia']"
            ]
          },
          "metadata": {},
          "execution_count": 11
        }
      ]
    },
    {
      "cell_type": "code",
      "source": [
        "# αποθηκεύω το αποτέλεσμα του split σε μια μεταβλητή\n",
        "titleL = title.split(\" \")\n",
        "# ελέγχω αν έγινε αυτό που ήθελα\n",
        "titleL"
      ],
      "metadata": {
        "colab": {
          "base_uri": "https://localhost:8080/"
        },
        "id": "LfY5wMA-rkpv",
        "outputId": "6f1707eb-ac84-49dd-9047-7efd736b20bd"
      },
      "execution_count": null,
      "outputs": [
        {
          "output_type": "execute_result",
          "data": {
            "text/plain": [
              "['episimo',\n",
              " 'oxi',\n",
              " 'apo',\n",
              " 'tin',\n",
              " 'kivernisi',\n",
              " 'stin',\n",
              " 'vouli',\n",
              " 'gia',\n",
              " 'tin',\n",
              " 'ensomatosi',\n",
              " 'tou',\n",
              " 'orou',\n",
              " 'ginaikoktonia']"
            ]
          },
          "metadata": {},
          "execution_count": 12
        }
      ]
    },
    {
      "cell_type": "markdown",
      "source": [
        "**Η συνάρτηση len() για λίστες**\n",
        "\n",
        "Με το len() παίρνουμε το πλήθος των αντικειμένων μιας λίστας"
      ],
      "metadata": {
        "id": "AtDn3u5kmGUi"
      }
    },
    {
      "cell_type": "code",
      "source": [
        "# μετράω τις λέξεις του τίτλου\n",
        "len(titleL)"
      ],
      "metadata": {
        "colab": {
          "base_uri": "https://localhost:8080/"
        },
        "id": "2p8_Lybbsx5l",
        "outputId": "a413c30a-7d3b-4f60-b721-e6d149f93309"
      },
      "execution_count": null,
      "outputs": [
        {
          "output_type": "execute_result",
          "data": {
            "text/plain": [
              "13"
            ]
          },
          "metadata": {},
          "execution_count": 13
        }
      ]
    },
    {
      "cell_type": "code",
      "source": [
        "# αποθηκεύω τον αριθμό λέξεων σε μια μεταβλητή\n",
        "title_words_nbr = len(titleL)\n",
        "# ελέγχω\n",
        "title_words_nbr"
      ],
      "metadata": {
        "colab": {
          "base_uri": "https://localhost:8080/"
        },
        "id": "jayG-7ies-aq",
        "outputId": "16a31bc3-5c80-4a8a-f87d-52ed2ced42f4"
      },
      "execution_count": null,
      "outputs": [
        {
          "output_type": "execute_result",
          "data": {
            "text/plain": [
              "13"
            ]
          },
          "metadata": {},
          "execution_count": 14
        }
      ]
    },
    {
      "cell_type": "code",
      "source": [
        "# φτιάχνω μια λίστα που θα αποθηκεύω τον αριθμό λέξεων του τίτλου\n",
        "title_words_nbrL = []\n",
        "# προσθέτω τον αριθμό λέξεων του τίτλου στη λίστα\n",
        "title_words_nbrL.append(title_words_nbr)\n",
        "# ελέγχω\n",
        "title_words_nbrL"
      ],
      "metadata": {
        "colab": {
          "base_uri": "https://localhost:8080/"
        },
        "id": "fHy5KcI9tf_G",
        "outputId": "76f85b2b-3d7a-4ef0-a195-962e8724271d"
      },
      "execution_count": null,
      "outputs": [
        {
          "output_type": "execute_result",
          "data": {
            "text/plain": [
              "[13]"
            ]
          },
          "metadata": {},
          "execution_count": 15
        }
      ]
    },
    {
      "cell_type": "markdown",
      "source": [
        "**Όλος ο αλγόριθμος μαζί**"
      ],
      "metadata": {
        "id": "u91A0hjZ0HLU"
      }
    },
    {
      "cell_type": "markdown",
      "source": [
        "Αρχικοποίηση"
      ],
      "metadata": {
        "id": "Quw1qzMY21G1"
      }
    },
    {
      "cell_type": "code",
      "source": [
        "urlsL = [\"https://www.news247.gr/politiki/i-kivernisi-epimenei-sti-mi-nomothetisi-tou-orou-ginaikoktonia/\",\n",
        "         \"https://www.news247.gr/politiki/episimo-oxi-apo-tin-kivernisi-stin-vouli-gia-tin-ensomatosi-tou-orou-ginaikoktonia/\"]"
      ],
      "metadata": {
        "id": "iYNySHgJ1egK"
      },
      "execution_count": null,
      "outputs": []
    },
    {
      "cell_type": "code",
      "source": [
        "titlesL = []\n",
        "title_words_nbrL = []"
      ],
      "metadata": {
        "id": "XqDuRDGr16-J"
      },
      "execution_count": null,
      "outputs": []
    },
    {
      "cell_type": "markdown",
      "source": [
        "Ορισμός του url τον οποίο θα επεξεργαστεί ο αλγόριθμος"
      ],
      "metadata": {
        "id": "sVMc3AQx2_WB"
      }
    },
    {
      "cell_type": "code",
      "source": [
        "url = urlsL[0]"
      ],
      "metadata": {
        "id": "-B5GOfAn2Fwh"
      },
      "execution_count": null,
      "outputs": []
    },
    {
      "cell_type": "markdown",
      "source": [
        "Αλγόριθμος"
      ],
      "metadata": {
        "id": "SFQRuKhA25xz"
      }
    },
    {
      "cell_type": "code",
      "source": [
        "title = url.replace(\"https://www.news247.gr/politiki/\", \"\").replace(\"/\", \"\").replace(\"-\", \" \")\n",
        "titlesL.append(title)\n",
        "titleL = title.split(\" \")\n",
        "title_words_nbr = len(titleL)\n",
        "title_words_nbrL.append(title_words_nbr)"
      ],
      "metadata": {
        "id": "vR-KZl0iuHxb"
      },
      "execution_count": null,
      "outputs": []
    },
    {
      "cell_type": "code",
      "source": [
        "print(titlesL)\n",
        "print(title_words_nbrL)"
      ],
      "metadata": {
        "colab": {
          "base_uri": "https://localhost:8080/"
        },
        "id": "Oc5FUCaY0uAm",
        "outputId": "cb82be6d-c6c1-4876-be6a-08dc79d57f92"
      },
      "execution_count": null,
      "outputs": [
        {
          "output_type": "stream",
          "name": "stdout",
          "text": [
            "['i kivernisi epimenei sti mi nomothetisi tou orou ginaikoktonia']\n",
            "[9]\n"
          ]
        }
      ]
    },
    {
      "cell_type": "markdown",
      "source": [
        "Ο παραπάνω αλγόριθμος δουλεύει για κάθε url από την κατηγορία \"Πολιτική\" του news247.gr"
      ],
      "metadata": {
        "id": "3DlJdETD3Q1l"
      }
    },
    {
      "cell_type": "code",
      "source": [
        "url = urlsL[1]"
      ],
      "metadata": {
        "id": "1Us4x8ng3M0Z"
      },
      "execution_count": null,
      "outputs": []
    },
    {
      "cell_type": "code",
      "source": [
        "title = url.replace(\"https://www.news247.gr/politiki/\", \"\").replace(\"/\", \"\").replace(\"-\", \" \")\n",
        "titlesL.append(title)\n",
        "titleL = title.split(\" \")\n",
        "title_words_nbr = len(titleL)\n",
        "title_words_nbrL.append(title_words_nbr)"
      ],
      "metadata": {
        "id": "mUCmaeYi3x84"
      },
      "execution_count": null,
      "outputs": []
    },
    {
      "cell_type": "code",
      "source": [
        "print(titlesL)\n",
        "print(title_words_nbrL)"
      ],
      "metadata": {
        "colab": {
          "base_uri": "https://localhost:8080/"
        },
        "id": "9xDwNDhg3zaM",
        "outputId": "14ca4f65-3299-4124-bdc3-699745684db5"
      },
      "execution_count": null,
      "outputs": [
        {
          "output_type": "stream",
          "name": "stdout",
          "text": [
            "['i kivernisi epimenei sti mi nomothetisi tou orou ginaikoktonia', 'episimo oxi apo tin kivernisi stin vouli gia tin ensomatosi tou orou ginaikoktonia']\n",
            "[9, 13]\n"
          ]
        }
      ]
    },
    {
      "cell_type": "markdown",
      "source": [
        "## **Άσκηση (προς βαθμολόγηση)**"
      ],
      "metadata": {
        "id": "jPtugHWfAQhP"
      }
    },
    {
      "cell_type": "markdown",
      "source": [
        "Εφαρμόζοντας **ακριβώς** την παραπάνω τεχνική, φτιάξτε τον αλγόριθμο που θα κάνει το ίδιο πράγμα για άρθρα μιας κατηγορίας ενός ειδησεογραφικού site της αρεσκείας σας, **εκτός από το news247.gr**.\n",
        "\n",
        "Τρέξτε τον αλγόριθμο για 3 διαφορετικά urls άρθρων."
      ],
      "metadata": {
        "id": "rh4fpvcBAa12"
      }
    },
    {
      "cell_type": "code",
      "source": [
        "#ειδησεογραφικό site : https://www.newsit.gr/\n",
        "#κατηγορία : https://www.newsit.gr/category/texnologia/\n",
        "#αρθρό : https://www.newsit.gr/texnologia/aytoi-einai-oi-xeiroteroi-kodikoi-prosvasis-ti-prepei-na-prosexete/\n",
        "urls=['https://www.newsit.gr/texnologia/aytoi-einai-oi-xeiroteroi-kodikoi-prosvasis-ti-prepei-na-prosexete/']\n",
        "url=urls[0]\n",
        "url.replace(\"https://www.newsit.gr/texnologia/\", \"\").replace(\"/\", \"\").replace(\"-\", \" \")\n",
        "title=url.replace(\"https://www.newsit.gr/texnologia/\", \"\").replace(\"/\", \"\").replace(\"-\", \" \")\n",
        "title\n",
        "\n",
        "urls.append('https://www.newsit.gr/texnologia/H-Meta-tha-anagnorizei-apo-ton-maio-ta-periexomena-pou-exoun-dimiourgithei-apo-tin-texniki-noimosyni/')\n",
        "print(urls)\n",
        "title.split(\" \")\n",
        "titleE=title.split(\" \")\n",
        "len(titles)\n",
        "titlesW = len(titleE)\n",
        "print(titlesW)\n",
        "titlesWL = []\n",
        "titlesWL.append(titlesW)\n",
        "print(titlesWL)\n",
        "print(titles)\n",
        "\n",
        "titles=[]\n",
        "titlesWL=[]"
      ],
      "metadata": {
        "id": "ONoZAvs1HrL9"
      },
      "execution_count": null,
      "outputs": []
    },
    {
      "cell_type": "code",
      "source": [
        "#ΑΛΓΟΡΙΘΜΟΣ\n",
        "url=urls[2]\n",
        "titles=[]\n",
        "titlesWL=[]\n",
        "\n",
        "title = url.replace(\"https://www.newsit.gr/texnologia/\", \"\").replace(\"/\", \"\").replace(\"-\", \" \")\n",
        "titles.append(title)\n",
        "titleE = title.split(\" \")\n",
        "titlesW = len(titleE)\n",
        "titlesWL=[]\n",
        "titlesWL.append(titlesW)\n",
        "print(titles)\n",
        "print(titlesW)\n"
      ],
      "metadata": {
        "colab": {
          "base_uri": "https://localhost:8080/"
        },
        "id": "cHKQy1ZtY1DD",
        "outputId": "7f1a6f0c-d230-4977-fb69-ddeff4e415bf"
      },
      "execution_count": 72,
      "outputs": [
        {
          "output_type": "stream",
          "name": "stdout",
          "text": [
            "['Google parathyro gia xreoseis stous xristes logo AI']\n",
            "8\n"
          ]
        }
      ]
    },
    {
      "cell_type": "code",
      "source": [
        "urls.append('https://www.newsit.gr/texnologia/Google-parathyro-gia-xreoseis-stous-xristes-logo-AI/')"
      ],
      "metadata": {
        "id": "TG9q-fqQgPXi"
      },
      "execution_count": 71,
      "outputs": []
    },
    {
      "cell_type": "markdown",
      "source": [
        "## **Προαιρετική Άσκηση (χωρίς βαθμολόγηση)**"
      ],
      "metadata": {
        "id": "KxxfJ0h_CRSU"
      }
    },
    {
      "cell_type": "markdown",
      "source": [
        "Τροποποιήστε τον αλγόριθμο που φτιάξατε έτσι ώστε να απομονώνει τον τίτλο από το url, για άρθρα κάθε κατηγορίας του site που επιλέξατε, χρησιμοποιώντας **αποκλειστικά** τo replace() και το index()."
      ],
      "metadata": {
        "id": "8b83uh0gCg1h"
      }
    },
    {
      "cell_type": "code",
      "source": [],
      "metadata": {
        "id": "K7WabxbHAWFw"
      },
      "execution_count": null,
      "outputs": []
    }
  ]
}