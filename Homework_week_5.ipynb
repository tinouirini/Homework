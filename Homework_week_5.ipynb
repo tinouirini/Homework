{
  "nbformat": 4,
  "nbformat_minor": 0,
  "metadata": {
    "colab": {
      "provenance": [],
      "include_colab_link": true
    },
    "kernelspec": {
      "name": "python3",
      "display_name": "Python 3"
    },
    "language_info": {
      "name": "python"
    }
  },
  "cells": [
    {
      "cell_type": "markdown",
      "metadata": {
        "id": "view-in-github",
        "colab_type": "text"
      },
      "source": [
        "<a href=\"https://colab.research.google.com/github/tinouirini/Homework_week2/blob/main/Homework_week_5.ipynb\" target=\"_parent\"><img src=\"https://colab.research.google.com/assets/colab-badge.svg\" alt=\"Open In Colab\"/></a>"
      ]
    },
    {
      "cell_type": "markdown",
      "source": [
        "Θέλουμε να φτιάξουμε έναν αλγόριθμο, ο οποίος από τα urls ενός ειδησεογραφικού site:\n",
        "- θα απομονώνει τον τίτλο και θα τον αποθηκεύει σε μια λίστα\n",
        "- θα μετράει τις λέξεις του τίτλου και θα αποθηκεύει τον αριθμό του πλήθους των λέξεων σε μια άλλη λίστα"
      ],
      "metadata": {
        "id": "KLHFQgjsxFtJ"
      }
    },
    {
      "cell_type": "markdown",
      "source": [
        "Έστω ότι έχουμε μαζέψει τα παρακάτω urls σε μια λίστα:"
      ],
      "metadata": {
        "id": "UH9JwoW6v8Tk"
      }
    },
    {
      "cell_type": "code",
      "execution_count": null,
      "metadata": {
        "id": "rxpqHHJXv5NZ"
      },
      "outputs": [],
      "source": [
        "urlsL = [\n",
        "    \"https://www.reporter.gr/Oles-oi-eidhseis/600370-Ghpeda-Pws-na-apokthsete-hlektroniko-eisithrio-me-kinhto-Huawei-H-diadikasia\",\n",
        "    \"https://www.reporter.gr/Diethnh/Diethneis-Eidhseis/600372-Synodos-Koryfhs-Proshlwsh-sth-synolikh-dieythethsh-toy-Kypriakoy\",\n",
        "    \"https://www.reporter.gr/Analyseis/600531-AVE-Apo-12-4-se-diapragmateysh-oi-20,64-ekat-nees-metoches\",\n",
        "    \"https://www.reporter.gr/Diethnh/Chrhmatisthria/600539-Meikta-proshma-stis-eyrwagores-meta-to-alma-plhthwrismoy-stis-HPA\"\n",
        "]"
      ]
    },
    {
      "cell_type": "markdown",
      "source": [
        "### Δουλεύω πάντα **τμηματικά** (δηλαδή κάνω ένα-ένα τα πράγματα) και ελέγχω πάντα το αποτέλεσμα της κάθε ενέργειάς μου"
      ],
      "metadata": {
        "id": "h6Mipy2w8wyP"
      }
    },
    {
      "cell_type": "markdown",
      "source": [
        "### Βήμα 1\n",
        "Παρατηρώ τη δομή των urls, για να βρω **ομοιότητες**"
      ],
      "metadata": {
        "id": "DoNg3Vr_w6cM"
      }
    },
    {
      "cell_type": "markdown",
      "source": [
        "Το ζητούμενο είναι να γράψουμε **έναν** κώδικα, που θα τρέχει **ακριβώς ο ίδιος, χωρίς καμιά επιπλέον ειδική παρέμβασή μας** σε **όλες** τις παραπάνω περιπτώσεις"
      ],
      "metadata": {
        "id": "nW455IkS2Y2Z"
      }
    },
    {
      "cell_type": "markdown",
      "source": [
        "Η δομή σε όλα τα urls της λίστας είναι:\n",
        "- <βασικό url του site (https://www.reporter.gr/)>\n",
        "- <κατηγορία/ (Oles-oi-eidhseis/ ή Diethnh/ ή Analyseis/)>\n",
        "- <πιθανόν να υπάρχει και υποκατηγορία/ (Diethneis-Eidhseis/)>\n",
        "- <αριθμός άρθρου- (600370- ή 600372- ή 600531-)>\n",
        "- <ο-τίτλος-του-άρθρου-με-παύλες-ανάμεσα-στις-λέξεις>"
      ],
      "metadata": {
        "id": "zUGU9rarzAW0"
      }
    },
    {
      "cell_type": "markdown",
      "source": [
        "Παρατηρώ ότι:\n",
        "- το βασικό url είναι πάντα το ίδιο, υπάρχει πάντα και τελειώνει με slash (/)\n",
        "- κατηγορία υπάρχει πάντα, μπορεί να είναι διαφορετική και τελειώνει με slash (/)\n",
        "- υποκατηγορία μπορεί να υπάρχει ή να μην υπάρχει, τελειώνει με slash (/)\n",
        "- ο αριθμός του άρθρου υπάρχει πάντα και βρίσκεται μετά το slash της κατηγορίας ή της υποκατηγορίας (αν υπάρχει υποκατηγορία)\n",
        "- επίσης, ο αριθμός του άρθρου έχει στο τέλος παύλα (-) και ακολουθείται από τις λέξεις του τίτλου, οι οποίες χωρίζονται μεταξύ τους με παύλες (-)"
      ],
      "metadata": {
        "id": "hDjTKrkZ5PnQ"
      }
    },
    {
      "cell_type": "markdown",
      "source": [
        "Από τα παραπάνω, βγάζω τα εξής συμπεράσματα:\n",
        "1. στην αρχή των urls υπάρχει **πάντα** το βασικό url\n",
        "2. τα urls αποτελούνται από τμήματα (βασικό url, κατηγορία, μερικές φορές και υποκατηγορία) **που χωρίζονται μεταξύ τους** με slash (/)\n",
        "3. το πλήθος των τμημάτων που αποτελούν το εκάστοτε url δεν είναι σταθερό (γιατί μπορεί να υπάρχει υποκατηγορία, αλλά μπορεί και να μην υπάρχει)\n",
        "4. ο τίτλος είναι **πάντα** το τελευταίο τμήμα\n",
        "5. στην αρχή του τίτλου υπάρχει ένας αριθμός που είναι **πάντα** διαφορετικός"
      ],
      "metadata": {
        "id": "ivGRtC629eHb"
      }
    },
    {
      "cell_type": "markdown",
      "source": [
        "**Τώρα που γνωρίζουμε:**\n",
        "1. το split(), που χωρίζει ένα string σε κομμάτια και τα βάζει σε μια λίστα, και\n",
        "\n",
        "2. πώς να παίρνουμε ένα item από μια λίστα με τον αριθμό του index,\n",
        "\n",
        "**και αφού παρατηρήσαμε ότι:**\n",
        "\n",
        "1. τα τμήματα που συνθέτουν τα urls **χωρίζονται μεταξύ τους** με slash (\"/\") και\n",
        "\n",
        "2. ο τίτλος είναι **πάντα** το τελευταίο τμήμα,\n",
        "\n",
        "μπορούμε:\n",
        "\n",
        "- **να δουλέψουμε με το split(\"/\")** για να πάρουμε τα κομμάτια που χωρίζονται μεταξύ τους με slash σε μια λίστα και\n",
        "- **να πάρουμε από τη λίστα το τελευταίο item** (που είναι πάντα το κομμάτι του τίτλου)"
      ],
      "metadata": {
        "id": "0RdfAjwiBRze"
      }
    },
    {
      "cell_type": "markdown",
      "source": [
        "### Βήμα 2\n",
        "\n",
        "Δοκιμάζω την ιδέα μου, στο πρώτο url της λίστας"
      ],
      "metadata": {
        "id": "nvlUQ_Xa20Go"
      }
    },
    {
      "cell_type": "code",
      "source": [
        "# βάζω σε μια μεταβλητή το 1ο url της λίστας\n",
        "url = urlsL[0]\n",
        "# κάνω split() το url με διαχωριστικό το slash (\"/\")\n",
        "url = url.split(\"/\")\n",
        "# ελέγχω το αποτέλεσμα\n",
        "url"
      ],
      "metadata": {
        "colab": {
          "base_uri": "https://localhost:8080/"
        },
        "id": "9WpYoNOV3RcY",
        "outputId": "6353a3e6-285b-4667-8f53-8d0876b683c0"
      },
      "execution_count": null,
      "outputs": [
        {
          "output_type": "execute_result",
          "data": {
            "text/plain": [
              "['https:',\n",
              " '',\n",
              " 'www.reporter.gr',\n",
              " 'Oles-oi-eidhseis',\n",
              " '600370-Ghpeda-Pws-na-apokthsete-hlektroniko-eisithrio-me-kinhto-Huawei-H-diadikasia']"
            ]
          },
          "metadata": {},
          "execution_count": 2
        }
      ]
    },
    {
      "cell_type": "markdown",
      "source": [
        "**Σημείωση**:\n",
        "- η μεταβλητή url, αρχικά ήταν string (το πρώτο url της λίστας)\n",
        "- αφού στο ίδιο όνομα της μεταβλητής αποθηκεύσαμε την εφαρμογή του split (που παράγει λίστα), τώρα το url είναι λίστα\n",
        "\n",
        "Το βασικό url (\"https://www.reporter.gr\") διαχωρίστηκε κι αυτό σε κομμάτια ('https:', '', 'www.reporter.gr'), γιατί μεταξύ τους υπήρχαν slashes (\"/\").\n",
        "\n",
        "Ωστόσο, εμάς δεν μας νοιάζει σε πόσα κομμάτια κόπηκε το url με το split(), εφόσον θέλουμε τον τίτλο, ο οποίος είναι πάντα το τελευταίο κομμάτι.\n"
      ],
      "metadata": {
        "id": "Wcq8uA67GIgT"
      }
    },
    {
      "cell_type": "code",
      "source": [
        "# φτιάχνω μια νέα μεταβλητή με όνομα title και αποθηκεύω σε αυτή το τελευταίο item της μεταβλητής url\n",
        "title = url[-1]\n",
        "# ελέγχω\n",
        "title"
      ],
      "metadata": {
        "colab": {
          "base_uri": "https://localhost:8080/",
          "height": 35
        },
        "id": "QFGVA8zzw5Xe",
        "outputId": "ce63d038-a168-4c88-9bda-4d91cb590405"
      },
      "execution_count": null,
      "outputs": [
        {
          "output_type": "execute_result",
          "data": {
            "text/plain": [
              "'600370-Ghpeda-Pws-na-apokthsete-hlektroniko-eisithrio-me-kinhto-Huawei-H-diadikasia'"
            ],
            "application/vnd.google.colaboratory.intrinsic+json": {
              "type": "string"
            }
          },
          "metadata": {},
          "execution_count": 3
        }
      ]
    },
    {
      "cell_type": "markdown",
      "source": [
        "### Βήμα 3\n",
        "\n",
        "Γράφω όλον τον κώδικα μαζεμένο σ'ένα cell και τον ξανατρέχω στο πρώτο url"
      ],
      "metadata": {
        "id": "Oi-0O72uNTTL"
      }
    },
    {
      "cell_type": "code",
      "source": [
        "url = urlsL[0]\n",
        "url = url.split(\"/\")\n",
        "title = url[-1]\n",
        "title"
      ],
      "metadata": {
        "colab": {
          "base_uri": "https://localhost:8080/",
          "height": 35
        },
        "id": "_nhoybdeNwYr",
        "outputId": "09a98e12-f9b8-49c2-a852-bc127b962e2e"
      },
      "execution_count": null,
      "outputs": [
        {
          "output_type": "execute_result",
          "data": {
            "text/plain": [
              "'600370-Ghpeda-Pws-na-apokthsete-hlektroniko-eisithrio-me-kinhto-Huawei-H-diadikasia'"
            ],
            "application/vnd.google.colaboratory.intrinsic+json": {
              "type": "string"
            }
          },
          "metadata": {},
          "execution_count": 4
        }
      ]
    },
    {
      "cell_type": "markdown",
      "source": [
        "### Βήμα 4\n",
        "\n",
        "Κάνω copy paste τον κώδικα σε ένα νέο cell και τον δοκιμάζω στα υπόλοιπα urls της λίστας urlsL"
      ],
      "metadata": {
        "id": "__H2iOuVOBwm"
      }
    },
    {
      "cell_type": "code",
      "source": [
        "url = urlsL[1]\n",
        "url = url.split(\"/\")\n",
        "title = url[-1]\n",
        "title"
      ],
      "metadata": {
        "colab": {
          "base_uri": "https://localhost:8080/",
          "height": 35
        },
        "id": "rbpJ1PsWOlFY",
        "outputId": "1bbd92f9-dd7f-4387-a672-69a7a3a2d601"
      },
      "execution_count": null,
      "outputs": [
        {
          "output_type": "execute_result",
          "data": {
            "text/plain": [
              "'600372-Synodos-Koryfhs-Proshlwsh-sth-synolikh-dieythethsh-toy-Kypriakoy'"
            ],
            "application/vnd.google.colaboratory.intrinsic+json": {
              "type": "string"
            }
          },
          "metadata": {},
          "execution_count": 5
        }
      ]
    },
    {
      "cell_type": "code",
      "source": [
        "url = urlsL[2]\n",
        "url = url.split(\"/\")\n",
        "title = url[-1]\n",
        "title"
      ],
      "metadata": {
        "colab": {
          "base_uri": "https://localhost:8080/",
          "height": 35
        },
        "id": "NEDs6ga7Oo5Q",
        "outputId": "b8db1e83-8a87-42ef-d280-06cb4fe81c7e"
      },
      "execution_count": null,
      "outputs": [
        {
          "output_type": "execute_result",
          "data": {
            "text/plain": [
              "'600531-AVE-Apo-12-4-se-diapragmateysh-oi-20,64-ekat-nees-metoches'"
            ],
            "application/vnd.google.colaboratory.intrinsic+json": {
              "type": "string"
            }
          },
          "metadata": {},
          "execution_count": 6
        }
      ]
    },
    {
      "cell_type": "code",
      "source": [
        "url = urlsL[3]\n",
        "url = url.split(\"/\")\n",
        "title = url[-1]\n",
        "title"
      ],
      "metadata": {
        "colab": {
          "base_uri": "https://localhost:8080/",
          "height": 35
        },
        "id": "4EdcKi0IOr3L",
        "outputId": "8162102f-b4f7-4f72-944a-1039d25b353b"
      },
      "execution_count": null,
      "outputs": [
        {
          "output_type": "execute_result",
          "data": {
            "text/plain": [
              "'600539-Meikta-proshma-stis-eyrwagores-meta-to-alma-plhthwrismoy-stis-HPA'"
            ],
            "application/vnd.google.colaboratory.intrinsic+json": {
              "type": "string"
            }
          },
          "metadata": {},
          "execution_count": 7
        }
      ]
    },
    {
      "cell_type": "markdown",
      "source": [
        "**Μια χαρά! ο ίδιος κώδικας απομονώνει σε όλες τις περιπτώσεις τον τίτλο**"
      ],
      "metadata": {
        "id": "QxDcVh4MO6fi"
      }
    },
    {
      "cell_type": "markdown",
      "source": [
        "### Βήμα 5\n",
        "\n",
        "Θέλω όμως να φύγει **ο αριθμός** που υπάρχει **πάντα πριν τον τίτλο** και **ακολουθείται από παύλα**.\n",
        "\n",
        "Ή αλλιώς διατυπωμένο, **από το string του τίτλου, θέλω μόνο όλο το κομμάτι μετά την πρώτη παύλα**."
      ],
      "metadata": {
        "id": "4FKAeE_qPTQo"
      }
    },
    {
      "cell_type": "markdown",
      "source": [
        "Γνωρίζω ότι:\n",
        "- το index(\"-\") μπορεί να μου φέρει τον αριθμό index της πρώτης παύλας που θα βρει\n",
        "- μπορώ να πάρω ένα κομμάτι από ένα string με slicing: από έναν αριθμό index έως έναν άλλο αριθμό index"
      ],
      "metadata": {
        "id": "zBS-yzp4QFxL"
      }
    },
    {
      "cell_type": "code",
      "source": [
        "# βρες τον αριθμό index της πρώτης παύλας στον τίτλο\n",
        "index_start = title.index(\"-\")\n",
        "# ελέγχω\n",
        "index_start"
      ],
      "metadata": {
        "colab": {
          "base_uri": "https://localhost:8080/"
        },
        "id": "SP6cGoR9PSJC",
        "outputId": "931d609c-39bf-440d-d590-5b61a85a8b55"
      },
      "execution_count": null,
      "outputs": [
        {
          "output_type": "execute_result",
          "data": {
            "text/plain": [
              "6"
            ]
          },
          "metadata": {},
          "execution_count": 8
        }
      ]
    },
    {
      "cell_type": "code",
      "source": [
        "# φέρε από το title το κομμάτι από μετά την πρώτη παύλα ως το τέλος\n",
        "title = title[index_start+1 : ] # βάζω +1 γιατί δεν θέλω από την παύλα, αλλά από μετά την παύλα\n",
        "# ελέγχω\n",
        "title"
      ],
      "metadata": {
        "colab": {
          "base_uri": "https://localhost:8080/",
          "height": 35
        },
        "id": "O_Zkc25kN-Ow",
        "outputId": "9d17a122-6a7b-4960-d065-2b5f04f4dcec"
      },
      "execution_count": null,
      "outputs": [
        {
          "output_type": "execute_result",
          "data": {
            "text/plain": [
              "'Meikta-proshma-stis-eyrwagores-meta-to-alma-plhthwrismoy-stis-HPA'"
            ],
            "application/vnd.google.colaboratory.intrinsic+json": {
              "type": "string"
            }
          },
          "metadata": {},
          "execution_count": 9
        }
      ]
    },
    {
      "cell_type": "markdown",
      "source": [
        "Τέλεια! Θέλω και να αντικαταστήσω τις παύλες με κενά"
      ],
      "metadata": {
        "id": "wlfxi3jtMowx"
      }
    },
    {
      "cell_type": "code",
      "source": [
        "title = title.replace(\"-\", \" \")\n",
        "title"
      ],
      "metadata": {
        "colab": {
          "base_uri": "https://localhost:8080/",
          "height": 35
        },
        "id": "8u4_2JMuTj2P",
        "outputId": "9d5e6f20-b8f8-49b8-dba8-24b5a3e7c450"
      },
      "execution_count": null,
      "outputs": [
        {
          "output_type": "execute_result",
          "data": {
            "text/plain": [
              "'Meikta proshma stis eyrwagores meta to alma plhthwrismoy stis HPA'"
            ],
            "application/vnd.google.colaboratory.intrinsic+json": {
              "type": "string"
            }
          },
          "metadata": {},
          "execution_count": 10
        }
      ]
    },
    {
      "cell_type": "markdown",
      "source": [
        "### Βήμα 6\n",
        "\n",
        "Γράφω όλον τον κώδικα σε ένα cell (με copy-paste) και τον δοκιμάζω σε όλα τα urls της λίστας urlsL"
      ],
      "metadata": {
        "id": "g1fk-h03MFo8"
      }
    },
    {
      "cell_type": "code",
      "source": [
        "# για το πρώτο url της λίστας\n",
        "url = urlsL[0]\n",
        "url = url.split(\"/\")\n",
        "title = url[-1]\n",
        "index_start = title.index(\"-\")\n",
        "title = title[index_start+1 : ]\n",
        "title = title.replace(\"-\", \" \")\n",
        "title"
      ],
      "metadata": {
        "colab": {
          "base_uri": "https://localhost:8080/",
          "height": 35
        },
        "id": "icV-7yhJUP4D",
        "outputId": "4d6f9afe-2365-4bb7-9e64-c9b8b8a4c56e"
      },
      "execution_count": null,
      "outputs": [
        {
          "output_type": "execute_result",
          "data": {
            "text/plain": [
              "'Ghpeda Pws na apokthsete hlektroniko eisithrio me kinhto Huawei H diadikasia'"
            ],
            "application/vnd.google.colaboratory.intrinsic+json": {
              "type": "string"
            }
          },
          "metadata": {},
          "execution_count": 11
        }
      ]
    },
    {
      "cell_type": "code",
      "source": [
        "# για το δεύτερο url της λίστας\n",
        "url = urlsL[1]\n",
        "url = url.split(\"/\")\n",
        "title = url[-1]\n",
        "index_start = title.index(\"-\")\n",
        "title = title[index_start+1 : ]\n",
        "title = title.replace(\"-\", \" \")\n",
        "title"
      ],
      "metadata": {
        "colab": {
          "base_uri": "https://localhost:8080/",
          "height": 35
        },
        "id": "-Az4Bw-rUrEt",
        "outputId": "b251f118-6ce4-4164-b01d-e903d389ebad"
      },
      "execution_count": null,
      "outputs": [
        {
          "output_type": "execute_result",
          "data": {
            "text/plain": [
              "'Synodos Koryfhs Proshlwsh sth synolikh dieythethsh toy Kypriakoy'"
            ],
            "application/vnd.google.colaboratory.intrinsic+json": {
              "type": "string"
            }
          },
          "metadata": {},
          "execution_count": 12
        }
      ]
    },
    {
      "cell_type": "code",
      "source": [
        "# για το τρίτο url της λίστας\n",
        "url = urlsL[2]\n",
        "url = url.split(\"/\")\n",
        "title = url[-1]\n",
        "index_start = title.index(\"-\")\n",
        "title = title[index_start+1 : ]\n",
        "title = title.replace(\"-\", \" \")\n",
        "title"
      ],
      "metadata": {
        "colab": {
          "base_uri": "https://localhost:8080/",
          "height": 35
        },
        "id": "W1ddn2nmVCA5",
        "outputId": "975b9b5e-8a54-4ee7-862e-58a37af577c4"
      },
      "execution_count": null,
      "outputs": [
        {
          "output_type": "execute_result",
          "data": {
            "text/plain": [
              "'AVE Apo 12 4 se diapragmateysh oi 20,64 ekat nees metoches'"
            ],
            "application/vnd.google.colaboratory.intrinsic+json": {
              "type": "string"
            }
          },
          "metadata": {},
          "execution_count": 13
        }
      ]
    },
    {
      "cell_type": "code",
      "source": [
        "# για το τέταρτο url της λίστας\n",
        "url = urlsL[3]\n",
        "url = url.split(\"/\")\n",
        "title = url[-1]\n",
        "index_start = title.index(\"-\")\n",
        "title = title[index_start+1 : ]\n",
        "title = title.replace(\"-\", \" \")\n",
        "title"
      ],
      "metadata": {
        "colab": {
          "base_uri": "https://localhost:8080/",
          "height": 35
        },
        "id": "a81tsOxpVF1k",
        "outputId": "45d49cbd-fa55-4489-8177-92c13b7312ce"
      },
      "execution_count": null,
      "outputs": [
        {
          "output_type": "execute_result",
          "data": {
            "text/plain": [
              "'Meikta proshma stis eyrwagores meta to alma plhthwrismoy stis HPA'"
            ],
            "application/vnd.google.colaboratory.intrinsic+json": {
              "type": "string"
            }
          },
          "metadata": {},
          "execution_count": 14
        }
      ]
    },
    {
      "cell_type": "markdown",
      "source": [
        "Εξαιρετικά! Τώρα μπορώ να φτιάξω 2 λίστες, μία για τους τίτλους και μια για το πλήθος των λέξεων του τίτλου και να κάνω append αντίστοιχα τους τίτλους και τα πλήθη των λέξεων."
      ],
      "metadata": {
        "id": "oFXbJkUYVyKt"
      }
    },
    {
      "cell_type": "markdown",
      "source": [
        "### Βήμα 7\n",
        "\n",
        "Γράφω όλο μαζί τον κώδικα που:\n",
        "- απομονώνει τον τίτλο από το url ενός ειδησεογραφικού site,\n",
        "- τον αποθηκεύει σε μια λίστα,\n",
        "- μετράει τις λέξεις του τίτλου και\n",
        "- βάζει τον αριθμό του πλήθους των λέξεων σε μια άλλη λίστα"
      ],
      "metadata": {
        "id": "AOZWFdgMWRnE"
      }
    },
    {
      "cell_type": "code",
      "source": [
        "# 0. πρώτα δημιουργώ τις λίστες που αρχικά θα είναι άδειες\n",
        "titles_list = []\n",
        "words_nbr_list = []"
      ],
      "metadata": {
        "id": "WCZmqJQJX825"
      },
      "execution_count": null,
      "outputs": []
    },
    {
      "cell_type": "code",
      "source": [
        "# 1. μετά ορίζω το url με το οποίο θα δουλέψω\n",
        "url = urlsL[0]"
      ],
      "metadata": {
        "id": "-T5ceJF9YRKO"
      },
      "execution_count": null,
      "outputs": []
    },
    {
      "cell_type": "code",
      "source": [
        "# 2. τέλος γράφω όλο τον κώδικα με τις λειτουργίες που θέλω να κάνω στο url\n",
        "url = url.split(\"/\")\n",
        "title = url[-1]\n",
        "index_start = title.index(\"-\")\n",
        "title = title[index_start+1 : ]\n",
        "title = title.replace(\"-\", \" \")\n",
        "titles_list.append(title)\n",
        "# χώρισε τις λέξεις του τίτλου και βάλτες σε μια λίστα\n",
        "title_words = title.split(\" \") # οι λέξεις χωρίζονται μεταξύ τους με κενά, γι' αυτό το \" \" μέσα στην παρένθεση\n",
        "# μέτρησε τις λέξεις\n",
        "words_nbr = len(title_words)\n",
        "# βάλε τον αριθμό των λέξεων στη σχετική λίστα που έχω φτάξει\n",
        "words_nbr_list.append(words_nbr)"
      ],
      "metadata": {
        "id": "jzsJxW-XYlEu"
      },
      "execution_count": null,
      "outputs": []
    },
    {
      "cell_type": "code",
      "source": [
        "# 3. Tύπωσε τα περιεχόμενα των λιστών\n",
        "print(titles_list)\n",
        "print(words_nbr_list)"
      ],
      "metadata": {
        "colab": {
          "base_uri": "https://localhost:8080/"
        },
        "id": "ol1HaPoUaZBC",
        "outputId": "aedbbc1d-fac4-4f04-a639-3ebcadaa8be8"
      },
      "execution_count": null,
      "outputs": [
        {
          "output_type": "stream",
          "name": "stdout",
          "text": [
            "['Ghpeda Pws na apokthsete hlektroniko eisithrio me kinhto Huawei H diadikasia']\n",
            "[11]\n"
          ]
        }
      ]
    },
    {
      "cell_type": "markdown",
      "source": [
        "### Βήμα 8\n",
        "\n",
        "Κάνω copy-paste τα παραπάνω 1, 2 και 3 και βάζω το 2o url, μετά το 3ο και το 4ο\n",
        "\n",
        "**Προσοχή!** Δεν ξανατρέχω το cell με τη δημιουργία των λιστών, γιατί θα γίνουν κενές και θα χαθούν αυτά που τους έχουμε κάνει append"
      ],
      "metadata": {
        "id": "99RIM5qRYP9N"
      }
    },
    {
      "cell_type": "code",
      "source": [
        "url = urlsL[1]"
      ],
      "metadata": {
        "id": "DDJ8OVlT5GYz"
      },
      "execution_count": null,
      "outputs": []
    },
    {
      "cell_type": "code",
      "source": [
        "url = url.split(\"/\")\n",
        "title = url[-1]\n",
        "index_start = title.index(\"-\")\n",
        "title = title[index_start+1 : ]\n",
        "title = title.replace(\"-\", \" \")\n",
        "titles_list.append(title)\n",
        "title_words = title.split(\" \")\n",
        "words_nbr = len(title_words)\n",
        "words_nbr_list.append(words_nbr)\n",
        "print(titles_list)\n",
        "print(words_nbr_list)"
      ],
      "metadata": {
        "colab": {
          "base_uri": "https://localhost:8080/"
        },
        "id": "Zs_cO58Jivjt",
        "outputId": "17e364bb-ef1c-4261-bfb2-6b704be29cec"
      },
      "execution_count": null,
      "outputs": [
        {
          "output_type": "stream",
          "name": "stdout",
          "text": [
            "['Ghpeda Pws na apokthsete hlektroniko eisithrio me kinhto Huawei H diadikasia', 'Synodos Koryfhs Proshlwsh sth synolikh dieythethsh toy Kypriakoy']\n",
            "[11, 8]\n"
          ]
        }
      ]
    },
    {
      "cell_type": "code",
      "source": [
        "url = urlsL[2]"
      ],
      "metadata": {
        "id": "a9euVZngi7Ny"
      },
      "execution_count": null,
      "outputs": []
    },
    {
      "cell_type": "code",
      "source": [
        "url = url.split(\"/\")\n",
        "title = url[-1]\n",
        "index_start = title.index(\"-\")\n",
        "title = title[index_start+1 : ]\n",
        "title = title.replace(\"-\", \" \")\n",
        "titles_list.append(title)\n",
        "title_words = title.split(\" \")\n",
        "words_nbr = len(title_words)\n",
        "words_nbr_list.append(words_nbr)\n",
        "print(titles_list)\n",
        "print(words_nbr_list)"
      ],
      "metadata": {
        "colab": {
          "base_uri": "https://localhost:8080/"
        },
        "id": "eHMw97WIkHrx",
        "outputId": "0af8f617-137d-45c9-a2f0-1c65f037a3d8"
      },
      "execution_count": null,
      "outputs": [
        {
          "output_type": "stream",
          "name": "stdout",
          "text": [
            "['Ghpeda Pws na apokthsete hlektroniko eisithrio me kinhto Huawei H diadikasia', 'Synodos Koryfhs Proshlwsh sth synolikh dieythethsh toy Kypriakoy', 'AVE Apo 12 4 se diapragmateysh oi 20,64 ekat nees metoches']\n",
            "[11, 8, 11]\n"
          ]
        }
      ]
    },
    {
      "cell_type": "code",
      "source": [
        "url = urlsL[3]"
      ],
      "metadata": {
        "id": "r5JrWW2PkJKk"
      },
      "execution_count": null,
      "outputs": []
    },
    {
      "cell_type": "code",
      "source": [
        "url = url.split(\"/\")\n",
        "title = url[-1]\n",
        "index_start = title.index(\"-\")\n",
        "title = title[index_start+1 : ]\n",
        "title = title.replace(\"-\", \" \")\n",
        "titles_list.append(title)\n",
        "title_words = title.split(\" \")\n",
        "words_nbr = len(title_words)\n",
        "words_nbr_list.append(words_nbr)\n",
        "print(titles_list)\n",
        "print(words_nbr_list)"
      ],
      "metadata": {
        "colab": {
          "base_uri": "https://localhost:8080/"
        },
        "id": "R8FMXEzBkNR9",
        "outputId": "0bb08c17-1b90-421d-f2e1-04ca40e358d6"
      },
      "execution_count": null,
      "outputs": [
        {
          "output_type": "stream",
          "name": "stdout",
          "text": [
            "['Ghpeda Pws na apokthsete hlektroniko eisithrio me kinhto Huawei H diadikasia', 'Synodos Koryfhs Proshlwsh sth synolikh dieythethsh toy Kypriakoy', 'AVE Apo 12 4 se diapragmateysh oi 20,64 ekat nees metoches', 'Meikta proshma stis eyrwagores meta to alma plhthwrismoy stis HPA']\n",
            "[11, 8, 11, 10]\n"
          ]
        }
      ]
    },
    {
      "cell_type": "markdown",
      "source": [
        "# **Ασκήσεις 5ης εβδομάδας**"
      ],
      "metadata": {
        "id": "hk23e00WkUHe"
      }
    },
    {
      "cell_type": "markdown",
      "source": [
        "Είδαμε ότι ο παραπάνω κώδικας δουλεύει για όλα τα urls των άρθρων του reporter.gr.\n",
        "\n",
        "Αλλά, παρότι ο κώδικας είναι ο ίδιος **για κάθε** url, τον κάναμε copy-paste και τον ξανατρέχαμε, γιατί έπρεπε πρώτα να αλλάζουμε χειροκίνητα το url - να ορίζουμε εμείς ένα ένα τα urls από τη λίστα των urls.\n",
        "\n",
        "Είδαμε ότι αν θέλουμε να κάνουμε **το ίδιο πράγμα** σε πολλά αντικείμενα μιας λίστας **(σε κάθε αντικείμενο μιας λίστας)**, μπορούμε να χρησιμοποιήσουμε μια for loop."
      ],
      "metadata": {
        "id": "a15nek0EkfmO"
      }
    },
    {
      "cell_type": "markdown",
      "source": [
        "Παράδειγμα for loop"
      ],
      "metadata": {
        "id": "u_lxKIGFmu27"
      }
    },
    {
      "cell_type": "code",
      "source": [
        "defendersL = [\"Γιώργος Τζαβέλλας\",\n",
        "             \"Κωνσταντίνος Μαυροπάνος\",\n",
        "             \"Κώστας Κουλιεράκης\",\n",
        "             \"Κώστας Τσιμίκας\",\n",
        "             \"Λάζαρος Ρότα\",\n",
        "             \"Μανώλης Σάλιακας\",\n",
        "             \"Παναγιώτης Ρέτσος\",\n",
        "             \"Παντελής Χατζηδιάκος\",\n",
        "             \"Τζορτζ Μπάλντοκ\"]"
      ],
      "metadata": {
        "id": "1FDkdTfCn1mK"
      },
      "execution_count": null,
      "outputs": []
    },
    {
      "cell_type": "code",
      "source": [
        "firstNamesL = []\n",
        "surNamesL = []"
      ],
      "metadata": {
        "id": "c858xWSSoy9X"
      },
      "execution_count": null,
      "outputs": []
    },
    {
      "cell_type": "code",
      "source": [
        "# για κάθε αντικείμενο στη λίστα defendersL (που είναι ονοματεπώνυμο)\n",
        "for defender in defendersL: # το defender, εγώ διαλέγω να το πω έτσι, θα μπορούσα να το πω x ή player ή item ή oposallios\n",
        "  # χώρισε το ονοματεπώνυμο σε όνομα και επώνυμο\n",
        "  name = defender.split(\" \") # το split(\" \") χωρίζει το ονοματεπώνυμο σε όνομα και επώνυμο και τα βάζει σε μια λίστα (άρα, το name είναι λίστα)\n",
        "  # βάλε το όνομα στη λίστα firstnamesL\n",
        "  firstNamesL.append(name[0]) # το name[0] είναι το πρώτο αντικείμενο στη λίστα name, δηλαδή το όνομα του παίκτη\n",
        "  # βάλε το επώνυμο, στη λίστα surNamesL\n",
        "  surNamesL.append(name[1]) # το name[1] είναι το δεύτερο αντικείμενο στη λίστα name, δηλαδή το επώνυμό του"
      ],
      "metadata": {
        "id": "QjFSrVN9kOSM"
      },
      "execution_count": null,
      "outputs": []
    },
    {
      "cell_type": "code",
      "source": [
        "print(firstNamesL)\n",
        "print(surNamesL)"
      ],
      "metadata": {
        "colab": {
          "base_uri": "https://localhost:8080/"
        },
        "id": "4yVZ0bIotZHn",
        "outputId": "0aa38772-2fbc-4e77-ed64-14855b396982"
      },
      "execution_count": null,
      "outputs": [
        {
          "output_type": "stream",
          "name": "stdout",
          "text": [
            "['Γιώργος', 'Κωνσταντίνος', 'Κώστας', 'Κώστας', 'Λάζαρος', 'Μανώλης', 'Παναγιώτης', 'Παντελής', 'Τζορτζ']\n",
            "['Τζαβέλλας', 'Μαυροπάνος', 'Κουλιεράκης', 'Τσιμίκας', 'Ρότα', 'Σάλιακας', 'Ρέτσος', 'Χατζηδιάκος', 'Μπάλντοκ']\n"
          ]
        }
      ]
    },
    {
      "cell_type": "markdown",
      "source": [
        "#### **Άσκηση 1** (40%)"
      ],
      "metadata": {
        "id": "aeqGkadGt4Ak"
      }
    },
    {
      "cell_type": "markdown",
      "source": [
        "Πάρτε (με copy-paste) τα κομμάτια κώδικα που υπάρχουν παραπάνω, (τα οποία διαχειρίζονται τα urls μιας λίστας: παίρνουν τους τίτλους και το πλήθος των λέξεών τους και τα βάζουν σε λίστες) και βάλτε τον μέσα σε μια for loop ώστε να τρέχει για κάθε url της λίστας urlsL."
      ],
      "metadata": {
        "id": "i-_ysg0Juw_A"
      }
    },
    {
      "cell_type": "markdown",
      "source": [
        "**Βοήθεια**: O κώδικας που θα γράψετε θα δομηθεί σε 4 cells:\n",
        "1. ορισμός της λίστας urlsL που μέσα έχει τα urls των άρθρων\n",
        "2. δημιουργία κενών λιστών: μια για τους τίτλους και μία για τα πλήθη των λέξεων των τίτλων\n",
        "3. for loop που θα κάνει όλη την επεξεργασία για κάθε url στη urlsL\n",
        "4. print το περιεχόμενο των λιστών"
      ],
      "metadata": {
        "id": "z-AaenZvvn0R"
      }
    },
    {
      "cell_type": "code",
      "source": [
        "urlsL = [\"https://www.reporter.gr/Oles-oi-eidhseis/600370-Ghpeda-Pws-na-apokthsete-hlektroniko-eisithrio-me-kinhto-Huawei-H-diadikasia\",\n",
        "    \"https://www.reporter.gr/Diethnh/Diethneis-Eidhseis/600372-Synodos-Koryfhs-Proshlwsh-sth-synolikh-dieythethsh-toy-Kypriakoy\",\n",
        "    \"https://www.reporter.gr/Analyseis/600531-AVE-Apo-12-4-se-diapragmateysh-oi-20,64-ekat-nees-metoches\",\n",
        "    \"https://www.reporter.gr/Diethnh/Chrhmatisthria/600539-Meikta-proshma-stis-eyrwagores-meta-to-alma-plhthwrismoy-stis-HPA\"]"
      ],
      "metadata": {
        "id": "68H4OYTDtm7i"
      },
      "execution_count": 5,
      "outputs": []
    },
    {
      "cell_type": "code",
      "source": [
        "titles_list = []\n",
        "words_nbr_list = []"
      ],
      "metadata": {
        "id": "w5kFCUpMvXgZ"
      },
      "execution_count": 6,
      "outputs": []
    },
    {
      "cell_type": "code",
      "source": [
        "for url in urlsL:\n",
        " url = url.split(\"/\")\n",
        " title = url[-1]\n",
        " index_start = title.index(\"-\")\n",
        " title = title[index_start+1 : ]\n",
        " title = title.replace(\"-\", \" \")\n",
        " titles_list.append(title)\n",
        " title_words = title.split(\" \")\n",
        " words_nbr = len(title_words)\n",
        " words_nbr_list.append(words_nbr)\n"
      ],
      "metadata": {
        "id": "ii_m3zmIvZsy"
      },
      "execution_count": 10,
      "outputs": []
    },
    {
      "cell_type": "code",
      "source": [
        "print(titles_list)\n",
        "print(words_nbr_list)"
      ],
      "metadata": {
        "colab": {
          "base_uri": "https://localhost:8080/"
        },
        "id": "XrVWC8xZwRDu",
        "outputId": "72fea439-6a8a-4de4-8e54-ec175c140bf7"
      },
      "execution_count": 11,
      "outputs": [
        {
          "output_type": "stream",
          "name": "stdout",
          "text": [
            "['Ghpeda Pws na apokthsete hlektroniko eisithrio me kinhto Huawei H diadikasia', 'Synodos Koryfhs Proshlwsh sth synolikh dieythethsh toy Kypriakoy', 'AVE Apo 12 4 se diapragmateysh oi 20,64 ekat nees metoches', 'Meikta proshma stis eyrwagores meta to alma plhthwrismoy stis HPA']\n",
            "[11, 8, 11, 10]\n"
          ]
        }
      ]
    },
    {
      "cell_type": "markdown",
      "source": [
        "#### **Άσκηση 2** (60%)\n",
        "\n",
        "Κάντε ακριβώς το ίδιο πράγμα για **4** urls άρθρων **διαφορετικών** κατηγοριών από το **efsyn.gr**.\n",
        "\n",
        "**Tip:** χρειάζεται να κάνετε μια μικρή τροποποίηση στον κώδικα"
      ],
      "metadata": {
        "id": "sjg_eUHDyRWz"
      }
    },
    {
      "cell_type": "code",
      "source": [
        "urlsL=['https://www.efsyn.gr/podcast/429549_thelei-na-toys-balei-fylaki-mporei',\n",
        "       'https://www.efsyn.gr/ellada/ygeia/429490_akrotiriasan-apo-ta-gonata-ta-podia-tis-foititrias-me-miniggitida',\n",
        "       'https://www.efsyn.gr/kosmos/afriki/429102_i-kratiki-aeroporiki-etaireia-tis-royanta-aperripse-shedio-soynak-gia',\n",
        "       'https://www.efsyn.gr/aytokinito/425345_3o-istoriko-rali-tripolis']"
      ],
      "metadata": {
        "id": "Rx6oVIp7yQBD"
      },
      "execution_count": 31,
      "outputs": []
    },
    {
      "cell_type": "code",
      "source": [
        "titles_list = []\n",
        "words_nbr_list = []"
      ],
      "metadata": {
        "id": "n8ZHS88KzM9z"
      },
      "execution_count": 32,
      "outputs": []
    },
    {
      "cell_type": "code",
      "source": [
        "for u in urlsL:\n",
        " u = u.split(\"/\")\n",
        " title = u[-1]\n",
        " index_start = title.index(\"_\")\n",
        " title = title[index_start+1 : ]\n",
        " title = title.replace(\"-\", \" \")\n",
        " titles_list.append(title)\n",
        " title_words = title.split(\" \")\n",
        " words_nbr = len(title_words)\n",
        " words_nbr_list.append(words_nbr)"
      ],
      "metadata": {
        "id": "NtoTFguJzNPg"
      },
      "execution_count": 33,
      "outputs": []
    },
    {
      "cell_type": "code",
      "source": [
        "print(titles_list)\n",
        "print(words_nbr_list)"
      ],
      "metadata": {
        "colab": {
          "base_uri": "https://localhost:8080/"
        },
        "id": "2grmaZWjyut5",
        "outputId": "d8cf114e-2fd7-4225-8449-2e187ef15dc9"
      },
      "execution_count": 34,
      "outputs": [
        {
          "output_type": "stream",
          "name": "stdout",
          "text": [
            "['thelei na toys balei fylaki mporei', 'akrotiriasan apo ta gonata ta podia tis foititrias me miniggitida', 'i kratiki aeroporiki etaireia tis royanta aperripse shedio soynak gia', '3o istoriko rali tripolis']\n",
            "[6, 10, 10, 4]\n"
          ]
        }
      ]
    },
    {
      "cell_type": "markdown",
      "source": [
        "\n",
        "\n",
        "---\n",
        "\n",
        "\n",
        "\n"
      ],
      "metadata": {
        "id": "cDxE-rXP5Lso"
      }
    },
    {
      "cell_type": "markdown",
      "source": [
        "**Bonus γνώση** για όποια/ον θέλει. Δεν είναι απαραίτητο για όσα κάνουμε στο μάθημα."
      ],
      "metadata": {
        "id": "ued2U1wQzLF_"
      }
    },
    {
      "cell_type": "markdown",
      "source": [
        "Ένα κομμάτι κώδικα που έχουμε γράψει για να κάνει κάτι, αν πρόκειται να χρησιμοποιήσουμε πολλές φορές το ίδιο, μπορούμε να του δώσουμε ένα όνομα και έτσι, κάθε φορά που θέλουμε να το χρησιμοποιήσουμε, μπορούμε να το φωνάζουμε με το όνομά του.\n",
        "\n",
        "Μπορούμε δηλαδή, να φτιάξουμε ένα δικό μας function."
      ],
      "metadata": {
        "id": "-IyZ0elKz5-e"
      }
    },
    {
      "cell_type": "markdown",
      "source": [
        "Στην περίπτωση των τίτλων από τα urls, θα μπορούσαμε να βάλουμε όλο τον κώδικα μέσα σε ένα function ως εξής:"
      ],
      "metadata": {
        "id": "TXJVHlI51EAQ"
      }
    },
    {
      "cell_type": "code",
      "source": [
        "def get_title_from_url(url):\n",
        "  url = url.split(\"/\")\n",
        "  title = url[-1]\n",
        "  index_start = title.index(\"_\")\n",
        "  title = title[index_start+1 : ]\n",
        "  title = title.replace(\"-\", \" \")\n",
        "  titles_list.append(title)\n",
        "  title_words = title.split(\" \")\n",
        "  words_nbr = len(title_words)\n",
        "  words_nbr_list.append(words_nbr)"
      ],
      "metadata": {
        "id": "QC1X8XoX0qL2"
      },
      "execution_count": 45,
      "outputs": []
    },
    {
      "cell_type": "code",
      "source": [
        "url=urlsL[0]\n",
        "titles_list = []\n",
        "words_nbr_list = []\n",
        "get_title_from_url(url)\n",
        "print(titles_list)\n",
        "print(words_nbr_list)\n",
        "\n"
      ],
      "metadata": {
        "id": "tTKzyF7C1JIV",
        "outputId": "2a0bb397-362c-4c56-880c-ab0ffb631f51",
        "colab": {
          "base_uri": "https://localhost:8080/"
        }
      },
      "execution_count": 46,
      "outputs": [
        {
          "output_type": "stream",
          "name": "stdout",
          "text": [
            "['thelei na toys balei fylaki mporei']\n",
            "[6]\n"
          ]
        }
      ]
    },
    {
      "cell_type": "markdown",
      "source": [
        "Έτσι, δημιουργούμε το function με όνομα get_title_from_url(), και μέσα στην παρένθεση βάζουμε το url που θέλουμε κάθε φορά.\n",
        "\n",
        "Λειτουργεί δηλαδή ακριβώς όπως π.χ. το print(url).\n",
        "\n",
        "To print(url) τυπώνει την τιμή που έχει η μεταβλητή url.\n",
        "\n",
        "To get_title_from_url(url) κάνει όλα αυτά που θέλουμε στην τιμή που έχει η μεταβλητή url."
      ],
      "metadata": {
        "id": "aS_oUdoZ2Dhn"
      }
    },
    {
      "cell_type": "code",
      "source": [
        "url = urlsL[0]"
      ],
      "metadata": {
        "id": "EyJ6cDyd3k4P"
      },
      "execution_count": null,
      "outputs": []
    },
    {
      "cell_type": "code",
      "source": [
        "titles_list = []\n",
        "words_nbr_list = []"
      ],
      "metadata": {
        "id": "A3h8hQjQzudr"
      },
      "execution_count": null,
      "outputs": []
    },
    {
      "cell_type": "code",
      "source": [
        "get_title_from_url(url)\n",
        "print(titles_list)\n",
        "print(words_nbr_list)"
      ],
      "metadata": {
        "colab": {
          "base_uri": "https://localhost:8080/"
        },
        "id": "GjBUQzJP33o1",
        "outputId": "24343931-fe36-44a8-d089-77a2857aa747"
      },
      "execution_count": null,
      "outputs": [
        {
          "output_type": "stream",
          "name": "stdout",
          "text": [
            "['Ghpeda Pws na apokthsete hlektroniko eisithrio me kinhto Huawei H diadikasia']\n",
            "[11]\n"
          ]
        }
      ]
    },
    {
      "cell_type": "markdown",
      "source": [
        "Και σε λούπα:"
      ],
      "metadata": {
        "id": "m1MykxPA4QlE"
      }
    },
    {
      "cell_type": "code",
      "source": [
        "titles_list = []\n",
        "words_nbr_list = []"
      ],
      "metadata": {
        "id": "Abq0pzEJ4OLi"
      },
      "execution_count": null,
      "outputs": []
    },
    {
      "cell_type": "code",
      "source": [
        "for item in urlsL:\n",
        "  get_title_from_url(item)"
      ],
      "metadata": {
        "id": "ux3Y69524bjn"
      },
      "execution_count": null,
      "outputs": []
    },
    {
      "cell_type": "code",
      "source": [
        "print(titles_list)\n",
        "print(words_nbr_list)"
      ],
      "metadata": {
        "colab": {
          "base_uri": "https://localhost:8080/"
        },
        "id": "T69JmJsx4jPt",
        "outputId": "7dae9954-390e-4336-a26b-2ccc95f5cc72"
      },
      "execution_count": null,
      "outputs": [
        {
          "output_type": "stream",
          "name": "stdout",
          "text": [
            "['Ghpeda Pws na apokthsete hlektroniko eisithrio me kinhto Huawei H diadikasia', 'Synodos Koryfhs Proshlwsh sth synolikh dieythethsh toy Kypriakoy', 'AVE Apo 12 4 se diapragmateysh oi 20,64 ekat nees metoches', 'Meikta proshma stis eyrwagores meta to alma plhthwrismoy stis HPA']\n",
            "[11, 8, 11, 10]\n"
          ]
        }
      ]
    },
    {
      "cell_type": "code",
      "source": [],
      "metadata": {
        "id": "lMYpPStY41LB"
      },
      "execution_count": null,
      "outputs": []
    }
  ]
}