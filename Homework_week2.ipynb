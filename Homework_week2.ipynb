{
  "nbformat": 4,
  "nbformat_minor": 0,
  "metadata": {
    "colab": {
      "provenance": [],
      "include_colab_link": true
    },
    "kernelspec": {
      "name": "python3",
      "display_name": "Python 3"
    },
    "language_info": {
      "name": "python"
    }
  },
  "cells": [
    {
      "cell_type": "markdown",
      "metadata": {
        "id": "view-in-github",
        "colab_type": "text"
      },
      "source": [
        "<a href=\"https://colab.research.google.com/github/tinouirini/Homework_week2/blob/main/Homework_week2.ipynb\" target=\"_parent\"><img src=\"https://colab.research.google.com/assets/colab-badge.svg\" alt=\"Open In Colab\"/></a>"
      ]
    },
    {
      "cell_type": "markdown",
      "source": [
        "**Άσκηση 1**\n",
        "\n",
        "1. Σε ένα νέο κελί κώδικα, ξαναγράψτε τον παρακάτω κώδικα, έτσι ώστε να τρέχει χωρίς να πετάει error."
      ],
      "metadata": {
        "id": "RNY03X7pKHnf"
      }
    },
    {
      "cell_type": "code",
      "source": [
        "my name = \"Vasilis\"\n",
        "my-email = bill2005@example.com\n",
        "myAM_4first#digits = 9983\n",
        "2FavoriteMovies = \"Life of Bryan,\" + \" The meaning of life\""
      ],
      "metadata": {
        "id": "1duhjtEIKNJx"
      },
      "execution_count": null,
      "outputs": []
    },
    {
      "cell_type": "code",
      "source": [
        "myName = \"Vasilis\"\n",
        "myEmail = 'bill2005@example.com'\n",
        "myAM4firstDigits = 9983\n",
        "Favorite2Movies =\"Life of Bryan,\" + \"The meaning of life\""
      ],
      "metadata": {
        "id": "96xy8jVz0jmm"
      },
      "execution_count": 3,
      "outputs": []
    },
    {
      "cell_type": "markdown",
      "source": [
        "2. Tυπώστε (print) τον τύπο δεδομένων καθεμιάς από τις παραπάνω μεταβλητές"
      ],
      "metadata": {
        "id": "uWOJYGCtPaS8"
      }
    },
    {
      "cell_type": "code",
      "source": [
        "print(type(myName) )\n",
        "print(type(myEmail))\n",
        "print(type(myAM4firstDigits))\n",
        "print(type(Favorite2Movies))"
      ],
      "metadata": {
        "colab": {
          "base_uri": "https://localhost:8080/"
        },
        "id": "cK1J7u9X2lnq",
        "outputId": "39b83abe-5a75-4ff8-eb80-b7ec932c1f58"
      },
      "execution_count": 64,
      "outputs": [
        {
          "output_type": "stream",
          "name": "stdout",
          "text": [
            "<class 'str'>\n",
            "<class 'str'>\n",
            "<class 'int'>\n",
            "<class 'str'>\n"
          ]
        }
      ]
    },
    {
      "cell_type": "markdown",
      "source": [
        "**Άσκηση 2**\n",
        "- Βρείτε ένα άρθρο σε ένα ειδησεογραφικό site.\n",
        "- Φτιάξτε ένα νέο κελί κώδικα (ή όσα θέλετε) ακριβώς κάτω από αυτό και δημιουργήστε μεταβλητές με τα εξής στοιχεία:\n",
        "  - Τίτλος άρθρου\n",
        "  - Ημερομηνία δημοσίευσης\n",
        "  - Όνομα site\n",
        "  - url άρθρου\n",
        "- Τυπώστε (print) μια πρόταση της μορφής: Το άρθρο τάδε δημοσιεύτηκε στο τάδε site την τάδε ημερομηνία και βρίσκεται στην τάδε ηλεκτρονική διεύθυνση."
      ],
      "metadata": {
        "id": "iKYSWrCOLxwA"
      }
    },
    {
      "cell_type": "markdown",
      "source": [
        "Σουδάν: Ο εμφύλιος αργοσβήνει τη χώρα - Ο λαός πεθαίνει από πείνα και αρρώστιες\n",
        "Ανανεώθηκε: Δευτέρα, 25 Μαρτίου 2024 21:42\n",
        "\n",
        "Από τη μια ο στρατός με επικεφαλής το στρατηγό Αμπντέλ-Φατάχ αλ Μπουρχάν, και από την άλλη οι παραστρατιωτικές Δυνάμεις Ταχείας Υποστήριξης με επικεφαλής τον πρώην πολέμαρχο στρατηγό Μοχάμετ Χαμντάν Νταγκαλό. Οι δύο πλευρές είχαν συνεργαστεί για την ανατροπή του προέδρου Ομάρ Αλ Μπασίρ εν μέσω λαϊκής εξέγερσης το 2019 στο Σουδάν και συνεργάστηκαν ξανά το 2021 σε ένα νέο πραξικόπημα που εκτροχίασε τη διαδικασία πολιτικής μετάβασης για την διεξαγωγή εκλογών.\n",
        "\n",
        "Ο νέος εμφύλιος ξέσπασε στα μέσα Απριλίου του 2023 όταν οι Δυνάμεις Ταχείας Υποστήριξης του Νταγκαλό αρνήθηκαν να ενσωματωθούν στο στρατό με βάση το νέο πρόγραμμα πολιτικής μετάβασης. Έκτοτε η χώρα έχει βυθιστεί στη βία και την πείνα.\n",
        "\n",
        "Ο πόλεμος έχει σχεδόν ερημώσει την πρωτεύουσα, έχει οδηγήσει σε εθνοκάθαρση τη Δυτική περιοχή του Νταρφούρ, με αποτέλεσμα 8 εκατομμύρια άνθρωποι να έχουν εγκαταλείψει τις εστίες του, μεταναστεύοντας είτε στο εσωτερικό είτε στο εξωτερικό.\n",
        "\n",
        "Πολλές από τις γειτονικές χώρες του Σουδάν έχουν επηρεαστεί αρνητικά από την κρίση λόγω του προσφυγικού κύματος που πυροδότησε ο πόλεμος.\n",
        "\n",
        "Στόχος των αντιμαχόμενων πλευρών δεν είναι μόνο οι πλούσιοι φυσικοί πόροι του Σουδάν αλλά η εξουσία σε μια χώρα με στρατηγική θέση. Το Σουδάν βρίσκεται σε μια ευρύτερη ασταθή περιοχή που συνορεύει με την Ερυθρά Θάλασσα, την περιοχή του Σαχέλ ενώ η χώρα ανήκει στο Κέρας της Αφρικής.\n",
        "\n",
        "Και πολλές είναι οι μεγάλες, δυνάμεις που ανταγωνίζονται αυτή τη στιγμή για απόκτηση επιρροής στο Σουδάν, όπως η Σ. Αραβία, τα Ηνωμένα Αραβικά Εμιράτα, η Αίγυπτος, η Εριθρέα, η Αιθιοπία, το Ιράν, η Ρωσία και οι Ηνωμένες Πολιτείες."
      ],
      "metadata": {
        "id": "VWqdoCYyW0WE"
      }
    },
    {
      "cell_type": "code",
      "source": [
        "titleArticle=\"Σουδάν: Ο εμφύλιος αργοσβήνει τη χώρα - Ο λαός πεθαίνει από πείνα και αρρώστιες\"\n",
        "publishDate =\"Δευτέρα, 25 Μαρτίου 2024 21:42\"\n",
        "siteName= \"CNN Greece\"\n",
        "urlArticle= \"https://www.cnn.gr/kosmos/story/411681/soudan-o-emfylios-argosvinei-ti-xora-o-laos-pethainei-apo-peina-kai-arrosties\"\n",
        "\n",
        "\n",
        "print (\"Το άρθρο \" + titleArticle + \" δημοσιευτηκέ στο \" + siteName + \" την \" + publishDate + \" και βρίσκεται στο \" + urlArticle)"
      ],
      "metadata": {
        "colab": {
          "base_uri": "https://localhost:8080/"
        },
        "id": "IviqWFV5SmH-",
        "outputId": "16d74d49-8dfa-45d5-861e-c4faf906ff27"
      },
      "execution_count": 67,
      "outputs": [
        {
          "output_type": "stream",
          "name": "stdout",
          "text": [
            "Το άρθρο Σουδάν: Ο εμφύλιος αργοσβήνει τη χώρα - Ο λαός πεθαίνει από πείνα και αρρώστιες δημοσιευτηκέ στο CNN Greece την Δευτέρα, 25 Μαρτίου 2024 21:42 και βρίσκεται στο https://www.cnn.gr/kosmos/story/411681/soudan-o-emfylios-argosvinei-ti-xora-o-laos-pethainei-apo-peina-kai-arrosties\n"
          ]
        }
      ]
    },
    {
      "cell_type": "markdown",
      "source": [
        "**Άσκηση 3**\n",
        "\n",
        "Σε ένα νέο κελί, μετατρέψτε τον τύπο της μεταβλητής ή των μεταβλητών που απαιτείται, έτσι ώστε να μπορεί να εκτελεστεί σωστά η παρακάτω πράξη:\n",
        "\n",
        "(μην γράψετε σωστά την τιμή της/τους - αλλάξτε τον τύπο δεδομένων)\n",
        "(Tip: κάνετε copy-paste τις 2 τελευταίες γραμμές και κάνετε τη διόρθωση που απαιτείται στην προτελευταία γραμμή)"
      ],
      "metadata": {
        "id": "pklY5u3eQKLZ"
      }
    },
    {
      "cell_type": "code",
      "source": [
        "monthly_rent = \"300\"\n",
        "months = 12\n",
        "yearly_rent = monthly_rent * months\n",
        "print(yearly_rent)"
      ],
      "metadata": {
        "colab": {
          "base_uri": "https://localhost:8080/"
        },
        "id": "aLfDQbayNkVd",
        "outputId": "2d328b16-a7a8-4bf3-d420-dbccd23b4f14"
      },
      "execution_count": 80,
      "outputs": [
        {
          "output_type": "stream",
          "name": "stdout",
          "text": [
            "300300300300300300300300300300300300\n"
          ]
        }
      ]
    },
    {
      "cell_type": "code",
      "source": [
        "yearly_rent= int(monthly_rent)*months\n",
        "print(yearly_rent)"
      ],
      "metadata": {
        "colab": {
          "base_uri": "https://localhost:8080/"
        },
        "id": "9f-9sCwPAUEI",
        "outputId": "e9c78760-b7da-4c38-f619-e477d88bcb7c"
      },
      "execution_count": 86,
      "outputs": [
        {
          "output_type": "stream",
          "name": "stdout",
          "text": [
            "3600\n"
          ]
        }
      ]
    },
    {
      "cell_type": "markdown",
      "source": [
        "**Άσκηση 4**\n",
        "\n",
        "1. Βρείτε το αποτέλεσμα της πρόσθεσης του 132 με το 13 και τυπώστε το σαν string (σε μία γραμμή κώδικα)\n",
        "2. Βρείτε το τετράγωνο του πηλίκου της διαίρεσης του παραπάνω αθροίσματος με το υπόλοιπο της διαίρεσης του 132 με το 13 και τυπώστε το σαν δεκαδικό (σε μια γραμμή κώδικα)\n",
        "\n",
        "Tip: μπορείτε να κάνετε μία-μία τις πράξεις ώστε να ελέγχετε ότι το αποτέλεσμα της καθεμίας είναι σωστό και στο τέλος να βάλετε όλες τις εντολές σε μία γραμμή (αναγκαστικά θα υπάρχουν πολλές παρενθέσεις)"
      ],
      "metadata": {
        "id": "4-MexfUhUJr5"
      }
    },
    {
      "cell_type": "code",
      "source": [
        "print(str(132+13))\n",
        "print(float(((132+13)//(132%13))**2))"
      ],
      "metadata": {
        "colab": {
          "base_uri": "https://localhost:8080/"
        },
        "id": "vPeRFD3lBTed",
        "outputId": "55f7590d-715e-4d24-deec-354d19711154"
      },
      "execution_count": 109,
      "outputs": [
        {
          "output_type": "stream",
          "name": "stdout",
          "text": [
            "145\n",
            "5184.0\n"
          ]
        }
      ]
    },
    {
      "cell_type": "markdown",
      "source": [
        "**Άσκηση 5**\n",
        "\n",
        "Γράψτε μια γραμμή κώδικα κάτω από το παρακάτω κελί, έτσι ώστε κάθε φορά που θα το τρέχετε, να τυπώνετε (print) η τιμή της μεταβητής counter αυξημένη κατά 1."
      ],
      "metadata": {
        "id": "i9uTmCdLa1F6"
      }
    },
    {
      "cell_type": "code",
      "source": [
        "counter = 1"
      ],
      "metadata": {
        "id": "-Y0-XA9CbNFw"
      },
      "execution_count": 7,
      "outputs": []
    },
    {
      "cell_type": "code",
      "source": [
        "# γράψτε τη ζητούμενη εντολή ακριβώς κάτω από τα σχόλια και πριν την εντολή print(counter)\n",
        "# και τρέξτε το κελί 5-6 φορές\n",
        "# κάθε φορά που το τρέχετε, θα πρέπει ο αριθμός που τυπώνεται να είναι μεγαλύτερος από τον προηγούμενο κατά 1\n",
        "counter=counter+1\n",
        "print(counter)"
      ],
      "metadata": {
        "id": "LkXxdJgUbvkQ",
        "colab": {
          "base_uri": "https://localhost:8080/"
        },
        "outputId": "423c15ca-9bee-469e-c5e8-93feadded7fa"
      },
      "execution_count": 62,
      "outputs": [
        {
          "output_type": "stream",
          "name": "stdout",
          "text": [
            "9\n"
          ]
        }
      ]
    }
  ]
}